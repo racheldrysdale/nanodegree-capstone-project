{
 "cells": [
  {
   "cell_type": "markdown",
   "id": "bfa10bd0",
   "metadata": {},
   "source": [
    "# Data Science Capstone Project - Sentiment Analysis on Tweets"
   ]
  },
  {
   "cell_type": "markdown",
   "id": "bda8e321",
   "metadata": {},
   "source": [
    "#### Background \n",
    "Accompanying notebook for Capstone project of Udacity's Data Science Nanodegree. <br>\n",
    "#### Context \n",
    "My chosen case study was Sentiment Analysis, in other words, processing natural language data to understand the writer's feelings or emotions. <br>\n",
    "#### Data\n",
    "I obtained my dataset from Kaggle.  The data is 1.6 million Tweets obtained from Twitter in 2009.  The Tweets are split evenly with 800k Tweets of Positive sentiment and 800k Tweets of Negative sentiment.  The data gives each Tweet an identifier, as well as giving the date (in the PDT timezone), the user who wrote the Tweet, and the text of the Tweet itself.  I thank Marios Michailidis for providing the dataset.\n",
    "#### Results\n",
    "The results of the analysis can be found at the following blog post on Medium: <br>\n",
    "*** Remember to put blog post link in ***\n",
    "#### References and Credits \n",
    "I learned a lot about model evaluation from the following two articles: <br>\n",
    "https://towardsdatascience.com/how-to-get-feature-importances-from-any-sklearn-pipeline-167a19f1214 <br>\n",
    "https://machinelearningmastery.com/roc-curves-and-precision-recall-curves-for-classification-in-python/ <br> \n",
    "I also utilised Stack Overflow and the library documentation, particilarly that for SciKitLearn."
   ]
  },
  {
   "cell_type": "markdown",
   "id": "a9aea00e",
   "metadata": {},
   "source": [
    "## Import libraries and load data"
   ]
  },
  {
   "cell_type": "code",
   "execution_count": 1,
   "id": "f02863ea",
   "metadata": {},
   "outputs": [],
   "source": [
    "# Import libraries\n",
    "import pandas as pd\n",
    "import numpy as np\n",
    "import langdetect\n",
    "from sqlalchemy import create_engine\n",
    "from nltk import word_tokenize, TweetTokenizer\n",
    "from nltk.tokenize.treebank import TreebankWordDetokenizer\n",
    "import re\n",
    "import nltk\n",
    "from nltk.corpus import stopwords\n",
    "from nltk.stem.wordnet import WordNetLemmatizer\n",
    "from sklearn.base import BaseEstimator, TransformerMixin\n",
    "from sklearn.model_selection import train_test_split, GridSearchCV\n",
    "from sklearn.feature_extraction.text import CountVectorizer, TfidfTransformer\n",
    "from sklearn.pipeline import Pipeline, FeatureUnion\n",
    "from sklearn.tree import DecisionTreeClassifier\n",
    "from sklearn.linear_model import LogisticRegression\n",
    "from sklearn.metrics import classification_report, accuracy_score, confusion_matrix, roc_auc_score, roc_curve\n",
    "import pickle\n",
    "import matplotlib.pyplot as plt\n",
    "import seaborn as sns\n",
    "from wordcloud import WordCloud\n",
    "sns.set_style(\"ticks\")\n",
    "sns.set_palette(\"colorblind\")"
   ]
  },
  {
   "cell_type": "code",
   "execution_count": 3,
   "id": "b5a68b35",
   "metadata": {},
   "outputs": [],
   "source": [
    "# Specify column names as they are not in the CSV\n",
    "cols = ['sentiment', 'id', 'date', 'flag', 'user', 'text']"
   ]
  },
  {
   "cell_type": "code",
   "execution_count": 4,
   "id": "bc0000d8",
   "metadata": {},
   "outputs": [],
   "source": [
    "# Import data\n",
    "tweets_raw = pd.read_csv('tweets.csv', encoding=\"utf-8\", encoding_errors=\"ignore\", header=None, names=cols)"
   ]
  },
  {
   "cell_type": "code",
   "execution_count": 16,
   "id": "174797f1",
   "metadata": {},
   "outputs": [
    {
     "data": {
      "text/html": [
       "<div>\n",
       "<style scoped>\n",
       "    .dataframe tbody tr th:only-of-type {\n",
       "        vertical-align: middle;\n",
       "    }\n",
       "\n",
       "    .dataframe tbody tr th {\n",
       "        vertical-align: top;\n",
       "    }\n",
       "\n",
       "    .dataframe thead th {\n",
       "        text-align: right;\n",
       "    }\n",
       "</style>\n",
       "<table border=\"1\" class=\"dataframe\">\n",
       "  <thead>\n",
       "    <tr style=\"text-align: right;\">\n",
       "      <th></th>\n",
       "      <th>sentiment</th>\n",
       "      <th>id</th>\n",
       "      <th>date</th>\n",
       "      <th>flag</th>\n",
       "      <th>user</th>\n",
       "      <th>text</th>\n",
       "    </tr>\n",
       "  </thead>\n",
       "  <tbody>\n",
       "    <tr>\n",
       "      <th>0</th>\n",
       "      <td>0</td>\n",
       "      <td>1467810369</td>\n",
       "      <td>Mon Apr 06 22:19:45 PDT 2009</td>\n",
       "      <td>NO_QUERY</td>\n",
       "      <td>_TheSpecialOne_</td>\n",
       "      <td>@switchfoot http://twitpic.com/2y1zl - Awww, t...</td>\n",
       "    </tr>\n",
       "    <tr>\n",
       "      <th>1</th>\n",
       "      <td>0</td>\n",
       "      <td>1467810672</td>\n",
       "      <td>Mon Apr 06 22:19:49 PDT 2009</td>\n",
       "      <td>NO_QUERY</td>\n",
       "      <td>scotthamilton</td>\n",
       "      <td>is upset that he can't update his Facebook by ...</td>\n",
       "    </tr>\n",
       "    <tr>\n",
       "      <th>2</th>\n",
       "      <td>0</td>\n",
       "      <td>1467810917</td>\n",
       "      <td>Mon Apr 06 22:19:53 PDT 2009</td>\n",
       "      <td>NO_QUERY</td>\n",
       "      <td>mattycus</td>\n",
       "      <td>@Kenichan I dived many times for the ball. Man...</td>\n",
       "    </tr>\n",
       "    <tr>\n",
       "      <th>3</th>\n",
       "      <td>0</td>\n",
       "      <td>1467811184</td>\n",
       "      <td>Mon Apr 06 22:19:57 PDT 2009</td>\n",
       "      <td>NO_QUERY</td>\n",
       "      <td>ElleCTF</td>\n",
       "      <td>my whole body feels itchy and like its on fire</td>\n",
       "    </tr>\n",
       "    <tr>\n",
       "      <th>4</th>\n",
       "      <td>0</td>\n",
       "      <td>1467811193</td>\n",
       "      <td>Mon Apr 06 22:19:57 PDT 2009</td>\n",
       "      <td>NO_QUERY</td>\n",
       "      <td>Karoli</td>\n",
       "      <td>@nationwideclass no, it's not behaving at all....</td>\n",
       "    </tr>\n",
       "    <tr>\n",
       "      <th>5</th>\n",
       "      <td>0</td>\n",
       "      <td>1467811372</td>\n",
       "      <td>Mon Apr 06 22:20:00 PDT 2009</td>\n",
       "      <td>NO_QUERY</td>\n",
       "      <td>joy_wolf</td>\n",
       "      <td>@Kwesidei not the whole crew</td>\n",
       "    </tr>\n",
       "    <tr>\n",
       "      <th>6</th>\n",
       "      <td>0</td>\n",
       "      <td>1467811592</td>\n",
       "      <td>Mon Apr 06 22:20:03 PDT 2009</td>\n",
       "      <td>NO_QUERY</td>\n",
       "      <td>mybirch</td>\n",
       "      <td>Need a hug</td>\n",
       "    </tr>\n",
       "    <tr>\n",
       "      <th>7</th>\n",
       "      <td>0</td>\n",
       "      <td>1467811594</td>\n",
       "      <td>Mon Apr 06 22:20:03 PDT 2009</td>\n",
       "      <td>NO_QUERY</td>\n",
       "      <td>coZZ</td>\n",
       "      <td>@LOLTrish hey  long time no see! Yes.. Rains a...</td>\n",
       "    </tr>\n",
       "    <tr>\n",
       "      <th>8</th>\n",
       "      <td>0</td>\n",
       "      <td>1467811795</td>\n",
       "      <td>Mon Apr 06 22:20:05 PDT 2009</td>\n",
       "      <td>NO_QUERY</td>\n",
       "      <td>2Hood4Hollywood</td>\n",
       "      <td>@Tatiana_K nope they didn't have it</td>\n",
       "    </tr>\n",
       "    <tr>\n",
       "      <th>9</th>\n",
       "      <td>0</td>\n",
       "      <td>1467812025</td>\n",
       "      <td>Mon Apr 06 22:20:09 PDT 2009</td>\n",
       "      <td>NO_QUERY</td>\n",
       "      <td>mimismo</td>\n",
       "      <td>@twittera que me muera ?</td>\n",
       "    </tr>\n",
       "  </tbody>\n",
       "</table>\n",
       "</div>"
      ],
      "text/plain": [
       "   sentiment          id                          date      flag  \\\n",
       "0          0  1467810369  Mon Apr 06 22:19:45 PDT 2009  NO_QUERY   \n",
       "1          0  1467810672  Mon Apr 06 22:19:49 PDT 2009  NO_QUERY   \n",
       "2          0  1467810917  Mon Apr 06 22:19:53 PDT 2009  NO_QUERY   \n",
       "3          0  1467811184  Mon Apr 06 22:19:57 PDT 2009  NO_QUERY   \n",
       "4          0  1467811193  Mon Apr 06 22:19:57 PDT 2009  NO_QUERY   \n",
       "5          0  1467811372  Mon Apr 06 22:20:00 PDT 2009  NO_QUERY   \n",
       "6          0  1467811592  Mon Apr 06 22:20:03 PDT 2009  NO_QUERY   \n",
       "7          0  1467811594  Mon Apr 06 22:20:03 PDT 2009  NO_QUERY   \n",
       "8          0  1467811795  Mon Apr 06 22:20:05 PDT 2009  NO_QUERY   \n",
       "9          0  1467812025  Mon Apr 06 22:20:09 PDT 2009  NO_QUERY   \n",
       "\n",
       "              user                                               text  \n",
       "0  _TheSpecialOne_  @switchfoot http://twitpic.com/2y1zl - Awww, t...  \n",
       "1    scotthamilton  is upset that he can't update his Facebook by ...  \n",
       "2         mattycus  @Kenichan I dived many times for the ball. Man...  \n",
       "3          ElleCTF    my whole body feels itchy and like its on fire   \n",
       "4           Karoli  @nationwideclass no, it's not behaving at all....  \n",
       "5         joy_wolf                      @Kwesidei not the whole crew   \n",
       "6          mybirch                                        Need a hug   \n",
       "7             coZZ  @LOLTrish hey  long time no see! Yes.. Rains a...  \n",
       "8  2Hood4Hollywood               @Tatiana_K nope they didn't have it   \n",
       "9          mimismo                          @twittera que me muera ?   "
      ]
     },
     "execution_count": 16,
     "metadata": {},
     "output_type": "execute_result"
    }
   ],
   "source": [
    "# Check out the first few rows of the data\n",
    "tweets_raw.head(10)"
   ]
  },
  {
   "cell_type": "markdown",
   "id": "740d4d1c",
   "metadata": {},
   "source": [
    "## Explore the data"
   ]
  },
  {
   "cell_type": "code",
   "execution_count": 96,
   "id": "61f24a4c",
   "metadata": {},
   "outputs": [
    {
     "data": {
      "text/plain": [
       "(1600000, 6)"
      ]
     },
     "execution_count": 96,
     "metadata": {},
     "output_type": "execute_result"
    }
   ],
   "source": [
    "tweets_raw.shape"
   ]
  },
  {
   "cell_type": "markdown",
   "id": "00b4702a",
   "metadata": {},
   "source": [
    "We're working with 1.6 million rows with 6 columns."
   ]
  },
  {
   "cell_type": "code",
   "execution_count": 97,
   "id": "2f8d189d",
   "metadata": {},
   "outputs": [
    {
     "data": {
      "text/plain": [
       "\"@switchfoot http://twitpic.com/2y1zl - Awww, that's a bummer.  You shoulda got David Carr of Third Day to do it. ;D\""
      ]
     },
     "execution_count": 97,
     "metadata": {},
     "output_type": "execute_result"
    }
   ],
   "source": [
    "# Check a full text string\n",
    "tweets_raw.text[0]"
   ]
  },
  {
   "cell_type": "code",
   "execution_count": 98,
   "id": "db939548",
   "metadata": {},
   "outputs": [
    {
     "data": {
      "text/plain": [
       "0    800000\n",
       "4    800000\n",
       "Name: sentiment, dtype: int64"
      ]
     },
     "execution_count": 98,
     "metadata": {},
     "output_type": "execute_result"
    }
   ],
   "source": [
    "# Check the balance of the data\n",
    "tweets_raw.sentiment.value_counts()"
   ]
  },
  {
   "cell_type": "markdown",
   "id": "ef389576",
   "metadata": {},
   "source": [
    "We have an exactly balanced dataset with 800k tweets each for positive and negative, where a 0 indicates a negative Tweet and 4 indicates a positive Tweet."
   ]
  },
  {
   "cell_type": "code",
   "execution_count": 99,
   "id": "87a0be67",
   "metadata": {},
   "outputs": [
    {
     "data": {
      "text/plain": [
       "NO_QUERY    1600000\n",
       "Name: flag, dtype: int64"
      ]
     },
     "execution_count": 99,
     "metadata": {},
     "output_type": "execute_result"
    }
   ],
   "source": [
    "# Check balance of the flags column\n",
    "tweets_raw.flag.value_counts()"
   ]
  },
  {
   "cell_type": "markdown",
   "id": "f695f8cd",
   "metadata": {},
   "source": [
    "All rows have the \"NO_QUERY\" flag - we will just drop this column."
   ]
  },
  {
   "cell_type": "code",
   "execution_count": 101,
   "id": "0f89fc4e",
   "metadata": {},
   "outputs": [
    {
     "data": {
      "text/html": [
       "<div>\n",
       "<style scoped>\n",
       "    .dataframe tbody tr th:only-of-type {\n",
       "        vertical-align: middle;\n",
       "    }\n",
       "\n",
       "    .dataframe tbody tr th {\n",
       "        vertical-align: top;\n",
       "    }\n",
       "\n",
       "    .dataframe thead th {\n",
       "        text-align: right;\n",
       "    }\n",
       "</style>\n",
       "<table border=\"1\" class=\"dataframe\">\n",
       "  <thead>\n",
       "    <tr style=\"text-align: right;\">\n",
       "      <th></th>\n",
       "      <th>sentiment</th>\n",
       "      <th>id</th>\n",
       "      <th>date</th>\n",
       "      <th>flag</th>\n",
       "      <th>user</th>\n",
       "      <th>text</th>\n",
       "    </tr>\n",
       "  </thead>\n",
       "  <tbody>\n",
       "  </tbody>\n",
       "</table>\n",
       "</div>"
      ],
      "text/plain": [
       "Empty DataFrame\n",
       "Columns: [sentiment, id, date, flag, user, text]\n",
       "Index: []"
      ]
     },
     "execution_count": 101,
     "metadata": {},
     "output_type": "execute_result"
    }
   ],
   "source": [
    "# Check for duplicates\n",
    "tweets_raw[tweets_raw.duplicated()]"
   ]
  },
  {
   "cell_type": "markdown",
   "id": "cd6adde3",
   "metadata": {},
   "source": [
    "There are no duplicates in our data."
   ]
  },
  {
   "cell_type": "code",
   "execution_count": 102,
   "id": "9a9c24b4",
   "metadata": {},
   "outputs": [
    {
     "data": {
      "text/plain": [
       "lost_dog           549\n",
       "webwoke            345\n",
       "tweetpet           310\n",
       "SallytheShizzle    281\n",
       "VioletsCRUK        279\n",
       "mcraddictal        276\n",
       "tsarnick           248\n",
       "what_bugs_u        246\n",
       "Karen230683        238\n",
       "DarkPiano          236\n",
       "Name: user, dtype: int64"
      ]
     },
     "execution_count": 102,
     "metadata": {},
     "output_type": "execute_result"
    }
   ],
   "source": [
    "# Check the top users\n",
    "tweets_raw.user.value_counts()[:10]"
   ]
  },
  {
   "cell_type": "markdown",
   "id": "9a150110",
   "metadata": {},
   "source": [
    "The top Tweeter in our date period posted 549 Tweets - an average of around 14 Tweets per day."
   ]
  },
  {
   "cell_type": "markdown",
   "id": "1c85db50",
   "metadata": {},
   "source": [
    "We can probably remove the user column as well as it shouldn't have any bearing in theory on whether a Tweet was negative or positive (although we can note that some users might be more likely to Tweet negatively and vice versa)."
   ]
  },
  {
   "cell_type": "markdown",
   "id": "5e7f8b85",
   "metadata": {},
   "source": [
    "## Clean the data"
   ]
  },
  {
   "cell_type": "markdown",
   "id": "d958adc1",
   "metadata": {},
   "source": [
    "### Drop the rows we don't need"
   ]
  },
  {
   "cell_type": "code",
   "execution_count": 103,
   "id": "c5abc4c1",
   "metadata": {},
   "outputs": [],
   "source": [
    "tweets_raw = tweets_raw.drop(['id', 'date', 'flag', 'user'], axis=1)"
   ]
  },
  {
   "cell_type": "code",
   "execution_count": 104,
   "id": "06a7593e",
   "metadata": {},
   "outputs": [
    {
     "data": {
      "text/html": [
       "<div>\n",
       "<style scoped>\n",
       "    .dataframe tbody tr th:only-of-type {\n",
       "        vertical-align: middle;\n",
       "    }\n",
       "\n",
       "    .dataframe tbody tr th {\n",
       "        vertical-align: top;\n",
       "    }\n",
       "\n",
       "    .dataframe thead th {\n",
       "        text-align: right;\n",
       "    }\n",
       "</style>\n",
       "<table border=\"1\" class=\"dataframe\">\n",
       "  <thead>\n",
       "    <tr style=\"text-align: right;\">\n",
       "      <th></th>\n",
       "      <th>sentiment</th>\n",
       "      <th>text</th>\n",
       "    </tr>\n",
       "  </thead>\n",
       "  <tbody>\n",
       "    <tr>\n",
       "      <th>0</th>\n",
       "      <td>0</td>\n",
       "      <td>@switchfoot http://twitpic.com/2y1zl - Awww, t...</td>\n",
       "    </tr>\n",
       "    <tr>\n",
       "      <th>1</th>\n",
       "      <td>0</td>\n",
       "      <td>is upset that he can't update his Facebook by ...</td>\n",
       "    </tr>\n",
       "    <tr>\n",
       "      <th>2</th>\n",
       "      <td>0</td>\n",
       "      <td>@Kenichan I dived many times for the ball. Man...</td>\n",
       "    </tr>\n",
       "    <tr>\n",
       "      <th>3</th>\n",
       "      <td>0</td>\n",
       "      <td>my whole body feels itchy and like its on fire</td>\n",
       "    </tr>\n",
       "    <tr>\n",
       "      <th>4</th>\n",
       "      <td>0</td>\n",
       "      <td>@nationwideclass no, it's not behaving at all....</td>\n",
       "    </tr>\n",
       "  </tbody>\n",
       "</table>\n",
       "</div>"
      ],
      "text/plain": [
       "   sentiment                                               text\n",
       "0          0  @switchfoot http://twitpic.com/2y1zl - Awww, t...\n",
       "1          0  is upset that he can't update his Facebook by ...\n",
       "2          0  @Kenichan I dived many times for the ball. Man...\n",
       "3          0    my whole body feels itchy and like its on fire \n",
       "4          0  @nationwideclass no, it's not behaving at all...."
      ]
     },
     "execution_count": 104,
     "metadata": {},
     "output_type": "execute_result"
    }
   ],
   "source": [
    "tweets_raw.head()"
   ]
  },
  {
   "cell_type": "code",
   "execution_count": 105,
   "id": "13128eda",
   "metadata": {},
   "outputs": [
    {
     "data": {
      "text/plain": [
       "0     @switchfoot http://twitpic.com/2y1zl - Awww, t...\n",
       "1     is upset that he can't update his Facebook by ...\n",
       "2     @Kenichan I dived many times for the ball. Man...\n",
       "3       my whole body feels itchy and like its on fire \n",
       "4     @nationwideclass no, it's not behaving at all....\n",
       "5                         @Kwesidei not the whole crew \n",
       "6                                           Need a hug \n",
       "7     @LOLTrish hey  long time no see! Yes.. Rains a...\n",
       "8                  @Tatiana_K nope they didn't have it \n",
       "9                             @twittera que me muera ? \n",
       "10          spring break in plain city... it's snowing \n",
       "11                           I just re-pierced my ears \n",
       "12    @caregiving I couldn't bear to watch it.  And ...\n",
       "13    @octolinz16 It it counts, idk why I did either...\n",
       "14    @smarrison i would've been the first, but i di...\n",
       "15    @iamjazzyfizzle I wish I got to watch it with ...\n",
       "16    Hollis' death scene will hurt me severely to w...\n",
       "17                                 about to file taxes \n",
       "18    @LettyA ahh ive always wanted to see rent  lov...\n",
       "19    @FakerPattyPattz Oh dear. Were you drinking ou...\n",
       "20    @alydesigns i was out most of the day so didn'...\n",
       "21    one of my friend called me, and asked to meet ...\n",
       "22     @angry_barista I baked you a cake but I ated it \n",
       "23               this week is not going as i had hoped \n",
       "24                           blagh class at 8 tomorrow \n",
       "25       I hate when I have to call and wake people up \n",
       "26    Just going to cry myself to sleep after watchi...\n",
       "27                               im sad now  Miss.Lilly\n",
       "28    ooooh.... LOL  that leslie.... and ok I won't ...\n",
       "29    Meh... Almost Lover is the exception... this t...\n",
       "30    some1 hacked my account on aim  now i have to ...\n",
       "31    @alielayus I want to go to promote GEAR AND GR...\n",
       "32    thought sleeping in was an option tomorrow but...\n",
       "33    @julieebaby awe i love you too!!!! 1 am here  ...\n",
       "34    @HumpNinja I cry my asian eyes to sleep at night \n",
       "35    ok I'm sick and spent an hour sitting in the s...\n",
       "36    @cocomix04 ill tell ya the story later  not a ...\n",
       "37    @MissXu sorry! bed time came here (GMT+1)   ht...\n",
       "38    @fleurylis I don't either. Its depressing. I d...\n",
       "39    Bed. Class 8-12. Work 12-3. Gym 3-5 or 6. Then...\n",
       "Name: text, dtype: object"
      ]
     },
     "execution_count": 105,
     "metadata": {},
     "output_type": "execute_result"
    }
   ],
   "source": [
    "tweets_raw.text[:10]"
   ]
  },
  {
   "cell_type": "markdown",
   "id": "bb57e258",
   "metadata": {},
   "source": [
    "It looks like a lot of tweets are replies to other people so we probably want to remove the reply handles.  The first tweet also has a link - we'll want to remove these too.  We should also replace emoji and hashtags with placeholders as well."
   ]
  },
  {
   "cell_type": "markdown",
   "id": "f69568f9",
   "metadata": {},
   "source": [
    "### Replace emojis with placeholders"
   ]
  },
  {
   "cell_type": "code",
   "execution_count": 2,
   "id": "e514e801",
   "metadata": {},
   "outputs": [],
   "source": [
    "# Source: https://en.wikipedia.org/wiki/List_of_emoticons\n",
    "# We'll just take the most common emoji and generalise to happy/sad/laugh/shock\n",
    "# e.g. we'll put \"angry\" emoji into \"sad\"\n",
    "\n",
    "happy_emoji = [\":‑))\", \":)\", \":-]\", \":]\", \":-3\", \":3\", \":->\", \":>\", \"8-)\", \"8)\", \":-}\", \":}\", \":o)\", \"B)\",\n",
    "\":^)\", \"=]\", \"=)\", \":-)\", \";‑)\", \";)\", \";‑]\", \";]\", \";D\", \"B-)\", \n",
    "\":'‑)\", \":')\", \":‑P\", \":P\", \"X‑P\", \"XP\", \"xp\", \":‑p\", \":p\", \n",
    "\"d:\", \"=p\", \">:P\", \"O:‑)\", \"O:)\", \"0:‑3\", \"0:3\", \"0:‑)\", \"0:)\", \"0;^)\", \":-*\", \":*\", \":×\",\n",
    "\">:‑)\", \">;)\", \">:3\", \";3\"]\n",
    "\n",
    "laugh_emoji = [\":‑D\", \":D\", \"8‑D\", \"8D\", \"x‑D\", \"xD\", \"X‑D\", \"XD\", \"=D\", \"=3\", \"c:\", \"C:\"]\n",
    "\n",
    "sad_emoji = [\":‑(\", \":(\", \":‑c\", \":c\", \":‑<\", \":<\", \":‑[\", \":[\", \":-||\", \">:[\", \":{\", \":@\", \":(\", \":$\",\n",
    "\";(\", \":'‑(\", \":'(\", \":=(\", \"D‑':\", \"D:<\", \"D:\", \"D8\", \"D;\", \"D=\", \"DX\", \":-/\", \":/\", \":‑.\", \">:(\", \">:-(\"\n",
    "\">:\\\\\", \">:/\", \":\\\\\", \"=/\", \"=\\\\\", \":L\", \"=L\", \":S\", \":‑|\", \":|\", \"<_<\", \">_>\", \"<.<\", \">.>\"]\n",
    "\n",
    "shock_emoji = [\":‑O\", \":O\", \":‑o\", \":o\", \":-0\", \"8‑0\", \">:O\"]\n",
    "\n",
    "emoji_dict = {\"happyface\": happy_emoji, \n",
    "              \"laughface\": laugh_emoji, \n",
    "              \"sadface\": sad_emoji, \n",
    "              \"shockface\": shock_emoji}\n"
   ]
  },
  {
   "cell_type": "markdown",
   "id": "ef770a09",
   "metadata": {},
   "source": [
    "In the next step where we create a function to clean the text, we will need to tokenize the text.  For this use case, we will use NLTK's TweetTokenizer, an adaptation of the regular Tokenize function which is more suited to Twitter data."
   ]
  },
  {
   "cell_type": "code",
   "execution_count": 3,
   "id": "05064af0",
   "metadata": {},
   "outputs": [],
   "source": [
    "# Set up tokenizer which we'll need in the next step\n",
    "tokenizer = TweetTokenizer(preserve_case=False, reduce_len=True, match_phone_numbers=False)"
   ]
  },
  {
   "cell_type": "code",
   "execution_count": 4,
   "id": "773de525",
   "metadata": {},
   "outputs": [],
   "source": [
    "# Write a function that performing basic cleaning on the text data by replacing links, @ replies, hashtags, and emoji\n",
    "def clean_text(text):\n",
    "    '''\n",
    "    Cleans the text data by replacing URLs, @-replies, hashtags, and emoji with text placeholders.\n",
    "    \n",
    "    INPUT:\n",
    "    text - (str) text data to be cleaned\n",
    "    \n",
    "    OUTPUT:\n",
    "    text - (str) cleaned text data with placeholders\n",
    "    '''\n",
    "    \n",
    "    # Define regex expressions\n",
    "    url_regex = 'https?\\S+|www\\.\\S+'\n",
    "    reply_regex = '@\\S+'\n",
    "    hashtag_regex = '#\\S+'\n",
    "    \n",
    "    # Replace URLs\n",
    "    detected_urls = re.findall(url_regex, text)\n",
    "    for url in detected_urls:\n",
    "        text = text.replace(url, \"urlplaceholder\")\n",
    "        \n",
    "    # Replace @ reply handles\n",
    "    detected_replies = re.findall(reply_regex, text)\n",
    "    for reply in detected_replies:\n",
    "        text = text.replace(reply, \"replyplaceholder\")\n",
    "        \n",
    "    # Replace hashtags\n",
    "    detected_hashtags = re.findall(hashtag_regex, text)\n",
    "    for hashtag in detected_hashtags:\n",
    "        text = text.replace(hashtag, \"hashtagplaceholder\")\n",
    "        \n",
    "    # Replace emoji by tokenizing then replacing common emoji with placeholders\n",
    "    tokens = tokenizer.tokenize(text)\n",
    "    \n",
    "    for i in range(len(tokens)):\n",
    "        for key, values in emoji_dict.items():\n",
    "            if tokens[i] in values:\n",
    "                tokens[i] = key\n",
    "    \n",
    "    # Convert back to text string        \n",
    "    text = TreebankWordDetokenizer().detokenize(tokens)\n",
    "    \n",
    "    return text\n",
    "    "
   ]
  },
  {
   "cell_type": "code",
   "execution_count": 111,
   "id": "5ed8c66a",
   "metadata": {},
   "outputs": [],
   "source": [
    "# Apply the text cleaning to our text column\n",
    "tweets_raw[\"clean_text\"] = tweets_raw[\"text\"].apply(lambda x: clean_text(x))"
   ]
  },
  {
   "cell_type": "code",
   "execution_count": 112,
   "id": "2a5dbbb8",
   "metadata": {
    "scrolled": true
   },
   "outputs": [
    {
     "data": {
      "text/html": [
       "<div>\n",
       "<style scoped>\n",
       "    .dataframe tbody tr th:only-of-type {\n",
       "        vertical-align: middle;\n",
       "    }\n",
       "\n",
       "    .dataframe tbody tr th {\n",
       "        vertical-align: top;\n",
       "    }\n",
       "\n",
       "    .dataframe thead th {\n",
       "        text-align: right;\n",
       "    }\n",
       "</style>\n",
       "<table border=\"1\" class=\"dataframe\">\n",
       "  <thead>\n",
       "    <tr style=\"text-align: right;\">\n",
       "      <th></th>\n",
       "      <th>sentiment</th>\n",
       "      <th>text</th>\n",
       "      <th>clean_text</th>\n",
       "    </tr>\n",
       "  </thead>\n",
       "  <tbody>\n",
       "    <tr>\n",
       "      <th>0</th>\n",
       "      <td>0</td>\n",
       "      <td>@switchfoot http://twitpic.com/2y1zl - Awww, t...</td>\n",
       "      <td>replyplaceholder urlplaceholder - awww, that's...</td>\n",
       "    </tr>\n",
       "    <tr>\n",
       "      <th>1</th>\n",
       "      <td>0</td>\n",
       "      <td>is upset that he can't update his Facebook by ...</td>\n",
       "      <td>is upset that he can't update his facebook by ...</td>\n",
       "    </tr>\n",
       "    <tr>\n",
       "      <th>2</th>\n",
       "      <td>0</td>\n",
       "      <td>@Kenichan I dived many times for the ball. Man...</td>\n",
       "      <td>replyplaceholder i dived many times for the ba...</td>\n",
       "    </tr>\n",
       "    <tr>\n",
       "      <th>3</th>\n",
       "      <td>0</td>\n",
       "      <td>my whole body feels itchy and like its on fire</td>\n",
       "      <td>my whole body feels itchy and like its on fire</td>\n",
       "    </tr>\n",
       "    <tr>\n",
       "      <th>4</th>\n",
       "      <td>0</td>\n",
       "      <td>@nationwideclass no, it's not behaving at all....</td>\n",
       "      <td>replyplaceholder no, it's not behaving at all ...</td>\n",
       "    </tr>\n",
       "    <tr>\n",
       "      <th>...</th>\n",
       "      <td>...</td>\n",
       "      <td>...</td>\n",
       "      <td>...</td>\n",
       "    </tr>\n",
       "    <tr>\n",
       "      <th>1599995</th>\n",
       "      <td>4</td>\n",
       "      <td>Just woke up. Having no school is the best fee...</td>\n",
       "      <td>just woke up . having no school is the best fe...</td>\n",
       "    </tr>\n",
       "    <tr>\n",
       "      <th>1599996</th>\n",
       "      <td>4</td>\n",
       "      <td>TheWDB.com - Very cool to hear old Walt interv...</td>\n",
       "      <td>thewdb.com - very cool to hear old walt interv...</td>\n",
       "    </tr>\n",
       "    <tr>\n",
       "      <th>1599997</th>\n",
       "      <td>4</td>\n",
       "      <td>Are you ready for your MoJo Makeover? Ask me f...</td>\n",
       "      <td>are you ready for your mojo makeover? ask me f...</td>\n",
       "    </tr>\n",
       "    <tr>\n",
       "      <th>1599998</th>\n",
       "      <td>4</td>\n",
       "      <td>Happy 38th Birthday to my boo of alll time!!! ...</td>\n",
       "      <td>happy 38th birthday to my boo of alll time!!! ...</td>\n",
       "    </tr>\n",
       "    <tr>\n",
       "      <th>1599999</th>\n",
       "      <td>4</td>\n",
       "      <td>happy #charitytuesday @theNSPCC @SparksCharity...</td>\n",
       "      <td>happy hashtagplaceholder replyplaceholder repl...</td>\n",
       "    </tr>\n",
       "  </tbody>\n",
       "</table>\n",
       "<p>1600000 rows × 3 columns</p>\n",
       "</div>"
      ],
      "text/plain": [
       "         sentiment                                               text  \\\n",
       "0                0  @switchfoot http://twitpic.com/2y1zl - Awww, t...   \n",
       "1                0  is upset that he can't update his Facebook by ...   \n",
       "2                0  @Kenichan I dived many times for the ball. Man...   \n",
       "3                0    my whole body feels itchy and like its on fire    \n",
       "4                0  @nationwideclass no, it's not behaving at all....   \n",
       "...            ...                                                ...   \n",
       "1599995          4  Just woke up. Having no school is the best fee...   \n",
       "1599996          4  TheWDB.com - Very cool to hear old Walt interv...   \n",
       "1599997          4  Are you ready for your MoJo Makeover? Ask me f...   \n",
       "1599998          4  Happy 38th Birthday to my boo of alll time!!! ...   \n",
       "1599999          4  happy #charitytuesday @theNSPCC @SparksCharity...   \n",
       "\n",
       "                                                clean_text  \n",
       "0        replyplaceholder urlplaceholder - awww, that's...  \n",
       "1        is upset that he can't update his facebook by ...  \n",
       "2        replyplaceholder i dived many times for the ba...  \n",
       "3           my whole body feels itchy and like its on fire  \n",
       "4        replyplaceholder no, it's not behaving at all ...  \n",
       "...                                                    ...  \n",
       "1599995  just woke up . having no school is the best fe...  \n",
       "1599996  thewdb.com - very cool to hear old walt interv...  \n",
       "1599997  are you ready for your mojo makeover? ask me f...  \n",
       "1599998  happy 38th birthday to my boo of alll time!!! ...  \n",
       "1599999  happy hashtagplaceholder replyplaceholder repl...  \n",
       "\n",
       "[1600000 rows x 3 columns]"
      ]
     },
     "execution_count": 112,
     "metadata": {},
     "output_type": "execute_result"
    }
   ],
   "source": [
    "# Check the results\n",
    "tweets_raw.head(10)"
   ]
  },
  {
   "cell_type": "markdown",
   "id": "dfdcc979",
   "metadata": {},
   "source": [
    "Looks like the text cleaning has worked well."
   ]
  },
  {
   "cell_type": "code",
   "execution_count": 113,
   "id": "1f70f9df",
   "metadata": {},
   "outputs": [],
   "source": [
    "# Drop the original text column now that we've got the cleaned text\n",
    "tweets = tweets_raw.drop(\"text\", axis=1)"
   ]
  },
  {
   "cell_type": "code",
   "execution_count": 114,
   "id": "ac4e6144",
   "metadata": {},
   "outputs": [],
   "source": [
    "# Rename the new column back to \"text\" for ease\n",
    "tweets = tweets.rename(columns={\"clean_text\": \"text\"})"
   ]
  },
  {
   "cell_type": "code",
   "execution_count": 115,
   "id": "1634c6ea",
   "metadata": {},
   "outputs": [
    {
     "data": {
      "text/html": [
       "<div>\n",
       "<style scoped>\n",
       "    .dataframe tbody tr th:only-of-type {\n",
       "        vertical-align: middle;\n",
       "    }\n",
       "\n",
       "    .dataframe tbody tr th {\n",
       "        vertical-align: top;\n",
       "    }\n",
       "\n",
       "    .dataframe thead th {\n",
       "        text-align: right;\n",
       "    }\n",
       "</style>\n",
       "<table border=\"1\" class=\"dataframe\">\n",
       "  <thead>\n",
       "    <tr style=\"text-align: right;\">\n",
       "      <th></th>\n",
       "      <th>sentiment</th>\n",
       "      <th>text</th>\n",
       "    </tr>\n",
       "  </thead>\n",
       "  <tbody>\n",
       "    <tr>\n",
       "      <th>0</th>\n",
       "      <td>0</td>\n",
       "      <td>replyplaceholder urlplaceholder - awww, that's...</td>\n",
       "    </tr>\n",
       "    <tr>\n",
       "      <th>1</th>\n",
       "      <td>0</td>\n",
       "      <td>is upset that he can't update his facebook by ...</td>\n",
       "    </tr>\n",
       "    <tr>\n",
       "      <th>2</th>\n",
       "      <td>0</td>\n",
       "      <td>replyplaceholder i dived many times for the ba...</td>\n",
       "    </tr>\n",
       "    <tr>\n",
       "      <th>3</th>\n",
       "      <td>0</td>\n",
       "      <td>my whole body feels itchy and like its on fire</td>\n",
       "    </tr>\n",
       "    <tr>\n",
       "      <th>4</th>\n",
       "      <td>0</td>\n",
       "      <td>replyplaceholder no, it's not behaving at all ...</td>\n",
       "    </tr>\n",
       "    <tr>\n",
       "      <th>...</th>\n",
       "      <td>...</td>\n",
       "      <td>...</td>\n",
       "    </tr>\n",
       "    <tr>\n",
       "      <th>1599995</th>\n",
       "      <td>4</td>\n",
       "      <td>just woke up . having no school is the best fe...</td>\n",
       "    </tr>\n",
       "    <tr>\n",
       "      <th>1599996</th>\n",
       "      <td>4</td>\n",
       "      <td>thewdb.com - very cool to hear old walt interv...</td>\n",
       "    </tr>\n",
       "    <tr>\n",
       "      <th>1599997</th>\n",
       "      <td>4</td>\n",
       "      <td>are you ready for your mojo makeover? ask me f...</td>\n",
       "    </tr>\n",
       "    <tr>\n",
       "      <th>1599998</th>\n",
       "      <td>4</td>\n",
       "      <td>happy 38th birthday to my boo of alll time!!! ...</td>\n",
       "    </tr>\n",
       "    <tr>\n",
       "      <th>1599999</th>\n",
       "      <td>4</td>\n",
       "      <td>happy hashtagplaceholder replyplaceholder repl...</td>\n",
       "    </tr>\n",
       "  </tbody>\n",
       "</table>\n",
       "<p>1600000 rows × 2 columns</p>\n",
       "</div>"
      ],
      "text/plain": [
       "         sentiment                                               text\n",
       "0                0  replyplaceholder urlplaceholder - awww, that's...\n",
       "1                0  is upset that he can't update his facebook by ...\n",
       "2                0  replyplaceholder i dived many times for the ba...\n",
       "3                0     my whole body feels itchy and like its on fire\n",
       "4                0  replyplaceholder no, it's not behaving at all ...\n",
       "...            ...                                                ...\n",
       "1599995          4  just woke up . having no school is the best fe...\n",
       "1599996          4  thewdb.com - very cool to hear old walt interv...\n",
       "1599997          4  are you ready for your mojo makeover? ask me f...\n",
       "1599998          4  happy 38th birthday to my boo of alll time!!! ...\n",
       "1599999          4  happy hashtagplaceholder replyplaceholder repl...\n",
       "\n",
       "[1600000 rows x 2 columns]"
      ]
     },
     "execution_count": 115,
     "metadata": {},
     "output_type": "execute_result"
    }
   ],
   "source": [
    "# Check the results\n",
    "tweets"
   ]
  },
  {
   "cell_type": "code",
   "execution_count": 116,
   "id": "a7925ed3",
   "metadata": {},
   "outputs": [],
   "source": [
    "# Change sentiment column to read \"positive\" or \"negative\"\n",
    "tweets.sentiment = tweets.sentiment.replace({0: \"negative\", 4: \"positive\"})"
   ]
  },
  {
   "cell_type": "code",
   "execution_count": 117,
   "id": "417caaee",
   "metadata": {},
   "outputs": [
    {
     "data": {
      "text/html": [
       "<div>\n",
       "<style scoped>\n",
       "    .dataframe tbody tr th:only-of-type {\n",
       "        vertical-align: middle;\n",
       "    }\n",
       "\n",
       "    .dataframe tbody tr th {\n",
       "        vertical-align: top;\n",
       "    }\n",
       "\n",
       "    .dataframe thead th {\n",
       "        text-align: right;\n",
       "    }\n",
       "</style>\n",
       "<table border=\"1\" class=\"dataframe\">\n",
       "  <thead>\n",
       "    <tr style=\"text-align: right;\">\n",
       "      <th></th>\n",
       "      <th>sentiment</th>\n",
       "      <th>text</th>\n",
       "    </tr>\n",
       "  </thead>\n",
       "  <tbody>\n",
       "    <tr>\n",
       "      <th>0</th>\n",
       "      <td>negative</td>\n",
       "      <td>replyplaceholder urlplaceholder - awww, that's...</td>\n",
       "    </tr>\n",
       "    <tr>\n",
       "      <th>1</th>\n",
       "      <td>negative</td>\n",
       "      <td>is upset that he can't update his facebook by ...</td>\n",
       "    </tr>\n",
       "    <tr>\n",
       "      <th>2</th>\n",
       "      <td>negative</td>\n",
       "      <td>replyplaceholder i dived many times for the ba...</td>\n",
       "    </tr>\n",
       "    <tr>\n",
       "      <th>3</th>\n",
       "      <td>negative</td>\n",
       "      <td>my whole body feels itchy and like its on fire</td>\n",
       "    </tr>\n",
       "    <tr>\n",
       "      <th>4</th>\n",
       "      <td>negative</td>\n",
       "      <td>replyplaceholder no, it's not behaving at all ...</td>\n",
       "    </tr>\n",
       "    <tr>\n",
       "      <th>...</th>\n",
       "      <td>...</td>\n",
       "      <td>...</td>\n",
       "    </tr>\n",
       "    <tr>\n",
       "      <th>1599995</th>\n",
       "      <td>positive</td>\n",
       "      <td>just woke up . having no school is the best fe...</td>\n",
       "    </tr>\n",
       "    <tr>\n",
       "      <th>1599996</th>\n",
       "      <td>positive</td>\n",
       "      <td>thewdb.com - very cool to hear old walt interv...</td>\n",
       "    </tr>\n",
       "    <tr>\n",
       "      <th>1599997</th>\n",
       "      <td>positive</td>\n",
       "      <td>are you ready for your mojo makeover? ask me f...</td>\n",
       "    </tr>\n",
       "    <tr>\n",
       "      <th>1599998</th>\n",
       "      <td>positive</td>\n",
       "      <td>happy 38th birthday to my boo of alll time!!! ...</td>\n",
       "    </tr>\n",
       "    <tr>\n",
       "      <th>1599999</th>\n",
       "      <td>positive</td>\n",
       "      <td>happy hashtagplaceholder replyplaceholder repl...</td>\n",
       "    </tr>\n",
       "  </tbody>\n",
       "</table>\n",
       "<p>1600000 rows × 2 columns</p>\n",
       "</div>"
      ],
      "text/plain": [
       "        sentiment                                               text\n",
       "0        negative  replyplaceholder urlplaceholder - awww, that's...\n",
       "1        negative  is upset that he can't update his facebook by ...\n",
       "2        negative  replyplaceholder i dived many times for the ba...\n",
       "3        negative     my whole body feels itchy and like its on fire\n",
       "4        negative  replyplaceholder no, it's not behaving at all ...\n",
       "...           ...                                                ...\n",
       "1599995  positive  just woke up . having no school is the best fe...\n",
       "1599996  positive  thewdb.com - very cool to hear old walt interv...\n",
       "1599997  positive  are you ready for your mojo makeover? ask me f...\n",
       "1599998  positive  happy 38th birthday to my boo of alll time!!! ...\n",
       "1599999  positive  happy hashtagplaceholder replyplaceholder repl...\n",
       "\n",
       "[1600000 rows x 2 columns]"
      ]
     },
     "execution_count": 117,
     "metadata": {},
     "output_type": "execute_result"
    }
   ],
   "source": [
    "# Check the results\n",
    "tweets"
   ]
  },
  {
   "cell_type": "code",
   "execution_count": 118,
   "id": "b73504ca",
   "metadata": {},
   "outputs": [
    {
     "data": {
      "text/plain": [
       "negative    800000\n",
       "positive    800000\n",
       "Name: sentiment, dtype: int64"
      ]
     },
     "execution_count": 118,
     "metadata": {},
     "output_type": "execute_result"
    }
   ],
   "source": [
    "# Double check we still have the same sentiment counts\n",
    "tweets.sentiment.value_counts()"
   ]
  },
  {
   "cell_type": "code",
   "execution_count": 119,
   "id": "a4e87bfd",
   "metadata": {},
   "outputs": [
    {
     "data": {
      "text/plain": [
       "\"replyplaceholder urlplaceholder - awww, that's a bummer . you shoulda got david carr of third day to do it . happyface\""
      ]
     },
     "execution_count": 119,
     "metadata": {},
     "output_type": "execute_result"
    }
   ],
   "source": [
    "tweets.text[0]"
   ]
  },
  {
   "cell_type": "code",
   "execution_count": 120,
   "id": "4898ac48",
   "metadata": {},
   "outputs": [
    {
     "data": {
      "text/plain": [
       "'thewdb.com - very cool to hear old walt interviews! ♫ urlplaceholder'"
      ]
     },
     "execution_count": 120,
     "metadata": {},
     "output_type": "execute_result"
    }
   ],
   "source": [
    "tweets.text[1599996]"
   ]
  },
  {
   "cell_type": "markdown",
   "id": "21424fe8",
   "metadata": {},
   "source": [
    "### Save clean data to an SQLite database for the future"
   ]
  },
  {
   "cell_type": "code",
   "execution_count": 122,
   "id": "566393ca",
   "metadata": {},
   "outputs": [],
   "source": [
    "# Save the dataframe\n",
    "engine = create_engine('sqlite:///TweetsSentimentAnalysis.db')\n",
    "tweets.to_sql('tweets_cleaned', engine, if_exists=\"replace\", index=False)"
   ]
  },
  {
   "cell_type": "code",
   "execution_count": 17,
   "id": "90d9eea5",
   "metadata": {},
   "outputs": [],
   "source": [
    "# Load the dataframe - can start from here when working in the future\n",
    "engine = create_engine('sqlite:///TweetsSentimentAnalysis.db')\n",
    "tweets = pd.read_sql_table('tweets_cleaned', engine)"
   ]
  },
  {
   "cell_type": "code",
   "execution_count": 18,
   "id": "c9b68031",
   "metadata": {},
   "outputs": [
    {
     "data": {
      "text/html": [
       "<div>\n",
       "<style scoped>\n",
       "    .dataframe tbody tr th:only-of-type {\n",
       "        vertical-align: middle;\n",
       "    }\n",
       "\n",
       "    .dataframe tbody tr th {\n",
       "        vertical-align: top;\n",
       "    }\n",
       "\n",
       "    .dataframe thead th {\n",
       "        text-align: right;\n",
       "    }\n",
       "</style>\n",
       "<table border=\"1\" class=\"dataframe\">\n",
       "  <thead>\n",
       "    <tr style=\"text-align: right;\">\n",
       "      <th></th>\n",
       "      <th>sentiment</th>\n",
       "      <th>text</th>\n",
       "    </tr>\n",
       "  </thead>\n",
       "  <tbody>\n",
       "    <tr>\n",
       "      <th>0</th>\n",
       "      <td>negative</td>\n",
       "      <td>replyplaceholder urlplaceholder - awww, that's...</td>\n",
       "    </tr>\n",
       "    <tr>\n",
       "      <th>1</th>\n",
       "      <td>negative</td>\n",
       "      <td>is upset that he can't update his facebook by ...</td>\n",
       "    </tr>\n",
       "    <tr>\n",
       "      <th>2</th>\n",
       "      <td>negative</td>\n",
       "      <td>replyplaceholder i dived many times for the ba...</td>\n",
       "    </tr>\n",
       "    <tr>\n",
       "      <th>3</th>\n",
       "      <td>negative</td>\n",
       "      <td>my whole body feels itchy and like its on fire</td>\n",
       "    </tr>\n",
       "    <tr>\n",
       "      <th>4</th>\n",
       "      <td>negative</td>\n",
       "      <td>replyplaceholder no, it's not behaving at all ...</td>\n",
       "    </tr>\n",
       "    <tr>\n",
       "      <th>...</th>\n",
       "      <td>...</td>\n",
       "      <td>...</td>\n",
       "    </tr>\n",
       "    <tr>\n",
       "      <th>1599995</th>\n",
       "      <td>positive</td>\n",
       "      <td>just woke up . having no school is the best fe...</td>\n",
       "    </tr>\n",
       "    <tr>\n",
       "      <th>1599996</th>\n",
       "      <td>positive</td>\n",
       "      <td>thewdb.com - very cool to hear old walt interv...</td>\n",
       "    </tr>\n",
       "    <tr>\n",
       "      <th>1599997</th>\n",
       "      <td>positive</td>\n",
       "      <td>are you ready for your mojo makeover? ask me f...</td>\n",
       "    </tr>\n",
       "    <tr>\n",
       "      <th>1599998</th>\n",
       "      <td>positive</td>\n",
       "      <td>happy 38th birthday to my boo of alll time!!! ...</td>\n",
       "    </tr>\n",
       "    <tr>\n",
       "      <th>1599999</th>\n",
       "      <td>positive</td>\n",
       "      <td>happy hashtagplaceholder replyplaceholder repl...</td>\n",
       "    </tr>\n",
       "  </tbody>\n",
       "</table>\n",
       "<p>1600000 rows × 2 columns</p>\n",
       "</div>"
      ],
      "text/plain": [
       "        sentiment                                               text\n",
       "0        negative  replyplaceholder urlplaceholder - awww, that's...\n",
       "1        negative  is upset that he can't update his facebook by ...\n",
       "2        negative  replyplaceholder i dived many times for the ba...\n",
       "3        negative     my whole body feels itchy and like its on fire\n",
       "4        negative  replyplaceholder no, it's not behaving at all ...\n",
       "...           ...                                                ...\n",
       "1599995  positive  just woke up . having no school is the best fe...\n",
       "1599996  positive  thewdb.com - very cool to hear old walt interv...\n",
       "1599997  positive  are you ready for your mojo makeover? ask me f...\n",
       "1599998  positive  happy 38th birthday to my boo of alll time!!! ...\n",
       "1599999  positive  happy hashtagplaceholder replyplaceholder repl...\n",
       "\n",
       "[1600000 rows x 2 columns]"
      ]
     },
     "execution_count": 18,
     "metadata": {},
     "output_type": "execute_result"
    }
   ],
   "source": [
    "tweets"
   ]
  },
  {
   "cell_type": "markdown",
   "id": "97a162d3",
   "metadata": {},
   "source": [
    "## Data pre-processing"
   ]
  },
  {
   "cell_type": "markdown",
   "id": "7b33637d",
   "metadata": {},
   "source": [
    "Now it's time to pre-process our data ready to train a machine learning model to predict the sentiment.  In this section we will:\n",
    "* Create a function to tokenize the text\n",
    "* Build a custom transformer to use in our Machine Learning Pipeline"
   ]
  },
  {
   "cell_type": "markdown",
   "id": "bc29a294",
   "metadata": {},
   "source": [
    "### Create a tokenize function"
   ]
  },
  {
   "cell_type": "markdown",
   "id": "d7860766",
   "metadata": {},
   "source": [
    "### Check stopwords"
   ]
  },
  {
   "cell_type": "code",
   "execution_count": 6,
   "id": "1f6259ed",
   "metadata": {},
   "outputs": [
    {
     "data": {
      "text/plain": [
       "['i',\n",
       " 'me',\n",
       " 'my',\n",
       " 'myself',\n",
       " 'we',\n",
       " 'our',\n",
       " 'ours',\n",
       " 'ourselves',\n",
       " 'you',\n",
       " \"you're\",\n",
       " \"you've\",\n",
       " \"you'll\",\n",
       " \"you'd\",\n",
       " 'your',\n",
       " 'yours',\n",
       " 'yourself',\n",
       " 'yourselves',\n",
       " 'he',\n",
       " 'him',\n",
       " 'his',\n",
       " 'himself',\n",
       " 'she',\n",
       " \"she's\",\n",
       " 'her',\n",
       " 'hers',\n",
       " 'herself',\n",
       " 'it',\n",
       " \"it's\",\n",
       " 'its',\n",
       " 'itself',\n",
       " 'they',\n",
       " 'them',\n",
       " 'their',\n",
       " 'theirs',\n",
       " 'themselves',\n",
       " 'what',\n",
       " 'which',\n",
       " 'who',\n",
       " 'whom',\n",
       " 'this',\n",
       " 'that',\n",
       " \"that'll\",\n",
       " 'these',\n",
       " 'those',\n",
       " 'am',\n",
       " 'is',\n",
       " 'are',\n",
       " 'was',\n",
       " 'were',\n",
       " 'be',\n",
       " 'been',\n",
       " 'being',\n",
       " 'have',\n",
       " 'has',\n",
       " 'had',\n",
       " 'having',\n",
       " 'do',\n",
       " 'does',\n",
       " 'did',\n",
       " 'doing',\n",
       " 'a',\n",
       " 'an',\n",
       " 'the',\n",
       " 'and',\n",
       " 'but',\n",
       " 'if',\n",
       " 'or',\n",
       " 'because',\n",
       " 'as',\n",
       " 'until',\n",
       " 'while',\n",
       " 'of',\n",
       " 'at',\n",
       " 'by',\n",
       " 'for',\n",
       " 'with',\n",
       " 'about',\n",
       " 'against',\n",
       " 'between',\n",
       " 'into',\n",
       " 'through',\n",
       " 'during',\n",
       " 'before',\n",
       " 'after',\n",
       " 'above',\n",
       " 'below',\n",
       " 'to',\n",
       " 'from',\n",
       " 'up',\n",
       " 'down',\n",
       " 'in',\n",
       " 'out',\n",
       " 'on',\n",
       " 'off',\n",
       " 'over',\n",
       " 'under',\n",
       " 'again',\n",
       " 'further',\n",
       " 'then',\n",
       " 'once',\n",
       " 'here',\n",
       " 'there',\n",
       " 'when',\n",
       " 'where',\n",
       " 'why',\n",
       " 'how',\n",
       " 'all',\n",
       " 'any',\n",
       " 'both',\n",
       " 'each',\n",
       " 'few',\n",
       " 'more',\n",
       " 'most',\n",
       " 'other',\n",
       " 'some',\n",
       " 'such',\n",
       " 'no',\n",
       " 'nor',\n",
       " 'not',\n",
       " 'only',\n",
       " 'own',\n",
       " 'same',\n",
       " 'so',\n",
       " 'than',\n",
       " 'too',\n",
       " 'very',\n",
       " 's',\n",
       " 't',\n",
       " 'can',\n",
       " 'will',\n",
       " 'just',\n",
       " 'don',\n",
       " \"don't\",\n",
       " 'should',\n",
       " \"should've\",\n",
       " 'now',\n",
       " 'd',\n",
       " 'll',\n",
       " 'm',\n",
       " 'o',\n",
       " 're',\n",
       " 've',\n",
       " 'y',\n",
       " 'ain',\n",
       " 'aren',\n",
       " \"aren't\",\n",
       " 'couldn',\n",
       " \"couldn't\",\n",
       " 'didn',\n",
       " \"didn't\",\n",
       " 'doesn',\n",
       " \"doesn't\",\n",
       " 'hadn',\n",
       " \"hadn't\",\n",
       " 'hasn',\n",
       " \"hasn't\",\n",
       " 'haven',\n",
       " \"haven't\",\n",
       " 'isn',\n",
       " \"isn't\",\n",
       " 'ma',\n",
       " 'mightn',\n",
       " \"mightn't\",\n",
       " 'mustn',\n",
       " \"mustn't\",\n",
       " 'needn',\n",
       " \"needn't\",\n",
       " 'shan',\n",
       " \"shan't\",\n",
       " 'shouldn',\n",
       " \"shouldn't\",\n",
       " 'wasn',\n",
       " \"wasn't\",\n",
       " 'weren',\n",
       " \"weren't\",\n",
       " 'won',\n",
       " \"won't\",\n",
       " 'wouldn',\n",
       " \"wouldn't\"]"
      ]
     },
     "execution_count": 6,
     "metadata": {},
     "output_type": "execute_result"
    }
   ],
   "source": [
    "stopwords.words(\"english\")"
   ]
  },
  {
   "cell_type": "markdown",
   "id": "3c28e4dd",
   "metadata": {},
   "source": [
    "There are quite a few negation words in the stopwords list such as \"not\", \"won't\", etc.  These could add important meaning to tweets so we'll do some manipulation to keep negations."
   ]
  },
  {
   "cell_type": "code",
   "execution_count": 33,
   "id": "2bee5add",
   "metadata": {},
   "outputs": [],
   "source": [
    "# List all of the negations we want to deal with\n",
    "'''\n",
    "not, don, don't, aren, aren't, couldn, couldn't, didn, didn't, doesn, doesn't, hadn, hadn't, hasn, hasn't, haven, haven't,\n",
    "isn, isn't, mightn, mightn't, mustn, mustn't, needn, needn't, shan, shan't, shouldn, shouldn't, wasn, wasn't, weren, weren't,\n",
    "won, won't, wouldn, wouldn't\n",
    "'''"
   ]
  },
  {
   "cell_type": "code",
   "execution_count": 33,
   "id": "28cde029",
   "metadata": {},
   "outputs": [],
   "source": [
    "# Create a custom stopwords list\n",
    "custom_stopwords = stopwords.words(\"english\")\n",
    "\n",
    "# Remove \"no\" and \"not\" from our stopwords\n",
    "custom_stopwords.remove(\"not\")\n",
    "custom_stopwords.remove(\"no\")"
   ]
  },
  {
   "cell_type": "code",
   "execution_count": 8,
   "id": "21153dd2",
   "metadata": {},
   "outputs": [
    {
     "data": {
      "text/plain": [
       "['i',\n",
       " 'me',\n",
       " 'my',\n",
       " 'myself',\n",
       " 'we',\n",
       " 'our',\n",
       " 'ours',\n",
       " 'ourselves',\n",
       " 'you',\n",
       " \"you're\",\n",
       " \"you've\",\n",
       " \"you'll\",\n",
       " \"you'd\",\n",
       " 'your',\n",
       " 'yours',\n",
       " 'yourself',\n",
       " 'yourselves',\n",
       " 'he',\n",
       " 'him',\n",
       " 'his',\n",
       " 'himself',\n",
       " 'she',\n",
       " \"she's\",\n",
       " 'her',\n",
       " 'hers',\n",
       " 'herself',\n",
       " 'it',\n",
       " \"it's\",\n",
       " 'its',\n",
       " 'itself',\n",
       " 'they',\n",
       " 'them',\n",
       " 'their',\n",
       " 'theirs',\n",
       " 'themselves',\n",
       " 'what',\n",
       " 'which',\n",
       " 'who',\n",
       " 'whom',\n",
       " 'this',\n",
       " 'that',\n",
       " \"that'll\",\n",
       " 'these',\n",
       " 'those',\n",
       " 'am',\n",
       " 'is',\n",
       " 'are',\n",
       " 'was',\n",
       " 'were',\n",
       " 'be',\n",
       " 'been',\n",
       " 'being',\n",
       " 'have',\n",
       " 'has',\n",
       " 'had',\n",
       " 'having',\n",
       " 'do',\n",
       " 'does',\n",
       " 'did',\n",
       " 'doing',\n",
       " 'a',\n",
       " 'an',\n",
       " 'the',\n",
       " 'and',\n",
       " 'but',\n",
       " 'if',\n",
       " 'or',\n",
       " 'because',\n",
       " 'as',\n",
       " 'until',\n",
       " 'while',\n",
       " 'of',\n",
       " 'at',\n",
       " 'by',\n",
       " 'for',\n",
       " 'with',\n",
       " 'about',\n",
       " 'against',\n",
       " 'between',\n",
       " 'into',\n",
       " 'through',\n",
       " 'during',\n",
       " 'before',\n",
       " 'after',\n",
       " 'above',\n",
       " 'below',\n",
       " 'to',\n",
       " 'from',\n",
       " 'up',\n",
       " 'down',\n",
       " 'in',\n",
       " 'out',\n",
       " 'on',\n",
       " 'off',\n",
       " 'over',\n",
       " 'under',\n",
       " 'again',\n",
       " 'further',\n",
       " 'then',\n",
       " 'once',\n",
       " 'here',\n",
       " 'there',\n",
       " 'when',\n",
       " 'where',\n",
       " 'why',\n",
       " 'how',\n",
       " 'all',\n",
       " 'any',\n",
       " 'both',\n",
       " 'each',\n",
       " 'few',\n",
       " 'more',\n",
       " 'most',\n",
       " 'other',\n",
       " 'some',\n",
       " 'such',\n",
       " 'nor',\n",
       " 'only',\n",
       " 'own',\n",
       " 'same',\n",
       " 'so',\n",
       " 'than',\n",
       " 'too',\n",
       " 'very',\n",
       " 's',\n",
       " 't',\n",
       " 'can',\n",
       " 'will',\n",
       " 'just',\n",
       " 'don',\n",
       " \"don't\",\n",
       " 'should',\n",
       " \"should've\",\n",
       " 'now',\n",
       " 'd',\n",
       " 'll',\n",
       " 'm',\n",
       " 'o',\n",
       " 're',\n",
       " 've',\n",
       " 'y',\n",
       " 'ain',\n",
       " 'aren',\n",
       " \"aren't\",\n",
       " 'couldn',\n",
       " \"couldn't\",\n",
       " 'didn',\n",
       " \"didn't\",\n",
       " 'doesn',\n",
       " \"doesn't\",\n",
       " 'hadn',\n",
       " \"hadn't\",\n",
       " 'hasn',\n",
       " \"hasn't\",\n",
       " 'haven',\n",
       " \"haven't\",\n",
       " 'isn',\n",
       " \"isn't\",\n",
       " 'ma',\n",
       " 'mightn',\n",
       " \"mightn't\",\n",
       " 'mustn',\n",
       " \"mustn't\",\n",
       " 'needn',\n",
       " \"needn't\",\n",
       " 'shan',\n",
       " \"shan't\",\n",
       " 'shouldn',\n",
       " \"shouldn't\",\n",
       " 'wasn',\n",
       " \"wasn't\",\n",
       " 'weren',\n",
       " \"weren't\",\n",
       " 'won',\n",
       " \"won't\",\n",
       " 'wouldn',\n",
       " \"wouldn't\"]"
      ]
     },
     "execution_count": 8,
     "metadata": {},
     "output_type": "execute_result"
    }
   ],
   "source": [
    "# Check our new stopwords list\n",
    "custom_stopwords"
   ]
  },
  {
   "cell_type": "markdown",
   "id": "cff76a61",
   "metadata": {},
   "source": [
    "\"no\" and \"not\" have successfully been removed from our stopwords list.  In the next step we will deal with a few edge cases, then replace the expression \"n't\" with the full word \"not\" so that negations are not removed as part of stopword removal."
   ]
  },
  {
   "cell_type": "code",
   "execution_count": 31,
   "id": "0e5c809e",
   "metadata": {},
   "outputs": [],
   "source": [
    "# Set up tokenizer\n",
    "tokenizer = TweetTokenizer(preserve_case=False, reduce_len=True, match_phone_numbers=False)"
   ]
  },
  {
   "cell_type": "code",
   "execution_count": 32,
   "id": "5b061ec0",
   "metadata": {},
   "outputs": [],
   "source": [
    "# Tokenize function\n",
    "def tokenize(text):\n",
    "    '''\n",
    "    Takes text strings as input, alters negations to their full form, normalizes, tokenizes, lemmatizes the text, and removes\n",
    "    stopwords using our custom stopwords list.\n",
    "    \n",
    "    INPUT:\n",
    "    text - (str) text string to be tokenized\n",
    "    \n",
    "    OUTPUT:\n",
    "    tokens - (list) list of cleaned text tokens\n",
    "    '''\n",
    "    \n",
    "    # Replace some negation words with their full form\n",
    "    text = text.replace(\"can't\", \"can not\")\n",
    "    text = text.replace(\"won't\", \"will not\")\n",
    "    text = text.replace(\"shan't\", \"shall not\")\n",
    "    \n",
    "    # Change \"n't\" to add the full word \"not\" as a separate word, so it doesn't get removed with stopword removal\n",
    "    text = text.replace(\"n't\", \" not\")\n",
    "    \n",
    "    # Normalise the text\n",
    "    text = re.sub(r\"[^a-zA-Z0-9]\", \" \", text)\n",
    "    \n",
    "    # Tokenise the text using TweetTokenizer\n",
    "    tokens = tokenizer.tokenize(text)\n",
    "    \n",
    "    # Lemmatise and remove stopwords\n",
    "    tokens = [WordNetLemmatizer().lemmatize(word) for word in tokens if word not in custom_stopwords]\n",
    "    \n",
    "    return tokens\n"
   ]
  },
  {
   "cell_type": "markdown",
   "id": "d58c0804",
   "metadata": {},
   "source": [
    "### Test out our tokenize function"
   ]
  },
  {
   "cell_type": "code",
   "execution_count": 9,
   "id": "b5591e13",
   "metadata": {},
   "outputs": [],
   "source": [
    "# Split out into text and sentiment\n",
    "X = tweets[\"text\"]\n",
    "Y = tweets[\"sentiment\"]"
   ]
  },
  {
   "cell_type": "code",
   "execution_count": 131,
   "id": "ff43c8a9",
   "metadata": {},
   "outputs": [
    {
     "data": {
      "text/plain": [
       "['replyplaceholder',\n",
       " 'urlplaceholder',\n",
       " 'awww',\n",
       " 'bummer',\n",
       " 'shoulda',\n",
       " 'got',\n",
       " 'david',\n",
       " 'carr',\n",
       " 'third',\n",
       " 'day',\n",
       " 'happyface']"
      ]
     },
     "execution_count": 131,
     "metadata": {},
     "output_type": "execute_result"
    }
   ],
   "source": [
    "tokens_test = tokenize(X[0])\n",
    "tokens_test"
   ]
  },
  {
   "cell_type": "code",
   "execution_count": 132,
   "id": "46f023db",
   "metadata": {},
   "outputs": [
    {
     "data": {
      "text/plain": [
       "['upset',\n",
       " 'not',\n",
       " 'update',\n",
       " 'facebook',\n",
       " 'texting',\n",
       " 'might',\n",
       " 'cry',\n",
       " 'result',\n",
       " 'school',\n",
       " 'today',\n",
       " 'also',\n",
       " 'blah']"
      ]
     },
     "execution_count": 132,
     "metadata": {},
     "output_type": "execute_result"
    }
   ],
   "source": [
    "tokens_test = tokenize(X[1])\n",
    "tokens_test"
   ]
  },
  {
   "cell_type": "markdown",
   "id": "24f33548",
   "metadata": {},
   "source": [
    "We can see in the example above that the negation \"not\" has been kept as we wanted."
   ]
  },
  {
   "cell_type": "code",
   "execution_count": 133,
   "id": "9db0d316",
   "metadata": {},
   "outputs": [
    {
     "data": {
      "text/plain": [
       "['replyplaceholder',\n",
       " 'dived',\n",
       " 'many',\n",
       " 'time',\n",
       " 'ball',\n",
       " 'managed',\n",
       " 'save',\n",
       " '50',\n",
       " 'rest',\n",
       " 'go',\n",
       " 'bound']"
      ]
     },
     "execution_count": 133,
     "metadata": {},
     "output_type": "execute_result"
    }
   ],
   "source": [
    "tokens_test = tokenize(X[2])\n",
    "tokens_test"
   ]
  },
  {
   "cell_type": "code",
   "execution_count": 134,
   "id": "55a1d065",
   "metadata": {},
   "outputs": [
    {
     "data": {
      "text/plain": [
       "['replyplaceholder',\n",
       " 'replyplaceholder',\n",
       " 'um',\n",
       " 'would',\n",
       " 'hell',\n",
       " 'no',\n",
       " 'fugly',\n",
       " 'poker',\n",
       " 'dog',\n",
       " 'pant',\n",
       " 'cruise',\n",
       " 'hi',\n",
       " 'jonathan',\n",
       " 'sorry',\n",
       " 'missed']"
      ]
     },
     "execution_count": 134,
     "metadata": {},
     "output_type": "execute_result"
    }
   ],
   "source": [
    "tokens_test = tokenize(X[1000])\n",
    "tokens_test"
   ]
  },
  {
   "cell_type": "code",
   "execution_count": 135,
   "id": "48346c2b",
   "metadata": {},
   "outputs": [
    {
     "data": {
      "text/plain": [
       "['morning',\n",
       " 'twitterati',\n",
       " 'large',\n",
       " 'coffee',\n",
       " 'bath',\n",
       " 'top',\n",
       " 'today',\n",
       " 'list',\n",
       " 'first',\n",
       " 'appt',\n",
       " '10am',\n",
       " 'load',\n",
       " 'desk',\n",
       " 'work']"
      ]
     },
     "execution_count": 135,
     "metadata": {},
     "output_type": "execute_result"
    }
   ],
   "source": [
    "tokens_test = tokenize(X[2000])\n",
    "tokens_test"
   ]
  },
  {
   "cell_type": "markdown",
   "id": "55e4440e",
   "metadata": {},
   "source": [
    "### Wordclouds of most common words in negative and positive tweets"
   ]
  },
  {
   "cell_type": "code",
   "execution_count": 120,
   "id": "fc5460da",
   "metadata": {},
   "outputs": [],
   "source": [
    "# Make a list of all the positive text from the cleaned column\n",
    "positive_tweets = tweets[tweets['sentiment'] == 'positive']['text'].to_list()"
   ]
  },
  {
   "cell_type": "code",
   "execution_count": 122,
   "id": "230778f9",
   "metadata": {},
   "outputs": [],
   "source": [
    "positive_words = ' '.join(positive_tweets)"
   ]
  },
  {
   "cell_type": "code",
   "execution_count": 123,
   "id": "0aafc078",
   "metadata": {},
   "outputs": [],
   "source": [
    "# Use part of the tokenize function to clean up the text a bit\n",
    "positive_words = positive_words.replace(\"can't\", \"can not\")\n",
    "positive_words = positive_words.replace(\"won't\", \"will not\")\n",
    "positive_words = positive_words.replace(\"shan't\", \"shall not\")\n",
    "\n",
    "# Change \"n't\" to add the full word \"not\" as a separate word, so it doesn't get removed with stopwords\n",
    "positive_words = positive_words.replace(\"n't\", \" not\")\n",
    "\n",
    "# Normalise the text\n",
    "positive_words = re.sub(r\"[^a-zA-Z0-9]\", \" \", positive_words)\n",
    "\n",
    "# Remove the placeholders we created earlier apart from the emoji placeholders\n",
    "positive_words = positive_words.replace(\"replyplaceholder\", \"\")\n",
    "positive_words = positive_words.replace(\"urlplaceholder\", \"\")\n",
    "positive_words = positive_words.replace(\"hashtagplaceholder\", \"\")"
   ]
  },
  {
   "cell_type": "code",
   "execution_count": 124,
   "id": "7741687a",
   "metadata": {},
   "outputs": [],
   "source": [
    "# Generate the wordcloud of most common words in positive Tweets\n",
    "positive_wordcloud = WordCloud(\n",
    "    width=1200, \n",
    "    height=800, \n",
    "    stopwords=custom_stopwords,\n",
    "    min_font_size=8,\n",
    "    max_words=100,\n",
    "    background_color='white',\n",
    "    colormap='Set2'\n",
    ").generate(positive_words)"
   ]
  },
  {
   "cell_type": "code",
   "execution_count": 125,
   "id": "c80064f2",
   "metadata": {},
   "outputs": [
    {
     "data": {
      "image/png": "[encoded data removed]",
      "text/plain": [
       "<Figure size 864x576 with 1 Axes>"
      ]
     },
     "metadata": {},
     "output_type": "display_data"
    }
   ],
   "source": [
    "# Plot the wordcloud\n",
    "plt.figure(figsize=[12,8])\n",
    "plt.imshow(positive_wordcloud, interpolation='bilinear')\n",
    "plt.axis(\"off\")\n",
    "plt.show()"
   ]
  },
  {
   "cell_type": "code",
   "execution_count": 126,
   "id": "4806038e",
   "metadata": {},
   "outputs": [],
   "source": [
    "# Make a list of all the netagive text from the cleaned column\n",
    "negative_tweets = tweets[tweets['sentiment'] == 'negative']['text'].to_list()"
   ]
  },
  {
   "cell_type": "code",
   "execution_count": 127,
   "id": "cf5c9407",
   "metadata": {},
   "outputs": [],
   "source": [
    "negative_words = ' '.join(negative_tweets)"
   ]
  },
  {
   "cell_type": "code",
   "execution_count": 128,
   "id": "084453e6",
   "metadata": {},
   "outputs": [],
   "source": [
    "# Use part of the tokenize function to clean up the text a bit\n",
    "negative_words = negative_words.replace(\"can't\", \"can not\")\n",
    "negative_words = negative_words.replace(\"won't\", \"will not\")\n",
    "negative_words = negative_words.replace(\"shan't\", \"shall not\")\n",
    "\n",
    "# Change \"n't\" to add the full word \"not\" as a separate word, so it doesn't get removed with stopwords\n",
    "negative_words = negative_words.replace(\"n't\", \" not\")\n",
    "\n",
    "# Normalise the text\n",
    "negative_words = re.sub(r\"[^a-zA-Z0-9]\", \" \", negative_words)\n",
    "\n",
    "# Remove the placeholders we created earlier apart from the emoji placeholders\n",
    "negative_words = negative_words.replace(\"replyplaceholder\", \"\")\n",
    "negative_words = negative_words.replace(\"urlplaceholder\", \"\")\n",
    "negative_words = negative_words.replace(\"hashtagplaceholder\", \"\")"
   ]
  },
  {
   "cell_type": "code",
   "execution_count": 129,
   "id": "b0a6bbfe",
   "metadata": {},
   "outputs": [],
   "source": [
    "# Generate the wordcloud of most common words in negative Tweets\n",
    "negative_wordcloud = WordCloud(\n",
    "    width=1200, \n",
    "    height=800, \n",
    "    stopwords=custom_stopwords,\n",
    "    min_font_size=8,\n",
    "    max_words=100,\n",
    "    background_color='white',\n",
    "    colormap='Set2'\n",
    ").generate(negative_words)"
   ]
  },
  {
   "cell_type": "code",
   "execution_count": 130,
   "id": "d436a0e3",
   "metadata": {
    "scrolled": false
   },
   "outputs": [
    {
     "data": {
      "image/png": "[encoded data removed]",
      "text/plain": [
       "<Figure size 864x576 with 1 Axes>"
      ]
     },
     "metadata": {},
     "output_type": "display_data"
    }
   ],
   "source": [
    "plt.figure(figsize=[12,8])\n",
    "plt.imshow(negative_wordcloud, interpolation='bilinear')\n",
    "plt.axis(\"off\")\n",
    "plt.show()"
   ]
  },
  {
   "cell_type": "markdown",
   "id": "22750054",
   "metadata": {},
   "source": [
    "### Feature engineering - Create a custom transformer"
   ]
  },
  {
   "cell_type": "markdown",
   "id": "681dbd2f",
   "metadata": {},
   "source": [
    "In this section we will perform some feature engineering to create a custom transformer to use in our machine learning pipeline."
   ]
  },
  {
   "cell_type": "markdown",
   "id": "6ec95e69",
   "metadata": {},
   "source": [
    "Features to explore:\n",
    "* Text length\n",
    "* Word count\n",
    "* Number of hashtags\n",
    "* Number of URLs\n",
    "* Number of emoji\n",
    "* Number of users @-replied to\n",
    "* Proportion of words that are hashtags\n",
    "* Proportion of words that are emoji"
   ]
  },
  {
   "cell_type": "code",
   "execution_count": 3,
   "id": "10f69d92",
   "metadata": {},
   "outputs": [],
   "source": [
    "# Create a function that returns the length of the text\n",
    "def count_text_length(text):\n",
    "    return len(text)"
   ]
  },
  {
   "cell_type": "code",
   "execution_count": 4,
   "id": "7fd34506",
   "metadata": {},
   "outputs": [
    {
     "data": {
      "text/plain": [
       "\"was having dinner with parents downstairs in dining room, they started watching' baba ramdev yoga' thingy, so i'm back to my room.\""
      ]
     },
     "execution_count": 4,
     "metadata": {},
     "output_type": "execute_result"
    }
   ],
   "source": [
    "# Choose a text string to test\n",
    "tweets.text.iloc[795000]"
   ]
  },
  {
   "cell_type": "code",
   "execution_count": 5,
   "id": "8be51702",
   "metadata": {},
   "outputs": [
    {
     "data": {
      "text/plain": [
       "130"
      ]
     },
     "execution_count": 5,
     "metadata": {},
     "output_type": "execute_result"
    }
   ],
   "source": [
    "count_text_length(tweets.text.iloc[795000])"
   ]
  },
  {
   "cell_type": "markdown",
   "id": "88bfc612",
   "metadata": {},
   "source": [
    "The text length won't necessarily be accurate because we have already changed hashtags, @-replies, and emoji into placeholders.  Hence we should probably leave this one out."
   ]
  },
  {
   "cell_type": "code",
   "execution_count": 7,
   "id": "aa8217a7",
   "metadata": {},
   "outputs": [],
   "source": [
    "# Create a function that counts the words in the Tweet\n",
    "def count_words(text):\n",
    "    words_in_tweet = text.split()\n",
    "    num_words = len(words_in_tweet)\n",
    "    return num_words"
   ]
  },
  {
   "cell_type": "code",
   "execution_count": 8,
   "id": "339859ac",
   "metadata": {},
   "outputs": [
    {
     "data": {
      "text/plain": [
       "22"
      ]
     },
     "execution_count": 8,
     "metadata": {},
     "output_type": "execute_result"
    }
   ],
   "source": [
    "count_words(tweets.text.iloc[795000])"
   ]
  },
  {
   "cell_type": "code",
   "execution_count": 9,
   "id": "6a53f32a",
   "metadata": {},
   "outputs": [],
   "source": [
    "# Create a function that counts the number of hashtags in the Tweet\n",
    "def count_hashtags(text):\n",
    "    num_hashtags = text.count(\"hashtagplaceholder\")\n",
    "    return num_hashtags"
   ]
  },
  {
   "cell_type": "code",
   "execution_count": 10,
   "id": "87406653",
   "metadata": {},
   "outputs": [
    {
     "data": {
      "text/plain": [
       "'happy hashtagplaceholder replyplaceholder replyplaceholder replyplaceholder'"
      ]
     },
     "execution_count": 10,
     "metadata": {},
     "output_type": "execute_result"
    }
   ],
   "source": [
    "# Choose a tweet to test\n",
    "tweets.text.iloc[1599999]"
   ]
  },
  {
   "cell_type": "code",
   "execution_count": 11,
   "id": "916a627d",
   "metadata": {},
   "outputs": [
    {
     "data": {
      "text/plain": [
       "1"
      ]
     },
     "execution_count": 11,
     "metadata": {},
     "output_type": "execute_result"
    }
   ],
   "source": [
    "count_hashtags(tweets.text.iloc[1599999])"
   ]
  },
  {
   "cell_type": "code",
   "execution_count": 12,
   "id": "5d4dccf2",
   "metadata": {},
   "outputs": [
    {
     "data": {
      "text/plain": [
       "3"
      ]
     },
     "execution_count": 12,
     "metadata": {},
     "output_type": "execute_result"
    }
   ],
   "source": [
    "count_hashtags(\"happy birthday hashtagplaceholder hashtagplaceholder hashtagplaceholder\")"
   ]
  },
  {
   "cell_type": "code",
   "execution_count": 13,
   "id": "2ee51ee8",
   "metadata": {},
   "outputs": [],
   "source": [
    "# Create a function that counts the number of @-replies in the Tweet\n",
    "def count_replies(text):\n",
    "    num_replies = text.count(\"replyplaceholder\")\n",
    "    return num_replies"
   ]
  },
  {
   "cell_type": "code",
   "execution_count": 14,
   "id": "db312bd6",
   "metadata": {},
   "outputs": [
    {
     "data": {
      "text/plain": [
       "\"replyplaceholder urlplaceholder - awww, that's a bummer . you shoulda got david carr of third day to do it . happyface\""
      ]
     },
     "execution_count": 14,
     "metadata": {},
     "output_type": "execute_result"
    }
   ],
   "source": [
    "tweets.text[0]"
   ]
  },
  {
   "cell_type": "code",
   "execution_count": 15,
   "id": "c262e9ab",
   "metadata": {},
   "outputs": [
    {
     "data": {
      "text/plain": [
       "1"
      ]
     },
     "execution_count": 15,
     "metadata": {},
     "output_type": "execute_result"
    }
   ],
   "source": [
    "count_replies(tweets.text[0])"
   ]
  },
  {
   "cell_type": "code",
   "execution_count": 16,
   "id": "c4528aa7",
   "metadata": {},
   "outputs": [],
   "source": [
    "# Create a function that counts the number of URLs in the Tweet\n",
    "def count_urls(text):\n",
    "    num_urls = text.count(\"urlplaceholder\")\n",
    "    return num_urls"
   ]
  },
  {
   "cell_type": "code",
   "execution_count": 17,
   "id": "c17b2441",
   "metadata": {},
   "outputs": [
    {
     "data": {
      "text/plain": [
       "1"
      ]
     },
     "execution_count": 17,
     "metadata": {},
     "output_type": "execute_result"
    }
   ],
   "source": [
    "count_urls(tweets.text[0])"
   ]
  },
  {
   "cell_type": "code",
   "execution_count": 18,
   "id": "be8813ef",
   "metadata": {},
   "outputs": [],
   "source": [
    "# Create a function that counts the number of emoji in the Tweet\n",
    "def count_emoji(text):\n",
    "    num_emoji = 0\n",
    "    for emoji in emoji_dict.keys():\n",
    "        num_emoji += text.count(emoji)\n",
    "    return num_emoji"
   ]
  },
  {
   "cell_type": "code",
   "execution_count": 21,
   "id": "161ef421",
   "metadata": {},
   "outputs": [
    {
     "data": {
      "text/plain": [
       "1"
      ]
     },
     "execution_count": 21,
     "metadata": {},
     "output_type": "execute_result"
    }
   ],
   "source": [
    "count_emoji(tweets.text[0])"
   ]
  },
  {
   "cell_type": "code",
   "execution_count": 22,
   "id": "cc5b4d6c",
   "metadata": {},
   "outputs": [
    {
     "data": {
      "text/plain": [
       "4"
      ]
     },
     "execution_count": 22,
     "metadata": {},
     "output_type": "execute_result"
    }
   ],
   "source": [
    "count_emoji(\"happyface sadface laughface shockface\")"
   ]
  },
  {
   "cell_type": "code",
   "execution_count": 23,
   "id": "cca85d4f",
   "metadata": {},
   "outputs": [],
   "source": [
    "# Create a function that finds the proportion of the Tweet that is made up of hashtags\n",
    "def proportion_of_hashtags(text):\n",
    "    word_count = count_words(text)\n",
    "    hashtag_count = count_hashtags(text)\n",
    "    return hashtag_count/word_count"
   ]
  },
  {
   "cell_type": "code",
   "execution_count": 24,
   "id": "07978ad3",
   "metadata": {},
   "outputs": [
    {
     "data": {
      "text/plain": [
       "'happy hashtagplaceholder replyplaceholder replyplaceholder replyplaceholder'"
      ]
     },
     "execution_count": 24,
     "metadata": {},
     "output_type": "execute_result"
    }
   ],
   "source": [
    "# Choose a tweet to test\n",
    "tweets.text[1599999]"
   ]
  },
  {
   "cell_type": "code",
   "execution_count": 25,
   "id": "e5de9cdf",
   "metadata": {},
   "outputs": [
    {
     "data": {
      "text/plain": [
       "0.2"
      ]
     },
     "execution_count": 25,
     "metadata": {},
     "output_type": "execute_result"
    }
   ],
   "source": [
    "proportion_of_hashtags(tweets.text[1599999])"
   ]
  },
  {
   "cell_type": "code",
   "execution_count": 26,
   "id": "0e257d98",
   "metadata": {},
   "outputs": [],
   "source": [
    "# Create a function that finds the proportion of the Tweet that is made up of emoji\n",
    "def proportion_of_emoji(text):\n",
    "    word_count = count_words(text)\n",
    "    emoji_count = count_emoji(text)\n",
    "    return emoji_count/word_count"
   ]
  },
  {
   "cell_type": "code",
   "execution_count": 27,
   "id": "cf579297",
   "metadata": {},
   "outputs": [
    {
     "data": {
      "text/plain": [
       "0.047619047619047616"
      ]
     },
     "execution_count": 27,
     "metadata": {},
     "output_type": "execute_result"
    }
   ],
   "source": [
    "proportion_of_emoji(tweets.text[0])"
   ]
  },
  {
   "cell_type": "markdown",
   "id": "768111cc",
   "metadata": {},
   "source": [
    "### Summarise all of the above functions"
   ]
  },
  {
   "cell_type": "code",
   "execution_count": 11,
   "id": "94a5ec94",
   "metadata": {},
   "outputs": [],
   "source": [
    "def count_words(text):\n",
    "    '''\n",
    "    Find the number of words in a given text string\n",
    "    \n",
    "    INPUT:\n",
    "    text - (str) text string\n",
    "    \n",
    "    OUTPUT:\n",
    "    num_words - (int) number of words in the input string\n",
    "    '''\n",
    "    \n",
    "    words_in_tweet = text.split()\n",
    "    num_words = len(words_in_tweet)\n",
    "    return num_words\n",
    "\n",
    "def count_hashtags(text):\n",
    "    '''\n",
    "    Find the number of hashtags in a given text\n",
    "    \n",
    "    INPUT:\n",
    "    text - (str) text string\n",
    "    \n",
    "    OUTPUT:\n",
    "    num_hashtags - (int) number of hashtags in the input string\n",
    "    '''\n",
    "    \n",
    "    num_hashtags = text.count(\"hashtagplaceholder\")\n",
    "    return num_hashtags\n",
    "\n",
    "def count_replies(text):\n",
    "    '''\n",
    "    Find the number of @-replies in a given text string\n",
    "    \n",
    "    INPUT:\n",
    "    text - (str) text string\n",
    "    \n",
    "    OUTPUT:\n",
    "    num_replies - (int) number of @-replies in the input string\n",
    "    '''\n",
    "    num_replies = text.count(\"replyplaceholder\")\n",
    "    return num_replies\n",
    "\n",
    "def count_urls(text):\n",
    "    '''\n",
    "    Find the number of URLs in a given text string\n",
    "    \n",
    "    INPUT:\n",
    "    text - (str) text string\n",
    "    \n",
    "    OUTPUT:\n",
    "    num_urls - (int) number of URLs in the input string\n",
    "    '''\n",
    "    \n",
    "    num_urls = text.count(\"urlplaceholder\")\n",
    "    return num_urls\n",
    "\n",
    "def count_emoji(text):\n",
    "    '''\n",
    "    Find the number of emoji in a given text string\n",
    "    \n",
    "    INPUT:\n",
    "    text - (str) text string\n",
    "    \n",
    "    OUTPUT:\n",
    "    num_emoji - (int) number of emoji in the input string\n",
    "    '''\n",
    "    \n",
    "    num_emoji = 0\n",
    "    for emoji in emoji_dict.keys():\n",
    "        num_emoji += text.count(emoji)\n",
    "    return num_emoji\n",
    "\n",
    "def proportion_of_hashtags(text):\n",
    "    '''\n",
    "    Find the proportion of a text string that is made up of hashtags.  Makes use of the count_words() and \n",
    "    count_hashtags() functions above\n",
    "    \n",
    "    INPUT:\n",
    "    text - (str) text string\n",
    "    \n",
    "    OUTPUT:\n",
    "    hashtag_count/word_count - (float) proportion of hashtags present in the input string\n",
    "    '''\n",
    "    \n",
    "    word_count = count_words(text)\n",
    "    hashtag_count = count_hashtags(text)\n",
    "    return hashtag_count/word_count\n",
    "\n",
    "def proportion_of_emoji(text):\n",
    "    '''\n",
    "    Find the proportion of a text string that is made up of emoji.  Makes use of the count_words() and \n",
    "    count_emoji() functions above\n",
    "    \n",
    "    INPUT:\n",
    "    text - (str) text string\n",
    "    \n",
    "    OUTPUT:\n",
    "    emoji_count/word_count - (float) proportion of emoji present in the input string\n",
    "    '''\n",
    "    \n",
    "    word_count = count_words(text)\n",
    "    emoji_count = count_emoji(text)\n",
    "    return emoji_count/word_count"
   ]
  },
  {
   "cell_type": "code",
   "execution_count": 12,
   "id": "7daabfc2",
   "metadata": {},
   "outputs": [],
   "source": [
    "class TextCountsTransformer(BaseEstimator, TransformerMixin):\n",
    "    '''\n",
    "    Custom transformer which extracts features relating to counts from input text data and returns the features as new columns\n",
    "    '''\n",
    "    \n",
    "    def text_feature_extract(self, text):\n",
    "        word_count = np.asarray(count_words(text))\n",
    "        hashtag_count = np.asarray(count_hashtags(text))\n",
    "        reply_count = np.asarray(count_replies(text))\n",
    "        url_count = np.asarray(count_urls(text))\n",
    "        emoji_count = np.asarray(count_emoji(text))\n",
    "        hashtag_prop = np.asarray(proportion_of_hashtags(text))\n",
    "        emoji_prop = np.asarray(proportion_of_emoji(text))\n",
    "        \n",
    "        features = pd.Series({\"word_count\": word_count, \n",
    "                              \"hashtag_count\": hashtag_count, \n",
    "                              \"reply_count\": reply_count, \n",
    "                              \"url_count\": url_count, \n",
    "                              \"emoji_count\": emoji_count, \n",
    "                              \"hashtag_proportion\": hashtag_prop, \n",
    "                              \"emoji_proportion\": emoji_prop})\n",
    "\n",
    "        return features\n",
    "    \n",
    "    def fit(self, X, y=None):\n",
    "        return self\n",
    "    \n",
    "    def transform(self, X):\n",
    "        X_tagged = pd.Series(X).apply(self.text_feature_extract)\n",
    "        return X_tagged.astype(float)\n",
    "    "
   ]
  },
  {
   "cell_type": "markdown",
   "id": "c7164b71",
   "metadata": {},
   "source": [
    "### Create subset of our Tweets data to test more quickly"
   ]
  },
  {
   "cell_type": "code",
   "execution_count": 37,
   "id": "6337dd89",
   "metadata": {},
   "outputs": [],
   "source": [
    "# taking 10k rows from the middle of the dataset so that we still have an even split of positive and negative tweets\n",
    "tweets_subset = tweets[795000:805000]"
   ]
  },
  {
   "cell_type": "code",
   "execution_count": 38,
   "id": "01fca214",
   "metadata": {},
   "outputs": [
    {
     "data": {
      "text/plain": [
       "negative    5000\n",
       "positive    5000\n",
       "Name: sentiment, dtype: int64"
      ]
     },
     "execution_count": 38,
     "metadata": {},
     "output_type": "execute_result"
    }
   ],
   "source": [
    "# Check we have the correct split of positive and negative Tweets\n",
    "tweets_subset.sentiment.value_counts()"
   ]
  },
  {
   "cell_type": "code",
   "execution_count": 39,
   "id": "1bd3817b",
   "metadata": {},
   "outputs": [
    {
     "data": {
      "text/html": [
       "<div>\n",
       "<style scoped>\n",
       "    .dataframe tbody tr th:only-of-type {\n",
       "        vertical-align: middle;\n",
       "    }\n",
       "\n",
       "    .dataframe tbody tr th {\n",
       "        vertical-align: top;\n",
       "    }\n",
       "\n",
       "    .dataframe thead th {\n",
       "        text-align: right;\n",
       "    }\n",
       "</style>\n",
       "<table border=\"1\" class=\"dataframe\">\n",
       "  <thead>\n",
       "    <tr style=\"text-align: right;\">\n",
       "      <th></th>\n",
       "      <th>sentiment</th>\n",
       "      <th>text</th>\n",
       "    </tr>\n",
       "  </thead>\n",
       "  <tbody>\n",
       "    <tr>\n",
       "      <th>795000</th>\n",
       "      <td>negative</td>\n",
       "      <td>was having dinner with parents downstairs in d...</td>\n",
       "    </tr>\n",
       "    <tr>\n",
       "      <th>795001</th>\n",
       "      <td>negative</td>\n",
       "      <td>blah 5am still up daang i got deep problems</td>\n",
       "    </tr>\n",
       "    <tr>\n",
       "      <th>795002</th>\n",
       "      <td>negative</td>\n",
       "      <td>replyplaceholder i would suggest avoiding 360 ...</td>\n",
       "    </tr>\n",
       "    <tr>\n",
       "      <th>795003</th>\n",
       "      <td>negative</td>\n",
       "      <td>replyplaceholder i didn't convince myself i wa...</td>\n",
       "    </tr>\n",
       "    <tr>\n",
       "      <th>795004</th>\n",
       "      <td>negative</td>\n",
       "      <td>replyplaceholder replyplaceholder check on sun...</td>\n",
       "    </tr>\n",
       "    <tr>\n",
       "      <th>...</th>\n",
       "      <td>...</td>\n",
       "      <td>...</td>\n",
       "    </tr>\n",
       "    <tr>\n",
       "      <th>804995</th>\n",
       "      <td>positive</td>\n",
       "      <td>replyplaceholder thanks for sending us the pac...</td>\n",
       "    </tr>\n",
       "    <tr>\n",
       "      <th>804996</th>\n",
       "      <td>positive</td>\n",
       "      <td>replyplaceholder hahahha .. u obviously don't ...</td>\n",
       "    </tr>\n",
       "    <tr>\n",
       "      <th>804997</th>\n",
       "      <td>positive</td>\n",
       "      <td>replyplaceholder it's an internet term, but it...</td>\n",
       "    </tr>\n",
       "    <tr>\n",
       "      <th>804998</th>\n",
       "      <td>positive</td>\n",
       "      <td>new day...new track!!!</td>\n",
       "    </tr>\n",
       "    <tr>\n",
       "      <th>804999</th>\n",
       "      <td>positive</td>\n",
       "      <td>replyplaceholder okay we need to have a compet...</td>\n",
       "    </tr>\n",
       "  </tbody>\n",
       "</table>\n",
       "<p>10000 rows × 2 columns</p>\n",
       "</div>"
      ],
      "text/plain": [
       "       sentiment                                               text\n",
       "795000  negative  was having dinner with parents downstairs in d...\n",
       "795001  negative        blah 5am still up daang i got deep problems\n",
       "795002  negative  replyplaceholder i would suggest avoiding 360 ...\n",
       "795003  negative  replyplaceholder i didn't convince myself i wa...\n",
       "795004  negative  replyplaceholder replyplaceholder check on sun...\n",
       "...          ...                                                ...\n",
       "804995  positive  replyplaceholder thanks for sending us the pac...\n",
       "804996  positive  replyplaceholder hahahha .. u obviously don't ...\n",
       "804997  positive  replyplaceholder it's an internet term, but it...\n",
       "804998  positive                             new day...new track!!!\n",
       "804999  positive  replyplaceholder okay we need to have a compet...\n",
       "\n",
       "[10000 rows x 2 columns]"
      ]
     },
     "execution_count": 39,
     "metadata": {},
     "output_type": "execute_result"
    }
   ],
   "source": [
    "tweets_subset"
   ]
  },
  {
   "cell_type": "code",
   "execution_count": 178,
   "id": "e5cb4bc7",
   "metadata": {},
   "outputs": [],
   "source": [
    "X = tweets_subset[\"text\"]\n",
    "Y = tweets_subset[\"sentiment\"]"
   ]
  },
  {
   "cell_type": "markdown",
   "id": "7ca42b34",
   "metadata": {},
   "source": [
    "### Test out our transformer on the subset of the Tweets data"
   ]
  },
  {
   "cell_type": "code",
   "execution_count": 306,
   "id": "b95dafef",
   "metadata": {},
   "outputs": [],
   "source": [
    "counts_transformer = TextCountsTransformer()"
   ]
  },
  {
   "cell_type": "code",
   "execution_count": 307,
   "id": "92b6eed7",
   "metadata": {},
   "outputs": [],
   "source": [
    "X_transformed = counts_transformer.fit_transform(X)"
   ]
  },
  {
   "cell_type": "code",
   "execution_count": 308,
   "id": "6895377d",
   "metadata": {},
   "outputs": [
    {
     "data": {
      "text/html": [
       "<div>\n",
       "<style scoped>\n",
       "    .dataframe tbody tr th:only-of-type {\n",
       "        vertical-align: middle;\n",
       "    }\n",
       "\n",
       "    .dataframe tbody tr th {\n",
       "        vertical-align: top;\n",
       "    }\n",
       "\n",
       "    .dataframe thead th {\n",
       "        text-align: right;\n",
       "    }\n",
       "</style>\n",
       "<table border=\"1\" class=\"dataframe\">\n",
       "  <thead>\n",
       "    <tr style=\"text-align: right;\">\n",
       "      <th></th>\n",
       "      <th>word_count</th>\n",
       "      <th>hashtag_count</th>\n",
       "      <th>reply_count</th>\n",
       "      <th>url_count</th>\n",
       "      <th>emoji_count</th>\n",
       "      <th>hashtag_proportion</th>\n",
       "      <th>emoji_proportion</th>\n",
       "    </tr>\n",
       "  </thead>\n",
       "  <tbody>\n",
       "    <tr>\n",
       "      <th>795000</th>\n",
       "      <td>22.0</td>\n",
       "      <td>0.0</td>\n",
       "      <td>0.0</td>\n",
       "      <td>0.0</td>\n",
       "      <td>0.0</td>\n",
       "      <td>0.0</td>\n",
       "      <td>0.000000</td>\n",
       "    </tr>\n",
       "    <tr>\n",
       "      <th>795001</th>\n",
       "      <td>9.0</td>\n",
       "      <td>0.0</td>\n",
       "      <td>0.0</td>\n",
       "      <td>0.0</td>\n",
       "      <td>0.0</td>\n",
       "      <td>0.0</td>\n",
       "      <td>0.000000</td>\n",
       "    </tr>\n",
       "    <tr>\n",
       "      <th>795002</th>\n",
       "      <td>18.0</td>\n",
       "      <td>0.0</td>\n",
       "      <td>2.0</td>\n",
       "      <td>0.0</td>\n",
       "      <td>0.0</td>\n",
       "      <td>0.0</td>\n",
       "      <td>0.000000</td>\n",
       "    </tr>\n",
       "    <tr>\n",
       "      <th>795003</th>\n",
       "      <td>25.0</td>\n",
       "      <td>0.0</td>\n",
       "      <td>1.0</td>\n",
       "      <td>0.0</td>\n",
       "      <td>0.0</td>\n",
       "      <td>0.0</td>\n",
       "      <td>0.000000</td>\n",
       "    </tr>\n",
       "    <tr>\n",
       "      <th>795004</th>\n",
       "      <td>23.0</td>\n",
       "      <td>0.0</td>\n",
       "      <td>2.0</td>\n",
       "      <td>0.0</td>\n",
       "      <td>1.0</td>\n",
       "      <td>0.0</td>\n",
       "      <td>0.043478</td>\n",
       "    </tr>\n",
       "    <tr>\n",
       "      <th>...</th>\n",
       "      <td>...</td>\n",
       "      <td>...</td>\n",
       "      <td>...</td>\n",
       "      <td>...</td>\n",
       "      <td>...</td>\n",
       "      <td>...</td>\n",
       "      <td>...</td>\n",
       "    </tr>\n",
       "    <tr>\n",
       "      <th>804995</th>\n",
       "      <td>12.0</td>\n",
       "      <td>0.0</td>\n",
       "      <td>1.0</td>\n",
       "      <td>0.0</td>\n",
       "      <td>0.0</td>\n",
       "      <td>0.0</td>\n",
       "      <td>0.000000</td>\n",
       "    </tr>\n",
       "    <tr>\n",
       "      <th>804996</th>\n",
       "      <td>20.0</td>\n",
       "      <td>0.0</td>\n",
       "      <td>1.0</td>\n",
       "      <td>0.0</td>\n",
       "      <td>0.0</td>\n",
       "      <td>0.0</td>\n",
       "      <td>0.000000</td>\n",
       "    </tr>\n",
       "    <tr>\n",
       "      <th>804997</th>\n",
       "      <td>15.0</td>\n",
       "      <td>0.0</td>\n",
       "      <td>1.0</td>\n",
       "      <td>0.0</td>\n",
       "      <td>0.0</td>\n",
       "      <td>0.0</td>\n",
       "      <td>0.000000</td>\n",
       "    </tr>\n",
       "    <tr>\n",
       "      <th>804998</th>\n",
       "      <td>3.0</td>\n",
       "      <td>0.0</td>\n",
       "      <td>0.0</td>\n",
       "      <td>0.0</td>\n",
       "      <td>0.0</td>\n",
       "      <td>0.0</td>\n",
       "      <td>0.000000</td>\n",
       "    </tr>\n",
       "    <tr>\n",
       "      <th>804999</th>\n",
       "      <td>23.0</td>\n",
       "      <td>0.0</td>\n",
       "      <td>1.0</td>\n",
       "      <td>0.0</td>\n",
       "      <td>0.0</td>\n",
       "      <td>0.0</td>\n",
       "      <td>0.000000</td>\n",
       "    </tr>\n",
       "  </tbody>\n",
       "</table>\n",
       "<p>10000 rows × 7 columns</p>\n",
       "</div>"
      ],
      "text/plain": [
       "        word_count  hashtag_count  reply_count  url_count  emoji_count  \\\n",
       "795000        22.0            0.0          0.0        0.0          0.0   \n",
       "795001         9.0            0.0          0.0        0.0          0.0   \n",
       "795002        18.0            0.0          2.0        0.0          0.0   \n",
       "795003        25.0            0.0          1.0        0.0          0.0   \n",
       "795004        23.0            0.0          2.0        0.0          1.0   \n",
       "...            ...            ...          ...        ...          ...   \n",
       "804995        12.0            0.0          1.0        0.0          0.0   \n",
       "804996        20.0            0.0          1.0        0.0          0.0   \n",
       "804997        15.0            0.0          1.0        0.0          0.0   \n",
       "804998         3.0            0.0          0.0        0.0          0.0   \n",
       "804999        23.0            0.0          1.0        0.0          0.0   \n",
       "\n",
       "        hashtag_proportion  emoji_proportion  \n",
       "795000                 0.0          0.000000  \n",
       "795001                 0.0          0.000000  \n",
       "795002                 0.0          0.000000  \n",
       "795003                 0.0          0.000000  \n",
       "795004                 0.0          0.043478  \n",
       "...                    ...               ...  \n",
       "804995                 0.0          0.000000  \n",
       "804996                 0.0          0.000000  \n",
       "804997                 0.0          0.000000  \n",
       "804998                 0.0          0.000000  \n",
       "804999                 0.0          0.000000  \n",
       "\n",
       "[10000 rows x 7 columns]"
      ]
     },
     "execution_count": 308,
     "metadata": {},
     "output_type": "execute_result"
    }
   ],
   "source": [
    "X_transformed"
   ]
  },
  {
   "cell_type": "markdown",
   "id": "1925d6c6",
   "metadata": {},
   "source": [
    "## Modelling"
   ]
  },
  {
   "cell_type": "markdown",
   "id": "389f829c",
   "metadata": {},
   "source": [
    "Now we have cleaned and pre-processed our text data as well as created a custom transformer to use in our Machine Learning pipeline.  It's time to build the pipeline and train our model."
   ]
  },
  {
   "cell_type": "markdown",
   "id": "b0c5fa4f",
   "metadata": {},
   "source": [
    "We will perform the initial model training on the subset of the Tweets data we created ealier, to speed up testing.  Once we have selected a model we will train on the whole dataset, performing Grid Search to choose the best hyperparameters."
   ]
  },
  {
   "cell_type": "markdown",
   "id": "78f07bf1",
   "metadata": {},
   "source": [
    "We will test out different classifications models and make our selection based on a combination of metric scores and interpretability."
   ]
  },
  {
   "cell_type": "markdown",
   "id": "a60c317d",
   "metadata": {},
   "source": [
    "### Split the subset into training and testing sets"
   ]
  },
  {
   "cell_type": "code",
   "execution_count": 179,
   "id": "06d9c3d6",
   "metadata": {},
   "outputs": [],
   "source": [
    "# Train test split\n",
    "X_train, X_test, Y_train, Y_test = train_test_split(X, Y, random_state=42)"
   ]
  },
  {
   "cell_type": "code",
   "execution_count": 180,
   "id": "973a8406",
   "metadata": {},
   "outputs": [
    {
     "data": {
      "text/plain": [
       "(7500,)"
      ]
     },
     "execution_count": 180,
     "metadata": {},
     "output_type": "execute_result"
    }
   ],
   "source": [
    "# Check size of training data\n",
    "X_train.shape"
   ]
  },
  {
   "cell_type": "code",
   "execution_count": 181,
   "id": "54008e3c",
   "metadata": {},
   "outputs": [
    {
     "data": {
      "text/plain": [
       "(2500,)"
      ]
     },
     "execution_count": 181,
     "metadata": {},
     "output_type": "execute_result"
    }
   ],
   "source": [
    "# Check size of testing data\n",
    "X_test.shape"
   ]
  },
  {
   "cell_type": "markdown",
   "id": "128b6aa8",
   "metadata": {},
   "source": [
    "### Start by trying a Decision Tree Classifier"
   ]
  },
  {
   "cell_type": "code",
   "execution_count": 113,
   "id": "37e8b104",
   "metadata": {},
   "outputs": [],
   "source": [
    "# Create Pipeline, utilising Feature Union so that we can apply all three transformers on the same initial data\n",
    "pipeline = Pipeline([\n",
    "    ('features', FeatureUnion([\n",
    "        ('text_pipeline', Pipeline([\n",
    "            ('vect', CountVectorizer(tokenizer=tokenize)),\n",
    "            ('tfidf', TfidfTransformer())\n",
    "        ])),\n",
    "        ('counts', TextCountsTransformer())\n",
    "    ])),\n",
    "    ('clf', DecisionTreeClassifier())\n",
    "])"
   ]
  },
  {
   "cell_type": "code",
   "execution_count": 114,
   "id": "3ef99818",
   "metadata": {},
   "outputs": [
    {
     "data": {
      "text/plain": [
       "Pipeline(steps=[('features',\n",
       "                 FeatureUnion(transformer_list=[('text_pipeline',\n",
       "                                                 Pipeline(steps=[('vect',\n",
       "                                                                  CountVectorizer(tokenizer=<function tokenize at 0x0000025430562D30>)),\n",
       "                                                                 ('tfidf',\n",
       "                                                                  TfidfTransformer())])),\n",
       "                                                ('counts',\n",
       "                                                 TextCountsTransformer())])),\n",
       "                ('clf', DecisionTreeClassifier())])"
      ]
     },
     "execution_count": 114,
     "metadata": {},
     "output_type": "execute_result"
    }
   ],
   "source": [
    "# Fit the pipeline\n",
    "pipeline.fit(X_train, Y_train)"
   ]
  },
  {
   "cell_type": "code",
   "execution_count": 115,
   "id": "3f47e451",
   "metadata": {},
   "outputs": [],
   "source": [
    "# Make predictions using the trained model\n",
    "Y_pred = pipeline.predict(X_test)"
   ]
  },
  {
   "cell_type": "code",
   "execution_count": 116,
   "id": "a3040371",
   "metadata": {},
   "outputs": [
    {
     "name": "stdout",
     "output_type": "stream",
     "text": [
      "              precision    recall  f1-score   support\n",
      "\n",
      "    negative       0.71      0.68      0.69      1272\n",
      "    positive       0.68      0.71      0.70      1228\n",
      "\n",
      "    accuracy                           0.70      2500\n",
      "   macro avg       0.70      0.70      0.70      2500\n",
      "weighted avg       0.70      0.70      0.70      2500\n",
      "\n"
     ]
    }
   ],
   "source": [
    "# Use classification report to find the precision, recall, f1-score, and accuracy\n",
    "print(classification_report(Y_test, Y_pred, zero_division=0))"
   ]
  },
  {
   "cell_type": "markdown",
   "id": "04d9c49a",
   "metadata": {},
   "source": [
    "The Decision Tree classifier gives an overall accuracy of 0.70 which is a good start."
   ]
  },
  {
   "cell_type": "code",
   "execution_count": 117,
   "id": "340808ea",
   "metadata": {},
   "outputs": [],
   "source": [
    "# Now let's try removing our custom transformer\n",
    "pipeline = Pipeline([\n",
    "    ('features', FeatureUnion([\n",
    "        ('text_pipeline', Pipeline([\n",
    "            ('vect', CountVectorizer(tokenizer=tokenize)),\n",
    "            ('tfidf', TfidfTransformer())\n",
    "        ]))\n",
    "    ])),\n",
    "    ('clf', DecisionTreeClassifier())\n",
    "])"
   ]
  },
  {
   "cell_type": "code",
   "execution_count": 118,
   "id": "66e08dc0",
   "metadata": {},
   "outputs": [
    {
     "data": {
      "text/plain": [
       "Pipeline(steps=[('features',\n",
       "                 FeatureUnion(transformer_list=[('text_pipeline',\n",
       "                                                 Pipeline(steps=[('vect',\n",
       "                                                                  CountVectorizer(tokenizer=<function tokenize at 0x0000025430562D30>)),\n",
       "                                                                 ('tfidf',\n",
       "                                                                  TfidfTransformer())]))])),\n",
       "                ('clf', DecisionTreeClassifier())])"
      ]
     },
     "execution_count": 118,
     "metadata": {},
     "output_type": "execute_result"
    }
   ],
   "source": [
    "# Fit the pipeline\n",
    "pipeline.fit(X_train, Y_train)"
   ]
  },
  {
   "cell_type": "code",
   "execution_count": 119,
   "id": "ee9151b3",
   "metadata": {},
   "outputs": [],
   "source": [
    "# Make predictions using the trained model\n",
    "Y_pred = pipeline.predict(X_test)"
   ]
  },
  {
   "cell_type": "code",
   "execution_count": 120,
   "id": "ff3b8de7",
   "metadata": {},
   "outputs": [
    {
     "name": "stdout",
     "output_type": "stream",
     "text": [
      "              precision    recall  f1-score   support\n",
      "\n",
      "    negative       0.70      0.73      0.72      1272\n",
      "    positive       0.71      0.68      0.69      1228\n",
      "\n",
      "    accuracy                           0.71      2500\n",
      "   macro avg       0.71      0.71      0.71      2500\n",
      "weighted avg       0.71      0.71      0.71      2500\n",
      "\n"
     ]
    }
   ],
   "source": [
    "# Use classification report to find the precision, recall, f1-score, and accuracy\n",
    "print(classification_report(Y_test, Y_pred, zero_division=0))"
   ]
  },
  {
   "cell_type": "markdown",
   "id": "694aaee1",
   "metadata": {},
   "source": [
    "The overall accuracy with the custom transformer removed is 0.71, a little higher.  Is this an early indication that our custom transformer actually impacts our model in a negative way?"
   ]
  },
  {
   "cell_type": "markdown",
   "id": "414f72da",
   "metadata": {},
   "source": [
    "### Spot check some Tweets - some made up and some taken from Twitter"
   ]
  },
  {
   "cell_type": "code",
   "execution_count": 337,
   "id": "1cff7710",
   "metadata": {},
   "outputs": [
    {
     "data": {
      "text/plain": [
       "array(['negative'], dtype=object)"
      ]
     },
     "execution_count": 337,
     "metadata": {},
     "output_type": "execute_result"
    }
   ],
   "source": [
    "# negative\n",
    "pipeline.predict([\"OMG I really hate this stupid website :(\"])"
   ]
  },
  {
   "cell_type": "code",
   "execution_count": 338,
   "id": "07c9fe8b",
   "metadata": {},
   "outputs": [
    {
     "data": {
      "text/plain": [
       "array(['negative'], dtype=object)"
      ]
     },
     "execution_count": 338,
     "metadata": {},
     "output_type": "execute_result"
    }
   ],
   "source": [
    "# negative\n",
    "pipeline.predict([\"feel really sick today\"])"
   ]
  },
  {
   "cell_type": "code",
   "execution_count": 339,
   "id": "12ca1d69",
   "metadata": {},
   "outputs": [
    {
     "data": {
      "text/plain": [
       "array(['positive'], dtype=object)"
      ]
     },
     "execution_count": 339,
     "metadata": {},
     "output_type": "execute_result"
    }
   ],
   "source": [
    "# positive\n",
    "pipeline.predict([\"is watching Dancing on Ice LMAO\"])"
   ]
  },
  {
   "cell_type": "code",
   "execution_count": 340,
   "id": "a58b8e1c",
   "metadata": {},
   "outputs": [
    {
     "data": {
      "text/plain": [
       "array(['negative'], dtype=object)"
      ]
     },
     "execution_count": 340,
     "metadata": {},
     "output_type": "execute_result"
    }
   ],
   "source": [
    "# negative\n",
    "pipeline.predict([\"can't believe the banking app is down again, endless\"])"
   ]
  },
  {
   "cell_type": "code",
   "execution_count": 341,
   "id": "cdb5035f",
   "metadata": {},
   "outputs": [
    {
     "data": {
      "text/plain": [
       "array(['positive'], dtype=object)"
      ]
     },
     "execution_count": 341,
     "metadata": {},
     "output_type": "execute_result"
    }
   ],
   "source": [
    "# negative\n",
    "pipeline.predict([\"Ew dude a youtuber?! Man they'll let anyone in these days\"])"
   ]
  },
  {
   "cell_type": "code",
   "execution_count": 342,
   "id": "33cd25ca",
   "metadata": {},
   "outputs": [
    {
     "data": {
      "text/plain": [
       "array(['negative'], dtype=object)"
      ]
     },
     "execution_count": 342,
     "metadata": {},
     "output_type": "execute_result"
    }
   ],
   "source": [
    "# negative\n",
    "pipeline.predict([\"i finally got to play pure yordles - got everything 6 starred and got my first veigar then i promptly died next turn :(\"])"
   ]
  },
  {
   "cell_type": "code",
   "execution_count": 343,
   "id": "75c5225b",
   "metadata": {},
   "outputs": [
    {
     "data": {
      "text/plain": [
       "array(['positive'], dtype=object)"
      ]
     },
     "execution_count": 343,
     "metadata": {},
     "output_type": "execute_result"
    }
   ],
   "source": [
    "# positive\n",
    "pipeline.predict([\"7 years ago I finished 2 degrees while also working on my nail art blog. Tuition is $$$, and it can be hard to pursue your creative passions and education at the same time. So I started a scholarship that supports students who are doing both every year, forever!!\"])"
   ]
  },
  {
   "cell_type": "code",
   "execution_count": 344,
   "id": "dda5819e",
   "metadata": {},
   "outputs": [
    {
     "data": {
      "text/plain": [
       "array(['positive'], dtype=object)"
      ]
     },
     "execution_count": 344,
     "metadata": {},
     "output_type": "execute_result"
    }
   ],
   "source": [
    "# negative\n",
    "pipeline.predict([\"Students who protested against the far right Israeli Ambassador have been demonised by mainstream media outlets, and by Tory and Labour politicians. This is the truth.\"])"
   ]
  },
  {
   "cell_type": "markdown",
   "id": "15bf5588",
   "metadata": {},
   "source": [
    "## Let's try some different classifiers - testing with our custom transformer and without"
   ]
  },
  {
   "cell_type": "markdown",
   "id": "a7f52516",
   "metadata": {},
   "source": [
    "### Create a function to make testing other models easier"
   ]
  },
  {
   "cell_type": "code",
   "execution_count": 10,
   "id": "574975a0",
   "metadata": {},
   "outputs": [],
   "source": [
    "def fit_train_test_model(X, Y, classifier, incl_custom_transformer):\n",
    "    '''\n",
    "    A function to more easily test different Machine Learning models.  The function builds a Pipeline, splits\n",
    "    the data into training and test sets, trains the model, tests the model against some example Tweets,\n",
    "    and prints the classification report for the model.\n",
    "    \n",
    "    The user has the option when calling the function whether or not to include the custom transformer,\n",
    "    TextCountsTransformer(), in the Pipeline.\n",
    "    \n",
    "    INPUTS:\n",
    "    X - (series) text column from our data\n",
    "    Y - (series) target output column from our data\n",
    "    classifier - model to be used\n",
    "    incl_custom_transformer - (boolean) indicates whether or not to use the custom transformer\n",
    "    \n",
    "    OUTPUTS:\n",
    "    pipeline - (Pipeline object) our trained model\n",
    "    Classification report for the model, and indicator of how many example Tweets the model correctly classified\n",
    "    '''\n",
    "    \n",
    "    # Specify the pipeline - include custom transformer if specified in input\n",
    "    if incl_custom_transformer:\n",
    "        pipeline = Pipeline([\n",
    "            ('features', FeatureUnion([\n",
    "                ('text_pipeline', Pipeline([\n",
    "                    ('vect', CountVectorizer(tokenizer=tokenize)),\n",
    "                    ('tfidf', TfidfTransformer())\n",
    "                ])),\n",
    "                ('counts', TextCountsTransformer())\n",
    "            ])),\n",
    "            ('clf', classifier)\n",
    "        ])\n",
    "    else:\n",
    "        pipeline = Pipeline([\n",
    "            ('features', FeatureUnion([\n",
    "                ('text_pipeline', Pipeline([\n",
    "                    ('vect', CountVectorizer(tokenizer=tokenize)),\n",
    "                    ('tfidf', TfidfTransformer())\n",
    "                ]))\n",
    "            ])),\n",
    "            ('clf', classifier)\n",
    "        ])\n",
    "    \n",
    "    # Train the pipeline and make predictions\n",
    "    X_train, X_test, Y_train, Y_test = train_test_split(X, Y, random_state=42)\n",
    "    pipeline.fit(X_train, Y_train)\n",
    "    Y_pred = pipeline.predict(X_test)\n",
    "    \n",
    "    # Test model on some example Tweets\n",
    "    test_tweets = [\n",
    "        [\"OMG I really hate this stupid website :(\"],\n",
    "        [\"feel really sick today\"],\n",
    "        [\"is watching Dancing on Ice LMAO\"],\n",
    "        [\"can't believe the banking app is down again, endless\"],\n",
    "        [\"Ew dude a youtuber?! Man they'll let anyone in these days\"],\n",
    "        [\"i finally got to play pure yordles - got everything 6 starred and got my first veigar then i promptly died next turn :(\"],\n",
    "        [\"7 years ago I finished 2 degrees while also working on my nail art blog. Tuition is $$$, and it can be hard to pursue your creative passions and education at the same time. So I started a scholarship that supports students who are doing both every year, forever!!\"],\n",
    "        [\"Students who protested against the far right Israeli Ambassador have been demonised by mainstream media outlets, and by Tory and Labour politicians. This is the truth.\"]\n",
    "    ]\n",
    "    \n",
    "    test_tweets_true_sentiments = [\"negative\", \"negative\", \"positive\", \"negative\", \"negative\", \"negative\", \"positive\", \"negative\"]\n",
    "    \n",
    "    score = 0\n",
    "    for i in range(0, len(test_tweets)):\n",
    "        result = pipeline.predict(test_tweets[i])[0]\n",
    "        if result == test_tweets_true_sentiments[i]:\n",
    "            score += 1\n",
    "    \n",
    "    # Print Classification Report\n",
    "    print(\"{} Report:\".format(classifier))\n",
    "    print(classification_report(Y_test, Y_pred, zero_division=0))\n",
    "    print(\"TextCountsTransformer() custom transformer used: {}\".format(incl_custom_transformer))\n",
    "    \n",
    "    # Print results from our example tweets\n",
    "    print(\"The {} model correctly classified {}/{} of the test Tweets.\".format(classifier, score, len(test_tweets)))\n",
    "    \n",
    "    return pipeline"
   ]
  },
  {
   "cell_type": "markdown",
   "id": "7a06d617",
   "metadata": {},
   "source": [
    "### Logistic Regression"
   ]
  },
  {
   "cell_type": "code",
   "execution_count": 76,
   "id": "95e5df94",
   "metadata": {},
   "outputs": [],
   "source": [
    "from sklearn.linear_model import LogisticRegression"
   ]
  },
  {
   "cell_type": "code",
   "execution_count": 183,
   "id": "9f745343",
   "metadata": {},
   "outputs": [
    {
     "name": "stderr",
     "output_type": "stream",
     "text": [
      "C:\\Users\\rache\\anaconda3\\lib\\site-packages\\sklearn\\linear_model\\_logistic.py:814: ConvergenceWarning: lbfgs failed to converge (status=1):\n",
      "STOP: TOTAL NO. of ITERATIONS REACHED LIMIT.\n",
      "\n",
      "Increase the number of iterations (max_iter) or scale the data as shown in:\n",
      "    https://scikit-learn.org/stable/modules/preprocessing.html\n",
      "Please also refer to the documentation for alternative solver options:\n",
      "    https://scikit-learn.org/stable/modules/linear_model.html#logistic-regression\n",
      "  n_iter_i = _check_optimize_result(\n"
     ]
    },
    {
     "name": "stdout",
     "output_type": "stream",
     "text": [
      "LogisticRegression() Report:\n",
      "              precision    recall  f1-score   support\n",
      "\n",
      "    negative       0.77      0.74      0.75      1272\n",
      "    positive       0.74      0.77      0.75      1228\n",
      "\n",
      "    accuracy                           0.75      2500\n",
      "   macro avg       0.75      0.75      0.75      2500\n",
      "weighted avg       0.75      0.75      0.75      2500\n",
      "\n",
      "TextCountsTransformer() custom transformer used: True\n",
      "The LogisticRegression() model correctly classified 5/8 of the test Tweets.\n"
     ]
    }
   ],
   "source": [
    "pipeline = fit_train_test_model(X, Y, LogisticRegression(), True)"
   ]
  },
  {
   "cell_type": "code",
   "execution_count": 184,
   "id": "e745618a",
   "metadata": {},
   "outputs": [
    {
     "name": "stdout",
     "output_type": "stream",
     "text": [
      "LogisticRegression() Report:\n",
      "              precision    recall  f1-score   support\n",
      "\n",
      "    negative       0.77      0.73      0.75      1272\n",
      "    positive       0.74      0.78      0.76      1228\n",
      "\n",
      "    accuracy                           0.76      2500\n",
      "   macro avg       0.76      0.76      0.76      2500\n",
      "weighted avg       0.76      0.76      0.76      2500\n",
      "\n",
      "TextCountsTransformer() custom transformer used: False\n",
      "The LogisticRegression() model correctly classified 4/8 of the test Tweets.\n"
     ]
    }
   ],
   "source": [
    "pipeline = fit_train_test_model(X, Y, LogisticRegression(), False)"
   ]
  },
  {
   "cell_type": "markdown",
   "id": "6b656a34",
   "metadata": {},
   "source": [
    "Logistic Regression has better scores than Decision Tree even without hyperparameter tuning - it is also fairly easy to interpret."
   ]
  },
  {
   "cell_type": "markdown",
   "id": "2bafc81e",
   "metadata": {},
   "source": [
    "### Gradient Boosting"
   ]
  },
  {
   "cell_type": "code",
   "execution_count": 81,
   "id": "0f119e89",
   "metadata": {},
   "outputs": [],
   "source": [
    "from sklearn.ensemble import GradientBoostingClassifier"
   ]
  },
  {
   "cell_type": "code",
   "execution_count": 185,
   "id": "e7cc80e9",
   "metadata": {},
   "outputs": [
    {
     "name": "stdout",
     "output_type": "stream",
     "text": [
      "GradientBoostingClassifier() Report:\n",
      "              precision    recall  f1-score   support\n",
      "\n",
      "    negative       0.71      0.73      0.72      1272\n",
      "    positive       0.71      0.70      0.70      1228\n",
      "\n",
      "    accuracy                           0.71      2500\n",
      "   macro avg       0.71      0.71      0.71      2500\n",
      "weighted avg       0.71      0.71      0.71      2500\n",
      "\n",
      "TextCountsTransformer() custom transformer used: True\n",
      "The GradientBoostingClassifier() model correctly classified 7/8 of the test Tweets.\n"
     ]
    }
   ],
   "source": [
    "pipeline = fit_train_test_model(X, Y, GradientBoostingClassifier(), True)"
   ]
  },
  {
   "cell_type": "code",
   "execution_count": 186,
   "id": "03d81e5a",
   "metadata": {},
   "outputs": [
    {
     "name": "stdout",
     "output_type": "stream",
     "text": [
      "GradientBoostingClassifier() Report:\n",
      "              precision    recall  f1-score   support\n",
      "\n",
      "    negative       0.71      0.73      0.72      1272\n",
      "    positive       0.71      0.69      0.70      1228\n",
      "\n",
      "    accuracy                           0.71      2500\n",
      "   macro avg       0.71      0.71      0.71      2500\n",
      "weighted avg       0.71      0.71      0.71      2500\n",
      "\n",
      "TextCountsTransformer() custom transformer used: False\n",
      "The GradientBoostingClassifier() model correctly classified 7/8 of the test Tweets.\n"
     ]
    }
   ],
   "source": [
    "pipeline = fit_train_test_model(X, Y, GradientBoostingClassifier(), False)"
   ]
  },
  {
   "cell_type": "markdown",
   "id": "2cd493be",
   "metadata": {},
   "source": [
    "Gradient Boosting doesn't perform that much better than Decision Tree."
   ]
  },
  {
   "cell_type": "markdown",
   "id": "368ec0bd",
   "metadata": {},
   "source": [
    "### Random Forest Classifier"
   ]
  },
  {
   "cell_type": "code",
   "execution_count": 84,
   "id": "57a4a1e7",
   "metadata": {},
   "outputs": [],
   "source": [
    "from sklearn.ensemble import RandomForestClassifier"
   ]
  },
  {
   "cell_type": "code",
   "execution_count": 187,
   "id": "1c194948",
   "metadata": {},
   "outputs": [
    {
     "name": "stdout",
     "output_type": "stream",
     "text": [
      "RandomForestClassifier() Report:\n",
      "              precision    recall  f1-score   support\n",
      "\n",
      "    negative       0.73      0.75      0.74      1272\n",
      "    positive       0.74      0.72      0.73      1228\n",
      "\n",
      "    accuracy                           0.73      2500\n",
      "   macro avg       0.73      0.73      0.73      2500\n",
      "weighted avg       0.73      0.73      0.73      2500\n",
      "\n",
      "TextCountsTransformer() custom transformer used: True\n",
      "The RandomForestClassifier() model correctly classified 6/8 of the test Tweets.\n"
     ]
    }
   ],
   "source": [
    "pipeline = fit_train_test_model(X, Y, RandomForestClassifier(), True)"
   ]
  },
  {
   "cell_type": "code",
   "execution_count": 188,
   "id": "3e7f3c84",
   "metadata": {},
   "outputs": [
    {
     "name": "stdout",
     "output_type": "stream",
     "text": [
      "RandomForestClassifier() Report:\n",
      "              precision    recall  f1-score   support\n",
      "\n",
      "    negative       0.74      0.76      0.75      1272\n",
      "    positive       0.75      0.73      0.74      1228\n",
      "\n",
      "    accuracy                           0.74      2500\n",
      "   macro avg       0.74      0.74      0.74      2500\n",
      "weighted avg       0.74      0.74      0.74      2500\n",
      "\n",
      "TextCountsTransformer() custom transformer used: False\n",
      "The RandomForestClassifier() model correctly classified 6/8 of the test Tweets.\n"
     ]
    }
   ],
   "source": [
    "pipeline = fit_train_test_model(X, Y, RandomForestClassifier(), False)"
   ]
  },
  {
   "cell_type": "markdown",
   "id": "e8add66c",
   "metadata": {},
   "source": [
    "Random Forest has better scores than Decision Tree but is a bit harder to interpret."
   ]
  },
  {
   "cell_type": "markdown",
   "id": "d8e269e5",
   "metadata": {},
   "source": [
    "### SVC"
   ]
  },
  {
   "cell_type": "code",
   "execution_count": 87,
   "id": "d2ad3404",
   "metadata": {},
   "outputs": [],
   "source": [
    "from sklearn.svm import SVC"
   ]
  },
  {
   "cell_type": "code",
   "execution_count": 189,
   "id": "f3693649",
   "metadata": {},
   "outputs": [
    {
     "name": "stdout",
     "output_type": "stream",
     "text": [
      "SVC() Report:\n",
      "              precision    recall  f1-score   support\n",
      "\n",
      "    negative       0.61      0.64      0.63      1272\n",
      "    positive       0.61      0.57      0.59      1228\n",
      "\n",
      "    accuracy                           0.61      2500\n",
      "   macro avg       0.61      0.61      0.61      2500\n",
      "weighted avg       0.61      0.61      0.61      2500\n",
      "\n",
      "TextCountsTransformer() custom transformer used: True\n",
      "The SVC() model correctly classified 6/8 of the test Tweets.\n"
     ]
    }
   ],
   "source": [
    "pipeline = fit_train_test_model(X, Y, SVC(), True)"
   ]
  },
  {
   "cell_type": "code",
   "execution_count": 190,
   "id": "651e5be0",
   "metadata": {},
   "outputs": [
    {
     "name": "stdout",
     "output_type": "stream",
     "text": [
      "SVC() Report:\n",
      "              precision    recall  f1-score   support\n",
      "\n",
      "    negative       0.78      0.75      0.76      1272\n",
      "    positive       0.75      0.78      0.76      1228\n",
      "\n",
      "    accuracy                           0.76      2500\n",
      "   macro avg       0.76      0.76      0.76      2500\n",
      "weighted avg       0.76      0.76      0.76      2500\n",
      "\n",
      "TextCountsTransformer() custom transformer used: False\n",
      "The SVC() model correctly classified 4/8 of the test Tweets.\n"
     ]
    }
   ],
   "source": [
    "pipeline = fit_train_test_model(X, Y, SVC(), False)"
   ]
  },
  {
   "cell_type": "markdown",
   "id": "14bf84da",
   "metadata": {},
   "source": [
    "Strangely, SVC performs far worse when we include the custom transformer, but performs quite well without it."
   ]
  },
  {
   "cell_type": "markdown",
   "id": "881d286d",
   "metadata": {},
   "source": [
    "### Linear SVC"
   ]
  },
  {
   "cell_type": "code",
   "execution_count": 92,
   "id": "f9a624c6",
   "metadata": {},
   "outputs": [],
   "source": [
    "from sklearn.svm import LinearSVC"
   ]
  },
  {
   "cell_type": "code",
   "execution_count": 191,
   "id": "ff105a83",
   "metadata": {},
   "outputs": [
    {
     "name": "stderr",
     "output_type": "stream",
     "text": [
      "C:\\Users\\rache\\anaconda3\\lib\\site-packages\\sklearn\\svm\\_base.py:1206: ConvergenceWarning: Liblinear failed to converge, increase the number of iterations.\n",
      "  warnings.warn(\n"
     ]
    },
    {
     "name": "stdout",
     "output_type": "stream",
     "text": [
      "LinearSVC() Report:\n",
      "              precision    recall  f1-score   support\n",
      "\n",
      "    negative       0.76      0.75      0.75      1272\n",
      "    positive       0.74      0.75      0.75      1228\n",
      "\n",
      "    accuracy                           0.75      2500\n",
      "   macro avg       0.75      0.75      0.75      2500\n",
      "weighted avg       0.75      0.75      0.75      2500\n",
      "\n",
      "TextCountsTransformer() custom transformer used: True\n",
      "The LinearSVC() model correctly classified 4/8 of the test Tweets.\n"
     ]
    }
   ],
   "source": [
    "pipeline = fit_train_test_model(X, Y, LinearSVC(), True)"
   ]
  },
  {
   "cell_type": "code",
   "execution_count": 192,
   "id": "075e46b2",
   "metadata": {},
   "outputs": [
    {
     "name": "stdout",
     "output_type": "stream",
     "text": [
      "LinearSVC() Report:\n",
      "              precision    recall  f1-score   support\n",
      "\n",
      "    negative       0.76      0.73      0.75      1272\n",
      "    positive       0.73      0.75      0.74      1228\n",
      "\n",
      "    accuracy                           0.74      2500\n",
      "   macro avg       0.74      0.74      0.74      2500\n",
      "weighted avg       0.74      0.74      0.74      2500\n",
      "\n",
      "TextCountsTransformer() custom transformer used: False\n",
      "The LinearSVC() model correctly classified 3/8 of the test Tweets.\n"
     ]
    }
   ],
   "source": [
    "pipeline = fit_train_test_model(X, Y, LinearSVC(), False)"
   ]
  },
  {
   "cell_type": "markdown",
   "id": "abf09cba",
   "metadata": {},
   "source": [
    "### K Neighbors"
   ]
  },
  {
   "cell_type": "code",
   "execution_count": 95,
   "id": "ad09e8ec",
   "metadata": {},
   "outputs": [],
   "source": [
    "from sklearn.neighbors import KNeighborsClassifier"
   ]
  },
  {
   "cell_type": "code",
   "execution_count": 193,
   "id": "2810fb6e",
   "metadata": {},
   "outputs": [
    {
     "name": "stdout",
     "output_type": "stream",
     "text": [
      "KNeighborsClassifier() Report:\n",
      "              precision    recall  f1-score   support\n",
      "\n",
      "    negative       0.62      0.69      0.66      1272\n",
      "    positive       0.64      0.57      0.60      1228\n",
      "\n",
      "    accuracy                           0.63      2500\n",
      "   macro avg       0.63      0.63      0.63      2500\n",
      "weighted avg       0.63      0.63      0.63      2500\n",
      "\n",
      "TextCountsTransformer() custom transformer used: True\n",
      "The KNeighborsClassifier() model correctly classified 4/8 of the test Tweets.\n"
     ]
    }
   ],
   "source": [
    "pipeline = fit_train_test_model(X, Y, KNeighborsClassifier(), True)"
   ]
  },
  {
   "cell_type": "code",
   "execution_count": 194,
   "id": "4fe6a7a0",
   "metadata": {},
   "outputs": [
    {
     "name": "stdout",
     "output_type": "stream",
     "text": [
      "KNeighborsClassifier() Report:\n",
      "              precision    recall  f1-score   support\n",
      "\n",
      "    negative       0.66      0.79      0.72      1272\n",
      "    positive       0.73      0.58      0.64      1228\n",
      "\n",
      "    accuracy                           0.69      2500\n",
      "   macro avg       0.69      0.68      0.68      2500\n",
      "weighted avg       0.69      0.69      0.68      2500\n",
      "\n",
      "TextCountsTransformer() custom transformer used: False\n",
      "The KNeighborsClassifier() model correctly classified 5/8 of the test Tweets.\n"
     ]
    }
   ],
   "source": [
    "pipeline = fit_train_test_model(X, Y, KNeighborsClassifier(), False)"
   ]
  },
  {
   "cell_type": "markdown",
   "id": "4bef7fe2",
   "metadata": {},
   "source": [
    "### Extra Trees"
   ]
  },
  {
   "cell_type": "code",
   "execution_count": 98,
   "id": "6a7556e9",
   "metadata": {},
   "outputs": [],
   "source": [
    "from sklearn.ensemble import ExtraTreesClassifier"
   ]
  },
  {
   "cell_type": "code",
   "execution_count": 195,
   "id": "f750d369",
   "metadata": {},
   "outputs": [
    {
     "name": "stdout",
     "output_type": "stream",
     "text": [
      "ExtraTreesClassifier() Report:\n",
      "              precision    recall  f1-score   support\n",
      "\n",
      "    negative       0.76      0.75      0.76      1272\n",
      "    positive       0.75      0.76      0.75      1228\n",
      "\n",
      "    accuracy                           0.75      2500\n",
      "   macro avg       0.75      0.75      0.75      2500\n",
      "weighted avg       0.75      0.75      0.75      2500\n",
      "\n",
      "TextCountsTransformer() custom transformer used: True\n",
      "The ExtraTreesClassifier() model correctly classified 6/8 of the test Tweets.\n"
     ]
    }
   ],
   "source": [
    "pipeline = fit_train_test_model(X, Y, ExtraTreesClassifier(), True)"
   ]
  },
  {
   "cell_type": "code",
   "execution_count": 196,
   "id": "69c7e5fa",
   "metadata": {
    "scrolled": true
   },
   "outputs": [
    {
     "name": "stdout",
     "output_type": "stream",
     "text": [
      "ExtraTreesClassifier() Report:\n",
      "              precision    recall  f1-score   support\n",
      "\n",
      "    negative       0.75      0.78      0.76      1272\n",
      "    positive       0.76      0.73      0.74      1228\n",
      "\n",
      "    accuracy                           0.75      2500\n",
      "   macro avg       0.75      0.75      0.75      2500\n",
      "weighted avg       0.75      0.75      0.75      2500\n",
      "\n",
      "TextCountsTransformer() custom transformer used: False\n",
      "The ExtraTreesClassifier() model correctly classified 7/8 of the test Tweets.\n"
     ]
    }
   ],
   "source": [
    "pipeline = fit_train_test_model(X, Y, ExtraTreesClassifier(), False)"
   ]
  },
  {
   "cell_type": "markdown",
   "id": "37ff43ba",
   "metadata": {},
   "source": [
    "### AdaBoost"
   ]
  },
  {
   "cell_type": "code",
   "execution_count": 101,
   "id": "ba2677e4",
   "metadata": {},
   "outputs": [],
   "source": [
    "from sklearn.ensemble import AdaBoostClassifier"
   ]
  },
  {
   "cell_type": "code",
   "execution_count": 197,
   "id": "8763d625",
   "metadata": {},
   "outputs": [
    {
     "name": "stdout",
     "output_type": "stream",
     "text": [
      "AdaBoostClassifier() Report:\n",
      "              precision    recall  f1-score   support\n",
      "\n",
      "    negative       0.69      0.76      0.72      1272\n",
      "    positive       0.72      0.65      0.68      1228\n",
      "\n",
      "    accuracy                           0.70      2500\n",
      "   macro avg       0.71      0.70      0.70      2500\n",
      "weighted avg       0.71      0.70      0.70      2500\n",
      "\n",
      "TextCountsTransformer() custom transformer used: True\n",
      "The AdaBoostClassifier() model correctly classified 7/8 of the test Tweets.\n"
     ]
    }
   ],
   "source": [
    "pipeline = fit_train_test_model(X, Y, AdaBoostClassifier(), True)"
   ]
  },
  {
   "cell_type": "code",
   "execution_count": 198,
   "id": "27423536",
   "metadata": {},
   "outputs": [
    {
     "name": "stdout",
     "output_type": "stream",
     "text": [
      "AdaBoostClassifier() Report:\n",
      "              precision    recall  f1-score   support\n",
      "\n",
      "    negative       0.69      0.76      0.72      1272\n",
      "    positive       0.72      0.65      0.68      1228\n",
      "\n",
      "    accuracy                           0.70      2500\n",
      "   macro avg       0.71      0.70      0.70      2500\n",
      "weighted avg       0.71      0.70      0.70      2500\n",
      "\n",
      "TextCountsTransformer() custom transformer used: False\n",
      "The AdaBoostClassifier() model correctly classified 7/8 of the test Tweets.\n"
     ]
    }
   ],
   "source": [
    "pipeline = fit_train_test_model(X, Y, AdaBoostClassifier(), False)"
   ]
  },
  {
   "cell_type": "markdown",
   "id": "0ec6644b",
   "metadata": {},
   "source": [
    "### Naive Bayes"
   ]
  },
  {
   "cell_type": "code",
   "execution_count": 104,
   "id": "04a7660b",
   "metadata": {},
   "outputs": [],
   "source": [
    "from sklearn.naive_bayes import BernoulliNB"
   ]
  },
  {
   "cell_type": "code",
   "execution_count": 199,
   "id": "841cd702",
   "metadata": {},
   "outputs": [
    {
     "name": "stdout",
     "output_type": "stream",
     "text": [
      "BernoulliNB() Report:\n",
      "              precision    recall  f1-score   support\n",
      "\n",
      "    negative       0.76      0.72      0.74      1272\n",
      "    positive       0.73      0.77      0.75      1228\n",
      "\n",
      "    accuracy                           0.75      2500\n",
      "   macro avg       0.75      0.75      0.75      2500\n",
      "weighted avg       0.75      0.75      0.75      2500\n",
      "\n",
      "TextCountsTransformer() custom transformer used: True\n",
      "The BernoulliNB() model correctly classified 5/8 of the test Tweets.\n"
     ]
    }
   ],
   "source": [
    "pipeline = fit_train_test_model(X, Y, BernoulliNB(), True)"
   ]
  },
  {
   "cell_type": "code",
   "execution_count": 200,
   "id": "65c5e518",
   "metadata": {},
   "outputs": [
    {
     "name": "stdout",
     "output_type": "stream",
     "text": [
      "BernoulliNB() Report:\n",
      "              precision    recall  f1-score   support\n",
      "\n",
      "    negative       0.78      0.72      0.75      1272\n",
      "    positive       0.73      0.79      0.76      1228\n",
      "\n",
      "    accuracy                           0.76      2500\n",
      "   macro avg       0.76      0.76      0.76      2500\n",
      "weighted avg       0.76      0.76      0.76      2500\n",
      "\n",
      "TextCountsTransformer() custom transformer used: False\n",
      "The BernoulliNB() model correctly classified 3/8 of the test Tweets.\n"
     ]
    }
   ],
   "source": [
    "pipeline = fit_train_test_model(X, Y, BernoulliNB(), False)"
   ]
  },
  {
   "cell_type": "markdown",
   "id": "723a6366",
   "metadata": {},
   "source": [
    "It does look like using our custom transformer gives us consistently slightly worse results. <br> Here is a summary of the results we observed training the different models on a subset of our data (wihtout using the custom transformer):"
   ]
  },
  {
   "cell_type": "markdown",
   "id": "58577a8c",
   "metadata": {},
   "source": [
    "| Modelling Method | Precision (negative) | Recall (negative) | F1-Score (negative) | Precision (positive) | Recall (positive) | F1-Score (positive) | Accuracy |\n",
    "| :- | -: | -: | -: | -: | -: | -: | -: |\n",
    "| Decision Tree | 0.70 | 0.73 | 0.72 | 0.71 | 0.68 | 0.69 | 0.71 |\n",
    "| Logistic Regression | 0.77 | 0.73 | 0.75 | 0.74 | 0.78 | 0.76 | 0.76 |\n",
    "| Gradient Boosting | 0.71 | 0.73 | 0.72 | 0.71 | 0.69 | 0.70 | 0.71 |\n",
    "| Random Forest | 0.74 | 0.76 | 0.75 | 0.75 | 0.73 | 0.74 | 0.74 |\n",
    "| SVC | 0.78 | 0.75 | 0.76 | 0.75 | 0.78 | 0.76 | 0.76 |\n",
    "| Linear SVC | 0.76 | 0.73 | 0.75 | 0.73 | 0.75 | 0.74 | 0.74 |\n",
    "| K Neighbours | 0.66 | 0.79 | 0.72 | 0.73 | 0.58 | 0.64 | 0.69 |\n",
    "| Extra Trees | 0.75 | 0.78 | 0.76 | 0.76 | 0.73 | 0.74 | 0.75 |\n",
    "| Ada Boost | 0.69 | 0.76 | 0.72 | 0.72 | 0.65 | 0.68 | 0.70 |\n",
    "| Bernoulli Naive Bayes | 0.78 | 0.72 | 0.75 | 0.73 | 0.79 | 0.76 | 0.76 |"
   ]
  },
  {
   "cell_type": "markdown",
   "id": "4bac345b",
   "metadata": {},
   "source": [
    "Logistic Regression, SVC, and Bernoulli NB give the best results.  We will go ahead with using Logistic Regression since it has an advantage of being fairly easy to interpret compared to some of the other models."
   ]
  },
  {
   "cell_type": "markdown",
   "id": "295eab75",
   "metadata": {},
   "source": [
    "### Training on whole dataset"
   ]
  },
  {
   "cell_type": "markdown",
   "id": "90fd9383",
   "metadata": {},
   "source": [
    "We will proceed with the Logistic Regression model and train it on the whole dataset (previously we were using a subset of the data)."
   ]
  },
  {
   "cell_type": "code",
   "execution_count": 11,
   "id": "0472b86c",
   "metadata": {},
   "outputs": [],
   "source": [
    "X = tweets[\"text\"]\n",
    "Y = tweets[\"sentiment\"]"
   ]
  },
  {
   "cell_type": "code",
   "execution_count": 12,
   "id": "78c3d397",
   "metadata": {},
   "outputs": [
    {
     "data": {
      "text/plain": [
       "((1600000,), (1600000,))"
      ]
     },
     "execution_count": 12,
     "metadata": {},
     "output_type": "execute_result"
    }
   ],
   "source": [
    "X.shape, Y.shape"
   ]
  },
  {
   "cell_type": "code",
   "execution_count": 203,
   "id": "1d90f286",
   "metadata": {},
   "outputs": [
    {
     "name": "stderr",
     "output_type": "stream",
     "text": [
      "C:\\Users\\rache\\anaconda3\\lib\\site-packages\\sklearn\\linear_model\\_logistic.py:814: ConvergenceWarning: lbfgs failed to converge (status=1):\n",
      "STOP: TOTAL NO. of ITERATIONS REACHED LIMIT.\n",
      "\n",
      "Increase the number of iterations (max_iter) or scale the data as shown in:\n",
      "    https://scikit-learn.org/stable/modules/preprocessing.html\n",
      "Please also refer to the documentation for alternative solver options:\n",
      "    https://scikit-learn.org/stable/modules/linear_model.html#logistic-regression\n",
      "  n_iter_i = _check_optimize_result(\n"
     ]
    },
    {
     "name": "stdout",
     "output_type": "stream",
     "text": [
      "LogisticRegression() Report:\n",
      "              precision    recall  f1-score   support\n",
      "\n",
      "    negative       0.79      0.76      0.77    199581\n",
      "    positive       0.77      0.80      0.78    200419\n",
      "\n",
      "    accuracy                           0.78    400000\n",
      "   macro avg       0.78      0.78      0.78    400000\n",
      "weighted avg       0.78      0.78      0.78    400000\n",
      "\n",
      "TextCountsTransformer() custom transformer used: True\n",
      "The LogisticRegression() model correctly classified 5/8 of the test Tweets.\n"
     ]
    }
   ],
   "source": [
    "# First training with the custom transformer\n",
    "pipeline = fit_train_test_model(X, Y, classifier=LogisticRegression(), incl_custom_transformer=True)"
   ]
  },
  {
   "cell_type": "code",
   "execution_count": 204,
   "id": "ade06d83",
   "metadata": {},
   "outputs": [
    {
     "name": "stderr",
     "output_type": "stream",
     "text": [
      "C:\\Users\\rache\\anaconda3\\lib\\site-packages\\sklearn\\linear_model\\_logistic.py:814: ConvergenceWarning: lbfgs failed to converge (status=1):\n",
      "STOP: TOTAL NO. of ITERATIONS REACHED LIMIT.\n",
      "\n",
      "Increase the number of iterations (max_iter) or scale the data as shown in:\n",
      "    https://scikit-learn.org/stable/modules/preprocessing.html\n",
      "Please also refer to the documentation for alternative solver options:\n",
      "    https://scikit-learn.org/stable/modules/linear_model.html#logistic-regression\n",
      "  n_iter_i = _check_optimize_result(\n"
     ]
    },
    {
     "name": "stdout",
     "output_type": "stream",
     "text": [
      "LogisticRegression() Report:\n",
      "              precision    recall  f1-score   support\n",
      "\n",
      "    negative       0.80      0.78      0.79    199581\n",
      "    positive       0.78      0.81      0.80    200419\n",
      "\n",
      "    accuracy                           0.79    400000\n",
      "   macro avg       0.79      0.79      0.79    400000\n",
      "weighted avg       0.79      0.79      0.79    400000\n",
      "\n",
      "TextCountsTransformer() custom transformer used: False\n",
      "The LogisticRegression() model correctly classified 7/8 of the test Tweets.\n"
     ]
    }
   ],
   "source": [
    "# And training without the custom transformer\n",
    "pipeline2 = fit_train_test_model(X, Y, classifier=LogisticRegression(), incl_custom_transformer=False)"
   ]
  },
  {
   "cell_type": "markdown",
   "id": "912460fa",
   "metadata": {},
   "source": [
    "### Get parameters for the pipeline"
   ]
  },
  {
   "cell_type": "code",
   "execution_count": 44,
   "id": "74f76b8c",
   "metadata": {},
   "outputs": [
    {
     "data": {
      "text/plain": [
       "{'memory': None,\n",
       " 'steps': [('features',\n",
       "   FeatureUnion(transformer_list=[('text_pipeline',\n",
       "                                   Pipeline(steps=[('vect',\n",
       "                                                    CountVectorizer(tokenizer=<function tokenize at 0x000002511013DDC0>)),\n",
       "                                                   ('tfidf',\n",
       "                                                    TfidfTransformer())]))])),\n",
       "  ('clf', LogisticRegression())],\n",
       " 'verbose': False,\n",
       " 'features': FeatureUnion(transformer_list=[('text_pipeline',\n",
       "                                 Pipeline(steps=[('vect',\n",
       "                                                  CountVectorizer(tokenizer=<function tokenize at 0x000002511013DDC0>)),\n",
       "                                                 ('tfidf',\n",
       "                                                  TfidfTransformer())]))]),\n",
       " 'clf': LogisticRegression(),\n",
       " 'features__n_jobs': None,\n",
       " 'features__transformer_list': [('text_pipeline',\n",
       "   Pipeline(steps=[('vect',\n",
       "                    CountVectorizer(tokenizer=<function tokenize at 0x000002511013DDC0>)),\n",
       "                   ('tfidf', TfidfTransformer())]))],\n",
       " 'features__transformer_weights': None,\n",
       " 'features__verbose': False,\n",
       " 'features__text_pipeline': Pipeline(steps=[('vect',\n",
       "                  CountVectorizer(tokenizer=<function tokenize at 0x000002511013DDC0>)),\n",
       "                 ('tfidf', TfidfTransformer())]),\n",
       " 'features__text_pipeline__memory': None,\n",
       " 'features__text_pipeline__steps': [('vect',\n",
       "   CountVectorizer(tokenizer=<function tokenize at 0x000002511013DDC0>)),\n",
       "  ('tfidf', TfidfTransformer())],\n",
       " 'features__text_pipeline__verbose': False,\n",
       " 'features__text_pipeline__vect': CountVectorizer(tokenizer=<function tokenize at 0x000002511013DDC0>),\n",
       " 'features__text_pipeline__tfidf': TfidfTransformer(),\n",
       " 'features__text_pipeline__vect__analyzer': 'word',\n",
       " 'features__text_pipeline__vect__binary': False,\n",
       " 'features__text_pipeline__vect__decode_error': 'strict',\n",
       " 'features__text_pipeline__vect__dtype': numpy.int64,\n",
       " 'features__text_pipeline__vect__encoding': 'utf-8',\n",
       " 'features__text_pipeline__vect__input': 'content',\n",
       " 'features__text_pipeline__vect__lowercase': True,\n",
       " 'features__text_pipeline__vect__max_df': 1.0,\n",
       " 'features__text_pipeline__vect__max_features': None,\n",
       " 'features__text_pipeline__vect__min_df': 1,\n",
       " 'features__text_pipeline__vect__ngram_range': (1, 1),\n",
       " 'features__text_pipeline__vect__preprocessor': None,\n",
       " 'features__text_pipeline__vect__stop_words': None,\n",
       " 'features__text_pipeline__vect__strip_accents': None,\n",
       " 'features__text_pipeline__vect__token_pattern': '(?u)\\\\b\\\\w\\\\w+\\\\b',\n",
       " 'features__text_pipeline__vect__tokenizer': <function __main__.tokenize(text)>,\n",
       " 'features__text_pipeline__vect__vocabulary': None,\n",
       " 'features__text_pipeline__tfidf__norm': 'l2',\n",
       " 'features__text_pipeline__tfidf__smooth_idf': True,\n",
       " 'features__text_pipeline__tfidf__sublinear_tf': False,\n",
       " 'features__text_pipeline__tfidf__use_idf': True,\n",
       " 'clf__C': 1.0,\n",
       " 'clf__class_weight': None,\n",
       " 'clf__dual': False,\n",
       " 'clf__fit_intercept': True,\n",
       " 'clf__intercept_scaling': 1,\n",
       " 'clf__l1_ratio': None,\n",
       " 'clf__max_iter': 100,\n",
       " 'clf__multi_class': 'auto',\n",
       " 'clf__n_jobs': None,\n",
       " 'clf__penalty': 'l2',\n",
       " 'clf__random_state': None,\n",
       " 'clf__solver': 'lbfgs',\n",
       " 'clf__tol': 0.0001,\n",
       " 'clf__verbose': 0,\n",
       " 'clf__warm_start': False}"
      ]
     },
     "execution_count": 44,
     "metadata": {},
     "output_type": "execute_result"
    }
   ],
   "source": [
    "pipeline2.get_params()"
   ]
  },
  {
   "cell_type": "markdown",
   "id": "324537d0",
   "metadata": {},
   "source": [
    "### Select first set of parameters for Grid Search"
   ]
  },
  {
   "cell_type": "code",
   "execution_count": 83,
   "id": "71374662",
   "metadata": {},
   "outputs": [],
   "source": [
    "parameters = {\n",
    "    'features__text_pipeline__vect__ngram_range': ((1, 1), (1, 2), (1, 3)),\n",
    "    'clf__max_iter': [100, 250, 500],\n",
    "    'clf__solver': ['saga'],\n",
    "    'features__text_pipeline__vect__max_df': [0.8, 1.0]\n",
    "}"
   ]
  },
  {
   "cell_type": "code",
   "execution_count": 84,
   "id": "1b3c1f09",
   "metadata": {},
   "outputs": [],
   "source": [
    "# Set up grid search\n",
    "cv = GridSearchCV(pipeline2, param_grid=parameters, cv=2, verbose=3)"
   ]
  },
  {
   "cell_type": "code",
   "execution_count": 85,
   "id": "74c22349",
   "metadata": {},
   "outputs": [],
   "source": [
    "# Set up pipeline without custom transformer\n",
    "pipeline2 = Pipeline([\n",
    "    ('features', FeatureUnion([\n",
    "        ('text_pipeline', Pipeline([\n",
    "            ('vect', CountVectorizer(tokenizer=tokenize)),\n",
    "            ('tfidf', TfidfTransformer())\n",
    "        ]))#,\n",
    "        #('counts', TextCountsTransformer())\n",
    "    ])),\n",
    "    ('clf', LogisticRegression())\n",
    "])"
   ]
  },
  {
   "cell_type": "code",
   "execution_count": 86,
   "id": "c92bd51b",
   "metadata": {},
   "outputs": [],
   "source": [
    "X_train, X_test, Y_train, Y_test = train_test_split(X, Y, random_state=42)"
   ]
  },
  {
   "cell_type": "code",
   "execution_count": 87,
   "id": "7ae2fc1a",
   "metadata": {},
   "outputs": [
    {
     "name": "stdout",
     "output_type": "stream",
     "text": [
      "Fitting 2 folds for each of 18 candidates, totalling 36 fits\n",
      "[CV 1/2] END clf__max_iter=100, clf__solver=saga, features__text_pipeline__vect__max_df=0.8, features__text_pipeline__vect__ngram_range=(1, 1);, score=0.790 total time= 3.5min\n",
      "[CV 2/2] END clf__max_iter=100, clf__solver=saga, features__text_pipeline__vect__max_df=0.8, features__text_pipeline__vect__ngram_range=(1, 1);, score=0.790 total time= 3.5min\n",
      "[CV 1/2] END clf__max_iter=100, clf__solver=saga, features__text_pipeline__vect__max_df=0.8, features__text_pipeline__vect__ngram_range=(1, 2);, score=0.805 total time= 3.9min\n",
      "[CV 2/2] END clf__max_iter=100, clf__solver=saga, features__text_pipeline__vect__max_df=0.8, features__text_pipeline__vect__ngram_range=(1, 2);, score=0.805 total time= 3.8min\n",
      "[CV 1/2] END clf__max_iter=100, clf__solver=saga, features__text_pipeline__vect__max_df=0.8, features__text_pipeline__vect__ngram_range=(1, 3);, score=0.803 total time= 4.2min\n",
      "[CV 2/2] END clf__max_iter=100, clf__solver=saga, features__text_pipeline__vect__max_df=0.8, features__text_pipeline__vect__ngram_range=(1, 3);, score=0.803 total time= 4.2min\n",
      "[CV 1/2] END clf__max_iter=100, clf__solver=saga, features__text_pipeline__vect__max_df=1.0, features__text_pipeline__vect__ngram_range=(1, 1);, score=0.790 total time= 3.5min\n",
      "[CV 2/2] END clf__max_iter=100, clf__solver=saga, features__text_pipeline__vect__max_df=1.0, features__text_pipeline__vect__ngram_range=(1, 1);, score=0.790 total time= 3.5min\n",
      "[CV 1/2] END clf__max_iter=100, clf__solver=saga, features__text_pipeline__vect__max_df=1.0, features__text_pipeline__vect__ngram_range=(1, 2);, score=0.805 total time= 3.9min\n",
      "[CV 2/2] END clf__max_iter=100, clf__solver=saga, features__text_pipeline__vect__max_df=1.0, features__text_pipeline__vect__ngram_range=(1, 2);, score=0.805 total time= 4.0min\n",
      "[CV 1/2] END clf__max_iter=100, clf__solver=saga, features__text_pipeline__vect__max_df=1.0, features__text_pipeline__vect__ngram_range=(1, 3);, score=0.803 total time= 4.3min\n",
      "[CV 2/2] END clf__max_iter=100, clf__solver=saga, features__text_pipeline__vect__max_df=1.0, features__text_pipeline__vect__ngram_range=(1, 3);, score=0.803 total time= 4.3min\n",
      "[CV 1/2] END clf__max_iter=250, clf__solver=saga, features__text_pipeline__vect__max_df=0.8, features__text_pipeline__vect__ngram_range=(1, 1);, score=0.790 total time= 3.5min\n",
      "[CV 2/2] END clf__max_iter=250, clf__solver=saga, features__text_pipeline__vect__max_df=0.8, features__text_pipeline__vect__ngram_range=(1, 1);, score=0.790 total time= 3.5min\n",
      "[CV 1/2] END clf__max_iter=250, clf__solver=saga, features__text_pipeline__vect__max_df=0.8, features__text_pipeline__vect__ngram_range=(1, 2);, score=0.805 total time= 4.0min\n",
      "[CV 2/2] END clf__max_iter=250, clf__solver=saga, features__text_pipeline__vect__max_df=0.8, features__text_pipeline__vect__ngram_range=(1, 2);, score=0.805 total time= 3.9min\n",
      "[CV 1/2] END clf__max_iter=250, clf__solver=saga, features__text_pipeline__vect__max_df=0.8, features__text_pipeline__vect__ngram_range=(1, 3);, score=0.803 total time= 4.3min\n",
      "[CV 2/2] END clf__max_iter=250, clf__solver=saga, features__text_pipeline__vect__max_df=0.8, features__text_pipeline__vect__ngram_range=(1, 3);, score=0.803 total time= 4.2min\n",
      "[CV 1/2] END clf__max_iter=250, clf__solver=saga, features__text_pipeline__vect__max_df=1.0, features__text_pipeline__vect__ngram_range=(1, 1);, score=0.790 total time= 3.4min\n",
      "[CV 2/2] END clf__max_iter=250, clf__solver=saga, features__text_pipeline__vect__max_df=1.0, features__text_pipeline__vect__ngram_range=(1, 1);, score=0.790 total time= 3.5min\n",
      "[CV 1/2] END clf__max_iter=250, clf__solver=saga, features__text_pipeline__vect__max_df=1.0, features__text_pipeline__vect__ngram_range=(1, 2);, score=0.805 total time= 3.9min\n",
      "[CV 2/2] END clf__max_iter=250, clf__solver=saga, features__text_pipeline__vect__max_df=1.0, features__text_pipeline__vect__ngram_range=(1, 2);, score=0.805 total time= 3.9min\n",
      "[CV 1/2] END clf__max_iter=250, clf__solver=saga, features__text_pipeline__vect__max_df=1.0, features__text_pipeline__vect__ngram_range=(1, 3);, score=0.803 total time= 4.3min\n",
      "[CV 2/2] END clf__max_iter=250, clf__solver=saga, features__text_pipeline__vect__max_df=1.0, features__text_pipeline__vect__ngram_range=(1, 3);, score=0.803 total time= 4.2min\n",
      "[CV 1/2] END clf__max_iter=500, clf__solver=saga, features__text_pipeline__vect__max_df=0.8, features__text_pipeline__vect__ngram_range=(1, 1);, score=0.790 total time= 3.5min\n",
      "[CV 2/2] END clf__max_iter=500, clf__solver=saga, features__text_pipeline__vect__max_df=0.8, features__text_pipeline__vect__ngram_range=(1, 1);, score=0.790 total time= 3.4min\n",
      "[CV 1/2] END clf__max_iter=500, clf__solver=saga, features__text_pipeline__vect__max_df=0.8, features__text_pipeline__vect__ngram_range=(1, 2);, score=0.805 total time= 3.9min\n",
      "[CV 2/2] END clf__max_iter=500, clf__solver=saga, features__text_pipeline__vect__max_df=0.8, features__text_pipeline__vect__ngram_range=(1, 2);, score=0.805 total time= 3.9min\n",
      "[CV 1/2] END clf__max_iter=500, clf__solver=saga, features__text_pipeline__vect__max_df=0.8, features__text_pipeline__vect__ngram_range=(1, 3);, score=0.803 total time= 4.4min\n",
      "[CV 2/2] END clf__max_iter=500, clf__solver=saga, features__text_pipeline__vect__max_df=0.8, features__text_pipeline__vect__ngram_range=(1, 3);, score=0.803 total time= 4.3min\n",
      "[CV 1/2] END clf__max_iter=500, clf__solver=saga, features__text_pipeline__vect__max_df=1.0, features__text_pipeline__vect__ngram_range=(1, 1);, score=0.790 total time= 3.5min\n",
      "[CV 2/2] END clf__max_iter=500, clf__solver=saga, features__text_pipeline__vect__max_df=1.0, features__text_pipeline__vect__ngram_range=(1, 1);, score=0.790 total time= 3.5min\n",
      "[CV 1/2] END clf__max_iter=500, clf__solver=saga, features__text_pipeline__vect__max_df=1.0, features__text_pipeline__vect__ngram_range=(1, 2);, score=0.805 total time= 3.9min\n",
      "[CV 2/2] END clf__max_iter=500, clf__solver=saga, features__text_pipeline__vect__max_df=1.0, features__text_pipeline__vect__ngram_range=(1, 2);, score=0.805 total time= 3.8min\n",
      "[CV 1/2] END clf__max_iter=500, clf__solver=saga, features__text_pipeline__vect__max_df=1.0, features__text_pipeline__vect__ngram_range=(1, 3);, score=0.803 total time= 4.2min\n",
      "[CV 2/2] END clf__max_iter=500, clf__solver=saga, features__text_pipeline__vect__max_df=1.0, features__text_pipeline__vect__ngram_range=(1, 3);, score=0.803 total time= 4.2min\n"
     ]
    },
    {
     "data": {
      "text/plain": [
       "GridSearchCV(cv=2,\n",
       "             estimator=Pipeline(steps=[('features',\n",
       "                                        FeatureUnion(transformer_list=[('text_pipeline',\n",
       "                                                                        Pipeline(steps=[('vect',\n",
       "                                                                                         CountVectorizer(tokenizer=<function tokenize at 0x000002511013DDC0>)),\n",
       "                                                                                        ('tfidf',\n",
       "                                                                                         TfidfTransformer())]))])),\n",
       "                                       ('clf',\n",
       "                                        LogisticRegression(solver='saga'))]),\n",
       "             param_grid={'clf__max_iter': [100, 250, 500],\n",
       "                         'clf__solver': ['saga'],\n",
       "                         'features__text_pipeline__vect__max_df': [0.8, 1.0],\n",
       "                         'features__text_pipeline__vect__ngram_range': ((1, 1),\n",
       "                                                                        (1, 2),\n",
       "                                                                        (1,\n",
       "                                                                         3))},\n",
       "             verbose=3)"
      ]
     },
     "execution_count": 87,
     "metadata": {},
     "output_type": "execute_result"
    }
   ],
   "source": [
    "cv.fit(X_train, Y_train)"
   ]
  },
  {
   "cell_type": "code",
   "execution_count": 89,
   "id": "5775096e",
   "metadata": {},
   "outputs": [
    {
     "data": {
      "text/plain": [
       "{'clf__max_iter': 100,\n",
       " 'clf__solver': 'saga',\n",
       " 'features__text_pipeline__vect__max_df': 0.8,\n",
       " 'features__text_pipeline__vect__ngram_range': (1, 2)}"
      ]
     },
     "execution_count": 89,
     "metadata": {},
     "output_type": "execute_result"
    }
   ],
   "source": [
    "# Find the best parameters from our grid search\n",
    "cv.best_params_"
   ]
  },
  {
   "cell_type": "code",
   "execution_count": 91,
   "id": "1b4daa2d",
   "metadata": {},
   "outputs": [
    {
     "data": {
      "text/plain": [
       "0.8053425000000001"
      ]
     },
     "execution_count": 91,
     "metadata": {},
     "output_type": "execute_result"
    }
   ],
   "source": [
    "# Print the score of the best-performing model\n",
    "cv.best_score_"
   ]
  },
  {
   "cell_type": "code",
   "execution_count": 92,
   "id": "d56a8912",
   "metadata": {},
   "outputs": [],
   "source": [
    "# Make predictions on the test data\n",
    "y_pred_cv = cv.predict(X_test)"
   ]
  },
  {
   "cell_type": "code",
   "execution_count": 93,
   "id": "6e74e67b",
   "metadata": {},
   "outputs": [
    {
     "name": "stdout",
     "output_type": "stream",
     "text": [
      "              precision    recall  f1-score   support\n",
      "\n",
      "    negative       0.81      0.81      0.81    199581\n",
      "    positive       0.81      0.82      0.81    200419\n",
      "\n",
      "    accuracy                           0.81    400000\n",
      "   macro avg       0.81      0.81      0.81    400000\n",
      "weighted avg       0.81      0.81      0.81    400000\n",
      "\n"
     ]
    }
   ],
   "source": [
    "# Print the classification report\n",
    "print(classification_report(Y_test, y_pred_cv, zero_division=0))"
   ]
  },
  {
   "cell_type": "markdown",
   "id": "86353ce5",
   "metadata": {},
   "source": [
    "### Save model as pickle file"
   ]
  },
  {
   "cell_type": "code",
   "execution_count": 103,
   "id": "f995f0c1",
   "metadata": {},
   "outputs": [],
   "source": [
    "with open('logreg_model.pkl', 'wb') as f:\n",
    "    pickle.dump(cv, f)"
   ]
  },
  {
   "cell_type": "markdown",
   "id": "088625aa",
   "metadata": {},
   "source": [
    "### Try Grid Search when we use our custom transformer"
   ]
  },
  {
   "cell_type": "code",
   "execution_count": 15,
   "id": "c0ac36bc",
   "metadata": {},
   "outputs": [],
   "source": [
    "parameters = {\n",
    "    'features__text_pipeline__vect__ngram_range': ((1, 2), (1, 3)),\n",
    "    'clf__max_iter': [100, 250],\n",
    "    'clf__solver': ['saga'],\n",
    "    'features__text_pipeline__vect__max_df': [0.5, 0.65, 0.8, 1.0]\n",
    "}"
   ]
  },
  {
   "cell_type": "code",
   "execution_count": 16,
   "id": "56db5c92",
   "metadata": {},
   "outputs": [],
   "source": [
    "pipeline = Pipeline([\n",
    "    ('features', FeatureUnion([\n",
    "        ('text_pipeline', Pipeline([\n",
    "            ('vect', CountVectorizer(tokenizer=tokenize)),\n",
    "            ('tfidf', TfidfTransformer())\n",
    "        ])),\n",
    "        ('counts', TextCountsTransformer())\n",
    "    ])),\n",
    "    ('clf', LogisticRegression())\n",
    "])"
   ]
  },
  {
   "cell_type": "code",
   "execution_count": 17,
   "id": "1f94d7a4",
   "metadata": {},
   "outputs": [],
   "source": [
    "cv = GridSearchCV(pipeline, param_grid=parameters, cv=3, verbose=3)"
   ]
  },
  {
   "cell_type": "code",
   "execution_count": 18,
   "id": "ca15e786",
   "metadata": {},
   "outputs": [],
   "source": [
    "X_train, X_test, Y_train, Y_test = train_test_split(X, Y, random_state=42)"
   ]
  },
  {
   "cell_type": "code",
   "execution_count": 19,
   "id": "31adb86e",
   "metadata": {
    "scrolled": false
   },
   "outputs": [
    {
     "name": "stdout",
     "output_type": "stream",
     "text": [
      "Fitting 3 folds for each of 16 candidates, totalling 48 fits\n"
     ]
    },
    {
     "name": "stderr",
     "output_type": "stream",
     "text": [
      "C:\\Users\\rache\\anaconda3\\lib\\site-packages\\sklearn\\linear_model\\_sag.py:352: ConvergenceWarning: The max_iter was reached which means the coef_ did not converge\n",
      "  warnings.warn(\n"
     ]
    },
    {
     "name": "stdout",
     "output_type": "stream",
     "text": [
      "[CV 1/3] END clf__max_iter=100, clf__solver=saga, features__text_pipeline__vect__max_df=0.5, features__text_pipeline__vect__ngram_range=(1, 2);, score=0.778 total time= 9.7min\n"
     ]
    },
    {
     "name": "stderr",
     "output_type": "stream",
     "text": [
      "C:\\Users\\rache\\anaconda3\\lib\\site-packages\\sklearn\\linear_model\\_sag.py:352: ConvergenceWarning: The max_iter was reached which means the coef_ did not converge\n",
      "  warnings.warn(\n"
     ]
    },
    {
     "name": "stdout",
     "output_type": "stream",
     "text": [
      "[CV 2/3] END clf__max_iter=100, clf__solver=saga, features__text_pipeline__vect__max_df=0.5, features__text_pipeline__vect__ngram_range=(1, 2);, score=0.783 total time= 9.6min\n"
     ]
    },
    {
     "name": "stderr",
     "output_type": "stream",
     "text": [
      "C:\\Users\\rache\\anaconda3\\lib\\site-packages\\sklearn\\linear_model\\_sag.py:352: ConvergenceWarning: The max_iter was reached which means the coef_ did not converge\n",
      "  warnings.warn(\n"
     ]
    },
    {
     "name": "stdout",
     "output_type": "stream",
     "text": [
      "[CV 3/3] END clf__max_iter=100, clf__solver=saga, features__text_pipeline__vect__max_df=0.5, features__text_pipeline__vect__ngram_range=(1, 2);, score=0.778 total time= 9.7min\n"
     ]
    },
    {
     "name": "stderr",
     "output_type": "stream",
     "text": [
      "C:\\Users\\rache\\anaconda3\\lib\\site-packages\\sklearn\\linear_model\\_sag.py:352: ConvergenceWarning: The max_iter was reached which means the coef_ did not converge\n",
      "  warnings.warn(\n"
     ]
    },
    {
     "name": "stdout",
     "output_type": "stream",
     "text": [
      "[CV 1/3] END clf__max_iter=100, clf__solver=saga, features__text_pipeline__vect__max_df=0.5, features__text_pipeline__vect__ngram_range=(1, 3);, score=0.772 total time=10.4min\n"
     ]
    },
    {
     "name": "stderr",
     "output_type": "stream",
     "text": [
      "C:\\Users\\rache\\anaconda3\\lib\\site-packages\\sklearn\\linear_model\\_sag.py:352: ConvergenceWarning: The max_iter was reached which means the coef_ did not converge\n",
      "  warnings.warn(\n"
     ]
    },
    {
     "name": "stdout",
     "output_type": "stream",
     "text": [
      "[CV 2/3] END clf__max_iter=100, clf__solver=saga, features__text_pipeline__vect__max_df=0.5, features__text_pipeline__vect__ngram_range=(1, 3);, score=0.776 total time=10.4min\n"
     ]
    },
    {
     "name": "stderr",
     "output_type": "stream",
     "text": [
      "C:\\Users\\rache\\anaconda3\\lib\\site-packages\\sklearn\\linear_model\\_sag.py:352: ConvergenceWarning: The max_iter was reached which means the coef_ did not converge\n",
      "  warnings.warn(\n"
     ]
    },
    {
     "name": "stdout",
     "output_type": "stream",
     "text": [
      "[CV 3/3] END clf__max_iter=100, clf__solver=saga, features__text_pipeline__vect__max_df=0.5, features__text_pipeline__vect__ngram_range=(1, 3);, score=0.772 total time=10.5min\n"
     ]
    },
    {
     "name": "stderr",
     "output_type": "stream",
     "text": [
      "C:\\Users\\rache\\anaconda3\\lib\\site-packages\\sklearn\\linear_model\\_sag.py:352: ConvergenceWarning: The max_iter was reached which means the coef_ did not converge\n",
      "  warnings.warn(\n"
     ]
    },
    {
     "name": "stdout",
     "output_type": "stream",
     "text": [
      "[CV 1/3] END clf__max_iter=100, clf__solver=saga, features__text_pipeline__vect__max_df=0.65, features__text_pipeline__vect__ngram_range=(1, 2);, score=0.778 total time= 9.6min\n"
     ]
    },
    {
     "name": "stderr",
     "output_type": "stream",
     "text": [
      "C:\\Users\\rache\\anaconda3\\lib\\site-packages\\sklearn\\linear_model\\_sag.py:352: ConvergenceWarning: The max_iter was reached which means the coef_ did not converge\n",
      "  warnings.warn(\n"
     ]
    },
    {
     "name": "stdout",
     "output_type": "stream",
     "text": [
      "[CV 2/3] END clf__max_iter=100, clf__solver=saga, features__text_pipeline__vect__max_df=0.65, features__text_pipeline__vect__ngram_range=(1, 2);, score=0.783 total time= 9.6min\n"
     ]
    },
    {
     "name": "stderr",
     "output_type": "stream",
     "text": [
      "C:\\Users\\rache\\anaconda3\\lib\\site-packages\\sklearn\\linear_model\\_sag.py:352: ConvergenceWarning: The max_iter was reached which means the coef_ did not converge\n",
      "  warnings.warn(\n"
     ]
    },
    {
     "name": "stdout",
     "output_type": "stream",
     "text": [
      "[CV 3/3] END clf__max_iter=100, clf__solver=saga, features__text_pipeline__vect__max_df=0.65, features__text_pipeline__vect__ngram_range=(1, 2);, score=0.778 total time= 9.6min\n"
     ]
    },
    {
     "name": "stderr",
     "output_type": "stream",
     "text": [
      "C:\\Users\\rache\\anaconda3\\lib\\site-packages\\sklearn\\linear_model\\_sag.py:352: ConvergenceWarning: The max_iter was reached which means the coef_ did not converge\n",
      "  warnings.warn(\n"
     ]
    },
    {
     "name": "stdout",
     "output_type": "stream",
     "text": [
      "[CV 1/3] END clf__max_iter=100, clf__solver=saga, features__text_pipeline__vect__max_df=0.65, features__text_pipeline__vect__ngram_range=(1, 3);, score=0.772 total time=10.4min\n"
     ]
    },
    {
     "name": "stderr",
     "output_type": "stream",
     "text": [
      "C:\\Users\\rache\\anaconda3\\lib\\site-packages\\sklearn\\linear_model\\_sag.py:352: ConvergenceWarning: The max_iter was reached which means the coef_ did not converge\n",
      "  warnings.warn(\n"
     ]
    },
    {
     "name": "stdout",
     "output_type": "stream",
     "text": [
      "[CV 2/3] END clf__max_iter=100, clf__solver=saga, features__text_pipeline__vect__max_df=0.65, features__text_pipeline__vect__ngram_range=(1, 3);, score=0.776 total time=10.4min\n"
     ]
    },
    {
     "name": "stderr",
     "output_type": "stream",
     "text": [
      "C:\\Users\\rache\\anaconda3\\lib\\site-packages\\sklearn\\linear_model\\_sag.py:352: ConvergenceWarning: The max_iter was reached which means the coef_ did not converge\n",
      "  warnings.warn(\n"
     ]
    },
    {
     "name": "stdout",
     "output_type": "stream",
     "text": [
      "[CV 3/3] END clf__max_iter=100, clf__solver=saga, features__text_pipeline__vect__max_df=0.65, features__text_pipeline__vect__ngram_range=(1, 3);, score=0.772 total time=10.4min\n"
     ]
    },
    {
     "name": "stderr",
     "output_type": "stream",
     "text": [
      "C:\\Users\\rache\\anaconda3\\lib\\site-packages\\sklearn\\linear_model\\_sag.py:352: ConvergenceWarning: The max_iter was reached which means the coef_ did not converge\n",
      "  warnings.warn(\n"
     ]
    },
    {
     "name": "stdout",
     "output_type": "stream",
     "text": [
      "[CV 1/3] END clf__max_iter=100, clf__solver=saga, features__text_pipeline__vect__max_df=0.8, features__text_pipeline__vect__ngram_range=(1, 2);, score=0.778 total time= 9.6min\n"
     ]
    },
    {
     "name": "stderr",
     "output_type": "stream",
     "text": [
      "C:\\Users\\rache\\anaconda3\\lib\\site-packages\\sklearn\\linear_model\\_sag.py:352: ConvergenceWarning: The max_iter was reached which means the coef_ did not converge\n",
      "  warnings.warn(\n"
     ]
    },
    {
     "name": "stdout",
     "output_type": "stream",
     "text": [
      "[CV 2/3] END clf__max_iter=100, clf__solver=saga, features__text_pipeline__vect__max_df=0.8, features__text_pipeline__vect__ngram_range=(1, 2);, score=0.783 total time= 9.6min\n"
     ]
    },
    {
     "name": "stderr",
     "output_type": "stream",
     "text": [
      "C:\\Users\\rache\\anaconda3\\lib\\site-packages\\sklearn\\linear_model\\_sag.py:352: ConvergenceWarning: The max_iter was reached which means the coef_ did not converge\n",
      "  warnings.warn(\n"
     ]
    },
    {
     "name": "stdout",
     "output_type": "stream",
     "text": [
      "[CV 3/3] END clf__max_iter=100, clf__solver=saga, features__text_pipeline__vect__max_df=0.8, features__text_pipeline__vect__ngram_range=(1, 2);, score=0.778 total time= 9.6min\n"
     ]
    },
    {
     "name": "stderr",
     "output_type": "stream",
     "text": [
      "C:\\Users\\rache\\anaconda3\\lib\\site-packages\\sklearn\\linear_model\\_sag.py:352: ConvergenceWarning: The max_iter was reached which means the coef_ did not converge\n",
      "  warnings.warn(\n"
     ]
    },
    {
     "name": "stdout",
     "output_type": "stream",
     "text": [
      "[CV 1/3] END clf__max_iter=100, clf__solver=saga, features__text_pipeline__vect__max_df=0.8, features__text_pipeline__vect__ngram_range=(1, 3);, score=0.772 total time=10.4min\n"
     ]
    },
    {
     "name": "stderr",
     "output_type": "stream",
     "text": [
      "C:\\Users\\rache\\anaconda3\\lib\\site-packages\\sklearn\\linear_model\\_sag.py:352: ConvergenceWarning: The max_iter was reached which means the coef_ did not converge\n",
      "  warnings.warn(\n"
     ]
    },
    {
     "name": "stdout",
     "output_type": "stream",
     "text": [
      "[CV 2/3] END clf__max_iter=100, clf__solver=saga, features__text_pipeline__vect__max_df=0.8, features__text_pipeline__vect__ngram_range=(1, 3);, score=0.777 total time=10.4min\n"
     ]
    },
    {
     "name": "stderr",
     "output_type": "stream",
     "text": [
      "C:\\Users\\rache\\anaconda3\\lib\\site-packages\\sklearn\\linear_model\\_sag.py:352: ConvergenceWarning: The max_iter was reached which means the coef_ did not converge\n",
      "  warnings.warn(\n"
     ]
    },
    {
     "name": "stdout",
     "output_type": "stream",
     "text": [
      "[CV 3/3] END clf__max_iter=100, clf__solver=saga, features__text_pipeline__vect__max_df=0.8, features__text_pipeline__vect__ngram_range=(1, 3);, score=0.772 total time=10.4min\n"
     ]
    },
    {
     "name": "stderr",
     "output_type": "stream",
     "text": [
      "C:\\Users\\rache\\anaconda3\\lib\\site-packages\\sklearn\\linear_model\\_sag.py:352: ConvergenceWarning: The max_iter was reached which means the coef_ did not converge\n",
      "  warnings.warn(\n"
     ]
    },
    {
     "name": "stdout",
     "output_type": "stream",
     "text": [
      "[CV 1/3] END clf__max_iter=100, clf__solver=saga, features__text_pipeline__vect__max_df=1.0, features__text_pipeline__vect__ngram_range=(1, 2);, score=0.778 total time= 9.6min\n"
     ]
    },
    {
     "name": "stderr",
     "output_type": "stream",
     "text": [
      "C:\\Users\\rache\\anaconda3\\lib\\site-packages\\sklearn\\linear_model\\_sag.py:352: ConvergenceWarning: The max_iter was reached which means the coef_ did not converge\n",
      "  warnings.warn(\n"
     ]
    },
    {
     "name": "stdout",
     "output_type": "stream",
     "text": [
      "[CV 2/3] END clf__max_iter=100, clf__solver=saga, features__text_pipeline__vect__max_df=1.0, features__text_pipeline__vect__ngram_range=(1, 2);, score=0.783 total time= 9.7min\n"
     ]
    },
    {
     "name": "stderr",
     "output_type": "stream",
     "text": [
      "C:\\Users\\rache\\anaconda3\\lib\\site-packages\\sklearn\\linear_model\\_sag.py:352: ConvergenceWarning: The max_iter was reached which means the coef_ did not converge\n",
      "  warnings.warn(\n"
     ]
    },
    {
     "name": "stdout",
     "output_type": "stream",
     "text": [
      "[CV 3/3] END clf__max_iter=100, clf__solver=saga, features__text_pipeline__vect__max_df=1.0, features__text_pipeline__vect__ngram_range=(1, 2);, score=0.778 total time= 9.6min\n"
     ]
    },
    {
     "name": "stderr",
     "output_type": "stream",
     "text": [
      "C:\\Users\\rache\\anaconda3\\lib\\site-packages\\sklearn\\linear_model\\_sag.py:352: ConvergenceWarning: The max_iter was reached which means the coef_ did not converge\n",
      "  warnings.warn(\n"
     ]
    },
    {
     "name": "stdout",
     "output_type": "stream",
     "text": [
      "[CV 1/3] END clf__max_iter=100, clf__solver=saga, features__text_pipeline__vect__max_df=1.0, features__text_pipeline__vect__ngram_range=(1, 3);, score=0.772 total time=10.4min\n"
     ]
    },
    {
     "name": "stderr",
     "output_type": "stream",
     "text": [
      "C:\\Users\\rache\\anaconda3\\lib\\site-packages\\sklearn\\linear_model\\_sag.py:352: ConvergenceWarning: The max_iter was reached which means the coef_ did not converge\n",
      "  warnings.warn(\n"
     ]
    },
    {
     "name": "stdout",
     "output_type": "stream",
     "text": [
      "[CV 2/3] END clf__max_iter=100, clf__solver=saga, features__text_pipeline__vect__max_df=1.0, features__text_pipeline__vect__ngram_range=(1, 3);, score=0.777 total time=11.0min\n"
     ]
    },
    {
     "name": "stderr",
     "output_type": "stream",
     "text": [
      "C:\\Users\\rache\\anaconda3\\lib\\site-packages\\sklearn\\linear_model\\_sag.py:352: ConvergenceWarning: The max_iter was reached which means the coef_ did not converge\n",
      "  warnings.warn(\n"
     ]
    },
    {
     "name": "stdout",
     "output_type": "stream",
     "text": [
      "[CV 3/3] END clf__max_iter=100, clf__solver=saga, features__text_pipeline__vect__max_df=1.0, features__text_pipeline__vect__ngram_range=(1, 3);, score=0.772 total time=10.5min\n"
     ]
    },
    {
     "name": "stderr",
     "output_type": "stream",
     "text": [
      "C:\\Users\\rache\\anaconda3\\lib\\site-packages\\sklearn\\linear_model\\_sag.py:352: ConvergenceWarning: The max_iter was reached which means the coef_ did not converge\n",
      "  warnings.warn(\n"
     ]
    },
    {
     "name": "stdout",
     "output_type": "stream",
     "text": [
      "[CV 1/3] END clf__max_iter=250, clf__solver=saga, features__text_pipeline__vect__max_df=0.5, features__text_pipeline__vect__ngram_range=(1, 2);, score=0.790 total time=11.5min\n"
     ]
    },
    {
     "name": "stderr",
     "output_type": "stream",
     "text": [
      "C:\\Users\\rache\\anaconda3\\lib\\site-packages\\sklearn\\linear_model\\_sag.py:352: ConvergenceWarning: The max_iter was reached which means the coef_ did not converge\n",
      "  warnings.warn(\n"
     ]
    },
    {
     "name": "stdout",
     "output_type": "stream",
     "text": [
      "[CV 2/3] END clf__max_iter=250, clf__solver=saga, features__text_pipeline__vect__max_df=0.5, features__text_pipeline__vect__ngram_range=(1, 2);, score=0.793 total time=11.5min\n"
     ]
    },
    {
     "name": "stderr",
     "output_type": "stream",
     "text": [
      "C:\\Users\\rache\\anaconda3\\lib\\site-packages\\sklearn\\linear_model\\_sag.py:352: ConvergenceWarning: The max_iter was reached which means the coef_ did not converge\n",
      "  warnings.warn(\n"
     ]
    },
    {
     "name": "stdout",
     "output_type": "stream",
     "text": [
      "[CV 3/3] END clf__max_iter=250, clf__solver=saga, features__text_pipeline__vect__max_df=0.5, features__text_pipeline__vect__ngram_range=(1, 2);, score=0.790 total time=11.5min\n"
     ]
    },
    {
     "name": "stderr",
     "output_type": "stream",
     "text": [
      "C:\\Users\\rache\\anaconda3\\lib\\site-packages\\sklearn\\linear_model\\_sag.py:352: ConvergenceWarning: The max_iter was reached which means the coef_ did not converge\n",
      "  warnings.warn(\n"
     ]
    },
    {
     "name": "stdout",
     "output_type": "stream",
     "text": [
      "[CV 1/3] END clf__max_iter=250, clf__solver=saga, features__text_pipeline__vect__max_df=0.5, features__text_pipeline__vect__ngram_range=(1, 3);, score=0.785 total time=12.9min\n"
     ]
    },
    {
     "name": "stderr",
     "output_type": "stream",
     "text": [
      "C:\\Users\\rache\\anaconda3\\lib\\site-packages\\sklearn\\linear_model\\_sag.py:352: ConvergenceWarning: The max_iter was reached which means the coef_ did not converge\n",
      "  warnings.warn(\n"
     ]
    },
    {
     "name": "stdout",
     "output_type": "stream",
     "text": [
      "[CV 2/3] END clf__max_iter=250, clf__solver=saga, features__text_pipeline__vect__max_df=0.5, features__text_pipeline__vect__ngram_range=(1, 3);, score=0.789 total time=12.9min\n"
     ]
    },
    {
     "name": "stderr",
     "output_type": "stream",
     "text": [
      "C:\\Users\\rache\\anaconda3\\lib\\site-packages\\sklearn\\linear_model\\_sag.py:352: ConvergenceWarning: The max_iter was reached which means the coef_ did not converge\n",
      "  warnings.warn(\n"
     ]
    },
    {
     "name": "stdout",
     "output_type": "stream",
     "text": [
      "[CV 3/3] END clf__max_iter=250, clf__solver=saga, features__text_pipeline__vect__max_df=0.5, features__text_pipeline__vect__ngram_range=(1, 3);, score=0.785 total time=12.9min\n"
     ]
    },
    {
     "name": "stderr",
     "output_type": "stream",
     "text": [
      "C:\\Users\\rache\\anaconda3\\lib\\site-packages\\sklearn\\linear_model\\_sag.py:352: ConvergenceWarning: The max_iter was reached which means the coef_ did not converge\n",
      "  warnings.warn(\n"
     ]
    },
    {
     "name": "stdout",
     "output_type": "stream",
     "text": [
      "[CV 1/3] END clf__max_iter=250, clf__solver=saga, features__text_pipeline__vect__max_df=0.65, features__text_pipeline__vect__ngram_range=(1, 2);, score=0.790 total time=11.5min\n"
     ]
    },
    {
     "name": "stderr",
     "output_type": "stream",
     "text": [
      "C:\\Users\\rache\\anaconda3\\lib\\site-packages\\sklearn\\linear_model\\_sag.py:352: ConvergenceWarning: The max_iter was reached which means the coef_ did not converge\n",
      "  warnings.warn(\n"
     ]
    },
    {
     "name": "stdout",
     "output_type": "stream",
     "text": [
      "[CV 2/3] END clf__max_iter=250, clf__solver=saga, features__text_pipeline__vect__max_df=0.65, features__text_pipeline__vect__ngram_range=(1, 2);, score=0.793 total time=11.4min\n"
     ]
    },
    {
     "name": "stderr",
     "output_type": "stream",
     "text": [
      "C:\\Users\\rache\\anaconda3\\lib\\site-packages\\sklearn\\linear_model\\_sag.py:352: ConvergenceWarning: The max_iter was reached which means the coef_ did not converge\n",
      "  warnings.warn(\n"
     ]
    },
    {
     "name": "stdout",
     "output_type": "stream",
     "text": [
      "[CV 3/3] END clf__max_iter=250, clf__solver=saga, features__text_pipeline__vect__max_df=0.65, features__text_pipeline__vect__ngram_range=(1, 2);, score=0.790 total time=11.5min\n"
     ]
    },
    {
     "name": "stderr",
     "output_type": "stream",
     "text": [
      "C:\\Users\\rache\\anaconda3\\lib\\site-packages\\sklearn\\linear_model\\_sag.py:352: ConvergenceWarning: The max_iter was reached which means the coef_ did not converge\n",
      "  warnings.warn(\n"
     ]
    },
    {
     "name": "stdout",
     "output_type": "stream",
     "text": [
      "[CV 1/3] END clf__max_iter=250, clf__solver=saga, features__text_pipeline__vect__max_df=0.65, features__text_pipeline__vect__ngram_range=(1, 3);, score=0.785 total time=12.9min\n"
     ]
    },
    {
     "name": "stderr",
     "output_type": "stream",
     "text": [
      "C:\\Users\\rache\\anaconda3\\lib\\site-packages\\sklearn\\linear_model\\_sag.py:352: ConvergenceWarning: The max_iter was reached which means the coef_ did not converge\n",
      "  warnings.warn(\n"
     ]
    },
    {
     "name": "stdout",
     "output_type": "stream",
     "text": [
      "[CV 2/3] END clf__max_iter=250, clf__solver=saga, features__text_pipeline__vect__max_df=0.65, features__text_pipeline__vect__ngram_range=(1, 3);, score=0.789 total time=13.0min\n"
     ]
    },
    {
     "name": "stderr",
     "output_type": "stream",
     "text": [
      "C:\\Users\\rache\\anaconda3\\lib\\site-packages\\sklearn\\linear_model\\_sag.py:352: ConvergenceWarning: The max_iter was reached which means the coef_ did not converge\n",
      "  warnings.warn(\n"
     ]
    },
    {
     "name": "stdout",
     "output_type": "stream",
     "text": [
      "[CV 3/3] END clf__max_iter=250, clf__solver=saga, features__text_pipeline__vect__max_df=0.65, features__text_pipeline__vect__ngram_range=(1, 3);, score=0.785 total time=12.9min\n"
     ]
    },
    {
     "name": "stderr",
     "output_type": "stream",
     "text": [
      "C:\\Users\\rache\\anaconda3\\lib\\site-packages\\sklearn\\linear_model\\_sag.py:352: ConvergenceWarning: The max_iter was reached which means the coef_ did not converge\n",
      "  warnings.warn(\n"
     ]
    },
    {
     "name": "stdout",
     "output_type": "stream",
     "text": [
      "[CV 1/3] END clf__max_iter=250, clf__solver=saga, features__text_pipeline__vect__max_df=0.8, features__text_pipeline__vect__ngram_range=(1, 2);, score=0.790 total time=11.5min\n"
     ]
    },
    {
     "name": "stderr",
     "output_type": "stream",
     "text": [
      "C:\\Users\\rache\\anaconda3\\lib\\site-packages\\sklearn\\linear_model\\_sag.py:352: ConvergenceWarning: The max_iter was reached which means the coef_ did not converge\n",
      "  warnings.warn(\n"
     ]
    },
    {
     "name": "stdout",
     "output_type": "stream",
     "text": [
      "[CV 2/3] END clf__max_iter=250, clf__solver=saga, features__text_pipeline__vect__max_df=0.8, features__text_pipeline__vect__ngram_range=(1, 2);, score=0.793 total time=11.5min\n"
     ]
    },
    {
     "name": "stderr",
     "output_type": "stream",
     "text": [
      "C:\\Users\\rache\\anaconda3\\lib\\site-packages\\sklearn\\linear_model\\_sag.py:352: ConvergenceWarning: The max_iter was reached which means the coef_ did not converge\n",
      "  warnings.warn(\n"
     ]
    },
    {
     "name": "stdout",
     "output_type": "stream",
     "text": [
      "[CV 3/3] END clf__max_iter=250, clf__solver=saga, features__text_pipeline__vect__max_df=0.8, features__text_pipeline__vect__ngram_range=(1, 2);, score=0.790 total time=11.5min\n"
     ]
    },
    {
     "name": "stderr",
     "output_type": "stream",
     "text": [
      "C:\\Users\\rache\\anaconda3\\lib\\site-packages\\sklearn\\linear_model\\_sag.py:352: ConvergenceWarning: The max_iter was reached which means the coef_ did not converge\n",
      "  warnings.warn(\n"
     ]
    },
    {
     "name": "stdout",
     "output_type": "stream",
     "text": [
      "[CV 1/3] END clf__max_iter=250, clf__solver=saga, features__text_pipeline__vect__max_df=0.8, features__text_pipeline__vect__ngram_range=(1, 3);, score=0.785 total time=12.9min\n"
     ]
    },
    {
     "name": "stderr",
     "output_type": "stream",
     "text": [
      "C:\\Users\\rache\\anaconda3\\lib\\site-packages\\sklearn\\linear_model\\_sag.py:352: ConvergenceWarning: The max_iter was reached which means the coef_ did not converge\n",
      "  warnings.warn(\n"
     ]
    },
    {
     "name": "stdout",
     "output_type": "stream",
     "text": [
      "[CV 2/3] END clf__max_iter=250, clf__solver=saga, features__text_pipeline__vect__max_df=0.8, features__text_pipeline__vect__ngram_range=(1, 3);, score=0.789 total time=12.9min\n"
     ]
    },
    {
     "name": "stderr",
     "output_type": "stream",
     "text": [
      "C:\\Users\\rache\\anaconda3\\lib\\site-packages\\sklearn\\linear_model\\_sag.py:352: ConvergenceWarning: The max_iter was reached which means the coef_ did not converge\n",
      "  warnings.warn(\n"
     ]
    },
    {
     "name": "stdout",
     "output_type": "stream",
     "text": [
      "[CV 3/3] END clf__max_iter=250, clf__solver=saga, features__text_pipeline__vect__max_df=0.8, features__text_pipeline__vect__ngram_range=(1, 3);, score=0.785 total time=12.9min\n"
     ]
    },
    {
     "name": "stderr",
     "output_type": "stream",
     "text": [
      "C:\\Users\\rache\\anaconda3\\lib\\site-packages\\sklearn\\linear_model\\_sag.py:352: ConvergenceWarning: The max_iter was reached which means the coef_ did not converge\n",
      "  warnings.warn(\n"
     ]
    },
    {
     "name": "stdout",
     "output_type": "stream",
     "text": [
      "[CV 1/3] END clf__max_iter=250, clf__solver=saga, features__text_pipeline__vect__max_df=1.0, features__text_pipeline__vect__ngram_range=(1, 2);, score=0.790 total time=11.5min\n"
     ]
    },
    {
     "name": "stderr",
     "output_type": "stream",
     "text": [
      "C:\\Users\\rache\\anaconda3\\lib\\site-packages\\sklearn\\linear_model\\_sag.py:352: ConvergenceWarning: The max_iter was reached which means the coef_ did not converge\n",
      "  warnings.warn(\n"
     ]
    },
    {
     "name": "stdout",
     "output_type": "stream",
     "text": [
      "[CV 2/3] END clf__max_iter=250, clf__solver=saga, features__text_pipeline__vect__max_df=1.0, features__text_pipeline__vect__ngram_range=(1, 2);, score=0.793 total time=11.5min\n"
     ]
    },
    {
     "name": "stderr",
     "output_type": "stream",
     "text": [
      "C:\\Users\\rache\\anaconda3\\lib\\site-packages\\sklearn\\linear_model\\_sag.py:352: ConvergenceWarning: The max_iter was reached which means the coef_ did not converge\n",
      "  warnings.warn(\n"
     ]
    },
    {
     "name": "stdout",
     "output_type": "stream",
     "text": [
      "[CV 3/3] END clf__max_iter=250, clf__solver=saga, features__text_pipeline__vect__max_df=1.0, features__text_pipeline__vect__ngram_range=(1, 2);, score=0.790 total time=11.5min\n"
     ]
    },
    {
     "name": "stderr",
     "output_type": "stream",
     "text": [
      "C:\\Users\\rache\\anaconda3\\lib\\site-packages\\sklearn\\linear_model\\_sag.py:352: ConvergenceWarning: The max_iter was reached which means the coef_ did not converge\n",
      "  warnings.warn(\n"
     ]
    },
    {
     "name": "stdout",
     "output_type": "stream",
     "text": [
      "[CV 1/3] END clf__max_iter=250, clf__solver=saga, features__text_pipeline__vect__max_df=1.0, features__text_pipeline__vect__ngram_range=(1, 3);, score=0.785 total time=12.9min\n"
     ]
    },
    {
     "name": "stderr",
     "output_type": "stream",
     "text": [
      "C:\\Users\\rache\\anaconda3\\lib\\site-packages\\sklearn\\linear_model\\_sag.py:352: ConvergenceWarning: The max_iter was reached which means the coef_ did not converge\n",
      "  warnings.warn(\n"
     ]
    },
    {
     "name": "stdout",
     "output_type": "stream",
     "text": [
      "[CV 2/3] END clf__max_iter=250, clf__solver=saga, features__text_pipeline__vect__max_df=1.0, features__text_pipeline__vect__ngram_range=(1, 3);, score=0.789 total time=12.9min\n"
     ]
    },
    {
     "name": "stderr",
     "output_type": "stream",
     "text": [
      "C:\\Users\\rache\\anaconda3\\lib\\site-packages\\sklearn\\linear_model\\_sag.py:352: ConvergenceWarning: The max_iter was reached which means the coef_ did not converge\n",
      "  warnings.warn(\n"
     ]
    },
    {
     "name": "stdout",
     "output_type": "stream",
     "text": [
      "[CV 3/3] END clf__max_iter=250, clf__solver=saga, features__text_pipeline__vect__max_df=1.0, features__text_pipeline__vect__ngram_range=(1, 3);, score=0.785 total time=12.9min\n"
     ]
    },
    {
     "name": "stderr",
     "output_type": "stream",
     "text": [
      "C:\\Users\\rache\\anaconda3\\lib\\site-packages\\sklearn\\linear_model\\_sag.py:352: ConvergenceWarning: The max_iter was reached which means the coef_ did not converge\n",
      "  warnings.warn(\n"
     ]
    },
    {
     "data": {
      "text/plain": [
       "GridSearchCV(cv=3,\n",
       "             estimator=Pipeline(steps=[('features',\n",
       "                                        FeatureUnion(transformer_list=[('text_pipeline',\n",
       "                                                                        Pipeline(steps=[('vect',\n",
       "                                                                                         CountVectorizer(tokenizer=<function tokenize at 0x000001EC7D6C5430>)),\n",
       "                                                                                        ('tfidf',\n",
       "                                                                                         TfidfTransformer())])),\n",
       "                                                                       ('counts',\n",
       "                                                                        TextCountsTransformer())])),\n",
       "                                       ('clf', LogisticRegression())]),\n",
       "             param_grid={'clf__max_iter': [100, 250], 'clf__solver': ['saga'],\n",
       "                         'features__text_pipeline__vect__max_df': [0.5, 0.65,\n",
       "                                                                   0.8, 1.0],\n",
       "                         'features__text_pipeline__vect__ngram_range': ((1, 2),\n",
       "                                                                        (1,\n",
       "                                                                         3))},\n",
       "             verbose=3)"
      ]
     },
     "execution_count": 19,
     "metadata": {},
     "output_type": "execute_result"
    }
   ],
   "source": [
    "cv.fit(X_train, Y_train)"
   ]
  },
  {
   "cell_type": "code",
   "execution_count": 20,
   "id": "466ace68",
   "metadata": {},
   "outputs": [
    {
     "data": {
      "text/plain": [
       "{'clf__max_iter': 250,\n",
       " 'clf__solver': 'saga',\n",
       " 'features__text_pipeline__vect__max_df': 0.5,\n",
       " 'features__text_pipeline__vect__ngram_range': (1, 2)}"
      ]
     },
     "execution_count": 20,
     "metadata": {},
     "output_type": "execute_result"
    }
   ],
   "source": [
    "cv.best_params_"
   ]
  },
  {
   "cell_type": "code",
   "execution_count": 21,
   "id": "568e98f3",
   "metadata": {},
   "outputs": [
    {
     "data": {
      "text/plain": [
       "0.7913874999999999"
      ]
     },
     "execution_count": 21,
     "metadata": {},
     "output_type": "execute_result"
    }
   ],
   "source": [
    "cv.best_score_"
   ]
  },
  {
   "cell_type": "code",
   "execution_count": 22,
   "id": "3f32a1a2",
   "metadata": {},
   "outputs": [],
   "source": [
    "y_pred_cv = cv.predict(X_test)"
   ]
  },
  {
   "cell_type": "code",
   "execution_count": 23,
   "id": "d9cde469",
   "metadata": {},
   "outputs": [
    {
     "name": "stdout",
     "output_type": "stream",
     "text": [
      "              precision    recall  f1-score   support\n",
      "\n",
      "    negative       0.80      0.78      0.79    199581\n",
      "    positive       0.79      0.81      0.80    200419\n",
      "\n",
      "    accuracy                           0.79    400000\n",
      "   macro avg       0.79      0.79      0.79    400000\n",
      "weighted avg       0.79      0.79      0.79    400000\n",
      "\n"
     ]
    }
   ],
   "source": [
    "print(classification_report(Y_test, y_pred_cv, zero_division=0))"
   ]
  },
  {
   "cell_type": "markdown",
   "id": "e914d30c",
   "metadata": {},
   "source": [
    "Definitely makes performance worse using the TextCountsTransformer() so we will remove it from now on."
   ]
  },
  {
   "cell_type": "markdown",
   "id": "575962c5",
   "metadata": {},
   "source": [
    "### Try some different Grid Search parameters, removing our custom transformer again"
   ]
  },
  {
   "cell_type": "code",
   "execution_count": 13,
   "id": "ec83d34d",
   "metadata": {},
   "outputs": [],
   "source": [
    "parameters = {\n",
    "    'clf__max_iter': [100, 250],\n",
    "    'features__text_pipeline__vect__ngram_range': ((1, 2), (1, 3)),\n",
    "    'features__text_pipeline__vect__min_df': [1, 0.1, 0.2],\n",
    "    'features__text_pipeline__vect__max_df': [0.5, 0.65, 0.8, 1.0]\n",
    "}"
   ]
  },
  {
   "cell_type": "code",
   "execution_count": 14,
   "id": "3e4ded55",
   "metadata": {},
   "outputs": [],
   "source": [
    "# We'll choose saga as the solver as it is better for large data sets\n",
    "pipeline = Pipeline([\n",
    "    ('features', FeatureUnion([\n",
    "        ('text_pipeline', Pipeline([\n",
    "            ('vect', CountVectorizer(tokenizer=tokenize)),\n",
    "            ('tfidf', TfidfTransformer())\n",
    "        ]))\n",
    "    ])),\n",
    "    ('clf', LogisticRegression(solver='saga'))\n",
    "])"
   ]
  },
  {
   "cell_type": "code",
   "execution_count": 15,
   "id": "1166b628",
   "metadata": {},
   "outputs": [],
   "source": [
    "cv = GridSearchCV(pipeline, param_grid=parameters, cv=3, verbose=3)"
   ]
  },
  {
   "cell_type": "code",
   "execution_count": 16,
   "id": "2d35d557",
   "metadata": {},
   "outputs": [],
   "source": [
    "X_train, X_test, Y_train, Y_test = train_test_split(X, Y, random_state=42)"
   ]
  },
  {
   "cell_type": "code",
   "execution_count": 17,
   "id": "0706c6be",
   "metadata": {
    "scrolled": true
   },
   "outputs": [
    {
     "name": "stdout",
     "output_type": "stream",
     "text": [
      "Fitting 3 folds for each of 48 candidates, totalling 144 fits\n",
      "[CV 1/3] END clf__max_iter=100, features__text_pipeline__vect__max_df=0.5, features__text_pipeline__vect__min_df=1, features__text_pipeline__vect__ngram_range=(1, 2);, score=0.807 total time= 4.2min\n",
      "[CV 2/3] END clf__max_iter=100, features__text_pipeline__vect__max_df=0.5, features__text_pipeline__vect__min_df=1, features__text_pipeline__vect__ngram_range=(1, 2);, score=0.808 total time= 4.1min\n",
      "[CV 3/3] END clf__max_iter=100, features__text_pipeline__vect__max_df=0.5, features__text_pipeline__vect__min_df=1, features__text_pipeline__vect__ngram_range=(1, 2);, score=0.807 total time= 4.2min\n",
      "[CV 1/3] END clf__max_iter=100, features__text_pipeline__vect__max_df=0.5, features__text_pipeline__vect__min_df=1, features__text_pipeline__vect__ngram_range=(1, 3);, score=0.805 total time= 4.6min\n",
      "[CV 2/3] END clf__max_iter=100, features__text_pipeline__vect__max_df=0.5, features__text_pipeline__vect__min_df=1, features__text_pipeline__vect__ngram_range=(1, 3);, score=0.805 total time= 4.4min\n",
      "[CV 3/3] END clf__max_iter=100, features__text_pipeline__vect__max_df=0.5, features__text_pipeline__vect__min_df=1, features__text_pipeline__vect__ngram_range=(1, 3);, score=0.806 total time= 4.4min\n",
      "[CV 1/3] END clf__max_iter=100, features__text_pipeline__vect__max_df=0.5, features__text_pipeline__vect__min_df=0.1, features__text_pipeline__vect__ngram_range=(1, 2);, score=0.601 total time= 3.6min\n",
      "[CV 2/3] END clf__max_iter=100, features__text_pipeline__vect__max_df=0.5, features__text_pipeline__vect__min_df=0.1, features__text_pipeline__vect__ngram_range=(1, 2);, score=0.600 total time= 3.6min\n",
      "[CV 3/3] END clf__max_iter=100, features__text_pipeline__vect__max_df=0.5, features__text_pipeline__vect__min_df=0.1, features__text_pipeline__vect__ngram_range=(1, 2);, score=0.602 total time= 3.6min\n",
      "[CV 1/3] END clf__max_iter=100, features__text_pipeline__vect__max_df=0.5, features__text_pipeline__vect__min_df=0.1, features__text_pipeline__vect__ngram_range=(1, 3);, score=0.601 total time= 3.8min\n",
      "[CV 2/3] END clf__max_iter=100, features__text_pipeline__vect__max_df=0.5, features__text_pipeline__vect__min_df=0.1, features__text_pipeline__vect__ngram_range=(1, 3);, score=0.600 total time= 3.8min\n",
      "[CV 3/3] END clf__max_iter=100, features__text_pipeline__vect__max_df=0.5, features__text_pipeline__vect__min_df=0.1, features__text_pipeline__vect__ngram_range=(1, 3);, score=0.602 total time= 3.8min\n",
      "[CV 1/3] END clf__max_iter=100, features__text_pipeline__vect__max_df=0.5, features__text_pipeline__vect__min_df=0.2, features__text_pipeline__vect__ngram_range=(1, 2);, score=0.585 total time= 3.6min\n",
      "[CV 2/3] END clf__max_iter=100, features__text_pipeline__vect__max_df=0.5, features__text_pipeline__vect__min_df=0.2, features__text_pipeline__vect__ngram_range=(1, 2);, score=0.585 total time= 3.6min\n",
      "[CV 3/3] END clf__max_iter=100, features__text_pipeline__vect__max_df=0.5, features__text_pipeline__vect__min_df=0.2, features__text_pipeline__vect__ngram_range=(1, 2);, score=0.586 total time= 3.6min\n",
      "[CV 1/3] END clf__max_iter=100, features__text_pipeline__vect__max_df=0.5, features__text_pipeline__vect__min_df=0.2, features__text_pipeline__vect__ngram_range=(1, 3);, score=0.585 total time= 3.8min\n",
      "[CV 2/3] END clf__max_iter=100, features__text_pipeline__vect__max_df=0.5, features__text_pipeline__vect__min_df=0.2, features__text_pipeline__vect__ngram_range=(1, 3);, score=0.585 total time= 3.8min\n",
      "[CV 3/3] END clf__max_iter=100, features__text_pipeline__vect__max_df=0.5, features__text_pipeline__vect__min_df=0.2, features__text_pipeline__vect__ngram_range=(1, 3);, score=0.586 total time= 3.8min\n",
      "[CV 1/3] END clf__max_iter=100, features__text_pipeline__vect__max_df=0.65, features__text_pipeline__vect__min_df=1, features__text_pipeline__vect__ngram_range=(1, 2);, score=0.807 total time= 4.0min\n",
      "[CV 2/3] END clf__max_iter=100, features__text_pipeline__vect__max_df=0.65, features__text_pipeline__vect__min_df=1, features__text_pipeline__vect__ngram_range=(1, 2);, score=0.808 total time= 4.0min\n",
      "[CV 3/3] END clf__max_iter=100, features__text_pipeline__vect__max_df=0.65, features__text_pipeline__vect__min_df=1, features__text_pipeline__vect__ngram_range=(1, 2);, score=0.807 total time= 3.9min\n",
      "[CV 1/3] END clf__max_iter=100, features__text_pipeline__vect__max_df=0.65, features__text_pipeline__vect__min_df=1, features__text_pipeline__vect__ngram_range=(1, 3);, score=0.805 total time= 4.4min\n",
      "[CV 2/3] END clf__max_iter=100, features__text_pipeline__vect__max_df=0.65, features__text_pipeline__vect__min_df=1, features__text_pipeline__vect__ngram_range=(1, 3);, score=0.805 total time= 4.4min\n",
      "[CV 3/3] END clf__max_iter=100, features__text_pipeline__vect__max_df=0.65, features__text_pipeline__vect__min_df=1, features__text_pipeline__vect__ngram_range=(1, 3);, score=0.806 total time= 4.4min\n",
      "[CV 1/3] END clf__max_iter=100, features__text_pipeline__vect__max_df=0.65, features__text_pipeline__vect__min_df=0.1, features__text_pipeline__vect__ngram_range=(1, 2);, score=0.601 total time= 3.6min\n",
      "[CV 2/3] END clf__max_iter=100, features__text_pipeline__vect__max_df=0.65, features__text_pipeline__vect__min_df=0.1, features__text_pipeline__vect__ngram_range=(1, 2);, score=0.600 total time= 3.6min\n",
      "[CV 3/3] END clf__max_iter=100, features__text_pipeline__vect__max_df=0.65, features__text_pipeline__vect__min_df=0.1, features__text_pipeline__vect__ngram_range=(1, 2);, score=0.602 total time= 3.6min\n",
      "[CV 1/3] END clf__max_iter=100, features__text_pipeline__vect__max_df=0.65, features__text_pipeline__vect__min_df=0.1, features__text_pipeline__vect__ngram_range=(1, 3);, score=0.601 total time= 3.8min\n",
      "[CV 2/3] END clf__max_iter=100, features__text_pipeline__vect__max_df=0.65, features__text_pipeline__vect__min_df=0.1, features__text_pipeline__vect__ngram_range=(1, 3);, score=0.600 total time= 3.8min\n",
      "[CV 3/3] END clf__max_iter=100, features__text_pipeline__vect__max_df=0.65, features__text_pipeline__vect__min_df=0.1, features__text_pipeline__vect__ngram_range=(1, 3);, score=0.602 total time= 3.8min\n",
      "[CV 1/3] END clf__max_iter=100, features__text_pipeline__vect__max_df=0.65, features__text_pipeline__vect__min_df=0.2, features__text_pipeline__vect__ngram_range=(1, 2);, score=0.585 total time= 3.6min\n",
      "[CV 2/3] END clf__max_iter=100, features__text_pipeline__vect__max_df=0.65, features__text_pipeline__vect__min_df=0.2, features__text_pipeline__vect__ngram_range=(1, 2);, score=0.585 total time= 3.6min\n",
      "[CV 3/3] END clf__max_iter=100, features__text_pipeline__vect__max_df=0.65, features__text_pipeline__vect__min_df=0.2, features__text_pipeline__vect__ngram_range=(1, 2);, score=0.586 total time= 3.6min\n",
      "[CV 1/3] END clf__max_iter=100, features__text_pipeline__vect__max_df=0.65, features__text_pipeline__vect__min_df=0.2, features__text_pipeline__vect__ngram_range=(1, 3);, score=0.585 total time= 3.8min\n",
      "[CV 2/3] END clf__max_iter=100, features__text_pipeline__vect__max_df=0.65, features__text_pipeline__vect__min_df=0.2, features__text_pipeline__vect__ngram_range=(1, 3);, score=0.585 total time= 3.7min\n",
      "[CV 3/3] END clf__max_iter=100, features__text_pipeline__vect__max_df=0.65, features__text_pipeline__vect__min_df=0.2, features__text_pipeline__vect__ngram_range=(1, 3);, score=0.586 total time= 3.8min\n",
      "[CV 1/3] END clf__max_iter=100, features__text_pipeline__vect__max_df=0.8, features__text_pipeline__vect__min_df=1, features__text_pipeline__vect__ngram_range=(1, 2);, score=0.807 total time= 4.0min\n",
      "[CV 2/3] END clf__max_iter=100, features__text_pipeline__vect__max_df=0.8, features__text_pipeline__vect__min_df=1, features__text_pipeline__vect__ngram_range=(1, 2);, score=0.808 total time= 4.0min\n",
      "[CV 3/3] END clf__max_iter=100, features__text_pipeline__vect__max_df=0.8, features__text_pipeline__vect__min_df=1, features__text_pipeline__vect__ngram_range=(1, 2);, score=0.807 total time= 4.0min\n",
      "[CV 1/3] END clf__max_iter=100, features__text_pipeline__vect__max_df=0.8, features__text_pipeline__vect__min_df=1, features__text_pipeline__vect__ngram_range=(1, 3);, score=0.805 total time= 4.4min\n",
      "[CV 2/3] END clf__max_iter=100, features__text_pipeline__vect__max_df=0.8, features__text_pipeline__vect__min_df=1, features__text_pipeline__vect__ngram_range=(1, 3);, score=0.805 total time= 4.4min\n"
     ]
    },
    {
     "name": "stdout",
     "output_type": "stream",
     "text": [
      "[CV 3/3] END clf__max_iter=100, features__text_pipeline__vect__max_df=0.8, features__text_pipeline__vect__min_df=1, features__text_pipeline__vect__ngram_range=(1, 3);, score=0.806 total time= 4.4min\n",
      "[CV 1/3] END clf__max_iter=100, features__text_pipeline__vect__max_df=0.8, features__text_pipeline__vect__min_df=0.1, features__text_pipeline__vect__ngram_range=(1, 2);, score=0.601 total time= 3.6min\n",
      "[CV 2/3] END clf__max_iter=100, features__text_pipeline__vect__max_df=0.8, features__text_pipeline__vect__min_df=0.1, features__text_pipeline__vect__ngram_range=(1, 2);, score=0.600 total time= 3.6min\n",
      "[CV 3/3] END clf__max_iter=100, features__text_pipeline__vect__max_df=0.8, features__text_pipeline__vect__min_df=0.1, features__text_pipeline__vect__ngram_range=(1, 2);, score=0.602 total time= 3.6min\n",
      "[CV 1/3] END clf__max_iter=100, features__text_pipeline__vect__max_df=0.8, features__text_pipeline__vect__min_df=0.1, features__text_pipeline__vect__ngram_range=(1, 3);, score=0.601 total time= 3.8min\n",
      "[CV 2/3] END clf__max_iter=100, features__text_pipeline__vect__max_df=0.8, features__text_pipeline__vect__min_df=0.1, features__text_pipeline__vect__ngram_range=(1, 3);, score=0.600 total time= 3.8min\n",
      "[CV 3/3] END clf__max_iter=100, features__text_pipeline__vect__max_df=0.8, features__text_pipeline__vect__min_df=0.1, features__text_pipeline__vect__ngram_range=(1, 3);, score=0.602 total time= 3.8min\n",
      "[CV 1/3] END clf__max_iter=100, features__text_pipeline__vect__max_df=0.8, features__text_pipeline__vect__min_df=0.2, features__text_pipeline__vect__ngram_range=(1, 2);, score=0.585 total time= 3.6min\n",
      "[CV 2/3] END clf__max_iter=100, features__text_pipeline__vect__max_df=0.8, features__text_pipeline__vect__min_df=0.2, features__text_pipeline__vect__ngram_range=(1, 2);, score=0.585 total time= 3.6min\n",
      "[CV 3/3] END clf__max_iter=100, features__text_pipeline__vect__max_df=0.8, features__text_pipeline__vect__min_df=0.2, features__text_pipeline__vect__ngram_range=(1, 2);, score=0.586 total time= 3.6min\n",
      "[CV 1/3] END clf__max_iter=100, features__text_pipeline__vect__max_df=0.8, features__text_pipeline__vect__min_df=0.2, features__text_pipeline__vect__ngram_range=(1, 3);, score=0.585 total time= 3.8min\n",
      "[CV 2/3] END clf__max_iter=100, features__text_pipeline__vect__max_df=0.8, features__text_pipeline__vect__min_df=0.2, features__text_pipeline__vect__ngram_range=(1, 3);, score=0.585 total time= 3.8min\n",
      "[CV 3/3] END clf__max_iter=100, features__text_pipeline__vect__max_df=0.8, features__text_pipeline__vect__min_df=0.2, features__text_pipeline__vect__ngram_range=(1, 3);, score=0.586 total time= 3.8min\n",
      "[CV 1/3] END clf__max_iter=100, features__text_pipeline__vect__max_df=1.0, features__text_pipeline__vect__min_df=1, features__text_pipeline__vect__ngram_range=(1, 2);, score=0.807 total time= 4.0min\n",
      "[CV 2/3] END clf__max_iter=100, features__text_pipeline__vect__max_df=1.0, features__text_pipeline__vect__min_df=1, features__text_pipeline__vect__ngram_range=(1, 2);, score=0.808 total time= 4.0min\n",
      "[CV 3/3] END clf__max_iter=100, features__text_pipeline__vect__max_df=1.0, features__text_pipeline__vect__min_df=1, features__text_pipeline__vect__ngram_range=(1, 2);, score=0.807 total time= 4.0min\n",
      "[CV 1/3] END clf__max_iter=100, features__text_pipeline__vect__max_df=1.0, features__text_pipeline__vect__min_df=1, features__text_pipeline__vect__ngram_range=(1, 3);, score=0.805 total time= 4.4min\n",
      "[CV 2/3] END clf__max_iter=100, features__text_pipeline__vect__max_df=1.0, features__text_pipeline__vect__min_df=1, features__text_pipeline__vect__ngram_range=(1, 3);, score=0.805 total time= 4.4min\n",
      "[CV 3/3] END clf__max_iter=100, features__text_pipeline__vect__max_df=1.0, features__text_pipeline__vect__min_df=1, features__text_pipeline__vect__ngram_range=(1, 3);, score=0.806 total time= 4.4min\n",
      "[CV 1/3] END clf__max_iter=100, features__text_pipeline__vect__max_df=1.0, features__text_pipeline__vect__min_df=0.1, features__text_pipeline__vect__ngram_range=(1, 2);, score=0.601 total time= 3.6min\n",
      "[CV 2/3] END clf__max_iter=100, features__text_pipeline__vect__max_df=1.0, features__text_pipeline__vect__min_df=0.1, features__text_pipeline__vect__ngram_range=(1, 2);, score=0.600 total time= 3.6min\n",
      "[CV 3/3] END clf__max_iter=100, features__text_pipeline__vect__max_df=1.0, features__text_pipeline__vect__min_df=0.1, features__text_pipeline__vect__ngram_range=(1, 2);, score=0.602 total time= 3.6min\n",
      "[CV 1/3] END clf__max_iter=100, features__text_pipeline__vect__max_df=1.0, features__text_pipeline__vect__min_df=0.1, features__text_pipeline__vect__ngram_range=(1, 3);, score=0.601 total time= 3.8min\n",
      "[CV 2/3] END clf__max_iter=100, features__text_pipeline__vect__max_df=1.0, features__text_pipeline__vect__min_df=0.1, features__text_pipeline__vect__ngram_range=(1, 3);, score=0.600 total time= 3.8min\n",
      "[CV 3/3] END clf__max_iter=100, features__text_pipeline__vect__max_df=1.0, features__text_pipeline__vect__min_df=0.1, features__text_pipeline__vect__ngram_range=(1, 3);, score=0.602 total time= 3.8min\n",
      "[CV 1/3] END clf__max_iter=100, features__text_pipeline__vect__max_df=1.0, features__text_pipeline__vect__min_df=0.2, features__text_pipeline__vect__ngram_range=(1, 2);, score=0.585 total time= 3.6min\n",
      "[CV 2/3] END clf__max_iter=100, features__text_pipeline__vect__max_df=1.0, features__text_pipeline__vect__min_df=0.2, features__text_pipeline__vect__ngram_range=(1, 2);, score=0.585 total time= 3.6min\n",
      "[CV 3/3] END clf__max_iter=100, features__text_pipeline__vect__max_df=1.0, features__text_pipeline__vect__min_df=0.2, features__text_pipeline__vect__ngram_range=(1, 2);, score=0.586 total time= 3.6min\n",
      "[CV 1/3] END clf__max_iter=100, features__text_pipeline__vect__max_df=1.0, features__text_pipeline__vect__min_df=0.2, features__text_pipeline__vect__ngram_range=(1, 3);, score=0.585 total time= 3.8min\n",
      "[CV 2/3] END clf__max_iter=100, features__text_pipeline__vect__max_df=1.0, features__text_pipeline__vect__min_df=0.2, features__text_pipeline__vect__ngram_range=(1, 3);, score=0.585 total time= 3.8min\n",
      "[CV 3/3] END clf__max_iter=100, features__text_pipeline__vect__max_df=1.0, features__text_pipeline__vect__min_df=0.2, features__text_pipeline__vect__ngram_range=(1, 3);, score=0.586 total time= 3.8min\n",
      "[CV 1/3] END clf__max_iter=250, features__text_pipeline__vect__max_df=0.5, features__text_pipeline__vect__min_df=1, features__text_pipeline__vect__ngram_range=(1, 2);, score=0.807 total time= 4.0min\n",
      "[CV 2/3] END clf__max_iter=250, features__text_pipeline__vect__max_df=0.5, features__text_pipeline__vect__min_df=1, features__text_pipeline__vect__ngram_range=(1, 2);, score=0.808 total time= 4.0min\n",
      "[CV 3/3] END clf__max_iter=250, features__text_pipeline__vect__max_df=0.5, features__text_pipeline__vect__min_df=1, features__text_pipeline__vect__ngram_range=(1, 2);, score=0.807 total time= 4.0min\n",
      "[CV 1/3] END clf__max_iter=250, features__text_pipeline__vect__max_df=0.5, features__text_pipeline__vect__min_df=1, features__text_pipeline__vect__ngram_range=(1, 3);, score=0.805 total time= 4.4min\n",
      "[CV 2/3] END clf__max_iter=250, features__text_pipeline__vect__max_df=0.5, features__text_pipeline__vect__min_df=1, features__text_pipeline__vect__ngram_range=(1, 3);, score=0.805 total time= 4.4min\n",
      "[CV 3/3] END clf__max_iter=250, features__text_pipeline__vect__max_df=0.5, features__text_pipeline__vect__min_df=1, features__text_pipeline__vect__ngram_range=(1, 3);, score=0.806 total time= 4.4min\n",
      "[CV 1/3] END clf__max_iter=250, features__text_pipeline__vect__max_df=0.5, features__text_pipeline__vect__min_df=0.1, features__text_pipeline__vect__ngram_range=(1, 2);, score=0.601 total time= 3.6min\n",
      "[CV 2/3] END clf__max_iter=250, features__text_pipeline__vect__max_df=0.5, features__text_pipeline__vect__min_df=0.1, features__text_pipeline__vect__ngram_range=(1, 2);, score=0.600 total time= 3.6min\n",
      "[CV 3/3] END clf__max_iter=250, features__text_pipeline__vect__max_df=0.5, features__text_pipeline__vect__min_df=0.1, features__text_pipeline__vect__ngram_range=(1, 2);, score=0.602 total time= 3.6min\n",
      "[CV 1/3] END clf__max_iter=250, features__text_pipeline__vect__max_df=0.5, features__text_pipeline__vect__min_df=0.1, features__text_pipeline__vect__ngram_range=(1, 3);, score=0.601 total time= 3.8min\n"
     ]
    },
    {
     "name": "stdout",
     "output_type": "stream",
     "text": [
      "[CV 2/3] END clf__max_iter=250, features__text_pipeline__vect__max_df=0.5, features__text_pipeline__vect__min_df=0.1, features__text_pipeline__vect__ngram_range=(1, 3);, score=0.600 total time= 3.8min\n",
      "[CV 3/3] END clf__max_iter=250, features__text_pipeline__vect__max_df=0.5, features__text_pipeline__vect__min_df=0.1, features__text_pipeline__vect__ngram_range=(1, 3);, score=0.602 total time= 3.8min\n",
      "[CV 1/3] END clf__max_iter=250, features__text_pipeline__vect__max_df=0.5, features__text_pipeline__vect__min_df=0.2, features__text_pipeline__vect__ngram_range=(1, 2);, score=0.585 total time= 3.6min\n",
      "[CV 2/3] END clf__max_iter=250, features__text_pipeline__vect__max_df=0.5, features__text_pipeline__vect__min_df=0.2, features__text_pipeline__vect__ngram_range=(1, 2);, score=0.585 total time= 3.6min\n",
      "[CV 3/3] END clf__max_iter=250, features__text_pipeline__vect__max_df=0.5, features__text_pipeline__vect__min_df=0.2, features__text_pipeline__vect__ngram_range=(1, 2);, score=0.586 total time= 3.6min\n",
      "[CV 1/3] END clf__max_iter=250, features__text_pipeline__vect__max_df=0.5, features__text_pipeline__vect__min_df=0.2, features__text_pipeline__vect__ngram_range=(1, 3);, score=0.585 total time= 3.8min\n",
      "[CV 2/3] END clf__max_iter=250, features__text_pipeline__vect__max_df=0.5, features__text_pipeline__vect__min_df=0.2, features__text_pipeline__vect__ngram_range=(1, 3);, score=0.585 total time= 3.8min\n",
      "[CV 3/3] END clf__max_iter=250, features__text_pipeline__vect__max_df=0.5, features__text_pipeline__vect__min_df=0.2, features__text_pipeline__vect__ngram_range=(1, 3);, score=0.586 total time= 3.8min\n",
      "[CV 1/3] END clf__max_iter=250, features__text_pipeline__vect__max_df=0.65, features__text_pipeline__vect__min_df=1, features__text_pipeline__vect__ngram_range=(1, 2);, score=0.807 total time= 3.9min\n",
      "[CV 2/3] END clf__max_iter=250, features__text_pipeline__vect__max_df=0.65, features__text_pipeline__vect__min_df=1, features__text_pipeline__vect__ngram_range=(1, 2);, score=0.808 total time= 3.9min\n",
      "[CV 3/3] END clf__max_iter=250, features__text_pipeline__vect__max_df=0.65, features__text_pipeline__vect__min_df=1, features__text_pipeline__vect__ngram_range=(1, 2);, score=0.807 total time= 4.0min\n",
      "[CV 1/3] END clf__max_iter=250, features__text_pipeline__vect__max_df=0.65, features__text_pipeline__vect__min_df=1, features__text_pipeline__vect__ngram_range=(1, 3);, score=0.805 total time= 4.4min\n",
      "[CV 2/3] END clf__max_iter=250, features__text_pipeline__vect__max_df=0.65, features__text_pipeline__vect__min_df=1, features__text_pipeline__vect__ngram_range=(1, 3);, score=0.805 total time= 4.4min\n",
      "[CV 3/3] END clf__max_iter=250, features__text_pipeline__vect__max_df=0.65, features__text_pipeline__vect__min_df=1, features__text_pipeline__vect__ngram_range=(1, 3);, score=0.806 total time= 4.4min\n",
      "[CV 1/3] END clf__max_iter=250, features__text_pipeline__vect__max_df=0.65, features__text_pipeline__vect__min_df=0.1, features__text_pipeline__vect__ngram_range=(1, 2);, score=0.601 total time= 3.7min\n",
      "[CV 2/3] END clf__max_iter=250, features__text_pipeline__vect__max_df=0.65, features__text_pipeline__vect__min_df=0.1, features__text_pipeline__vect__ngram_range=(1, 2);, score=0.600 total time= 3.7min\n",
      "[CV 3/3] END clf__max_iter=250, features__text_pipeline__vect__max_df=0.65, features__text_pipeline__vect__min_df=0.1, features__text_pipeline__vect__ngram_range=(1, 2);, score=0.602 total time= 3.7min\n",
      "[CV 1/3] END clf__max_iter=250, features__text_pipeline__vect__max_df=0.65, features__text_pipeline__vect__min_df=0.1, features__text_pipeline__vect__ngram_range=(1, 3);, score=0.601 total time= 3.8min\n",
      "[CV 2/3] END clf__max_iter=250, features__text_pipeline__vect__max_df=0.65, features__text_pipeline__vect__min_df=0.1, features__text_pipeline__vect__ngram_range=(1, 3);, score=0.600 total time= 3.8min\n",
      "[CV 3/3] END clf__max_iter=250, features__text_pipeline__vect__max_df=0.65, features__text_pipeline__vect__min_df=0.1, features__text_pipeline__vect__ngram_range=(1, 3);, score=0.602 total time= 3.8min\n",
      "[CV 1/3] END clf__max_iter=250, features__text_pipeline__vect__max_df=0.65, features__text_pipeline__vect__min_df=0.2, features__text_pipeline__vect__ngram_range=(1, 2);, score=0.585 total time= 3.6min\n",
      "[CV 2/3] END clf__max_iter=250, features__text_pipeline__vect__max_df=0.65, features__text_pipeline__vect__min_df=0.2, features__text_pipeline__vect__ngram_range=(1, 2);, score=0.585 total time= 3.6min\n",
      "[CV 3/3] END clf__max_iter=250, features__text_pipeline__vect__max_df=0.65, features__text_pipeline__vect__min_df=0.2, features__text_pipeline__vect__ngram_range=(1, 2);, score=0.586 total time= 3.6min\n",
      "[CV 1/3] END clf__max_iter=250, features__text_pipeline__vect__max_df=0.65, features__text_pipeline__vect__min_df=0.2, features__text_pipeline__vect__ngram_range=(1, 3);, score=0.585 total time= 3.8min\n",
      "[CV 2/3] END clf__max_iter=250, features__text_pipeline__vect__max_df=0.65, features__text_pipeline__vect__min_df=0.2, features__text_pipeline__vect__ngram_range=(1, 3);, score=0.585 total time= 3.7min\n",
      "[CV 3/3] END clf__max_iter=250, features__text_pipeline__vect__max_df=0.65, features__text_pipeline__vect__min_df=0.2, features__text_pipeline__vect__ngram_range=(1, 3);, score=0.586 total time= 3.8min\n",
      "[CV 1/3] END clf__max_iter=250, features__text_pipeline__vect__max_df=0.8, features__text_pipeline__vect__min_df=1, features__text_pipeline__vect__ngram_range=(1, 2);, score=0.807 total time= 4.0min\n",
      "[CV 2/3] END clf__max_iter=250, features__text_pipeline__vect__max_df=0.8, features__text_pipeline__vect__min_df=1, features__text_pipeline__vect__ngram_range=(1, 2);, score=0.808 total time= 4.0min\n",
      "[CV 3/3] END clf__max_iter=250, features__text_pipeline__vect__max_df=0.8, features__text_pipeline__vect__min_df=1, features__text_pipeline__vect__ngram_range=(1, 2);, score=0.807 total time= 4.0min\n",
      "[CV 1/3] END clf__max_iter=250, features__text_pipeline__vect__max_df=0.8, features__text_pipeline__vect__min_df=1, features__text_pipeline__vect__ngram_range=(1, 3);, score=0.805 total time= 4.4min\n",
      "[CV 2/3] END clf__max_iter=250, features__text_pipeline__vect__max_df=0.8, features__text_pipeline__vect__min_df=1, features__text_pipeline__vect__ngram_range=(1, 3);, score=0.805 total time= 4.4min\n",
      "[CV 3/3] END clf__max_iter=250, features__text_pipeline__vect__max_df=0.8, features__text_pipeline__vect__min_df=1, features__text_pipeline__vect__ngram_range=(1, 3);, score=0.806 total time= 4.4min\n",
      "[CV 1/3] END clf__max_iter=250, features__text_pipeline__vect__max_df=0.8, features__text_pipeline__vect__min_df=0.1, features__text_pipeline__vect__ngram_range=(1, 2);, score=0.601 total time= 3.6min\n",
      "[CV 2/3] END clf__max_iter=250, features__text_pipeline__vect__max_df=0.8, features__text_pipeline__vect__min_df=0.1, features__text_pipeline__vect__ngram_range=(1, 2);, score=0.600 total time= 3.6min\n",
      "[CV 3/3] END clf__max_iter=250, features__text_pipeline__vect__max_df=0.8, features__text_pipeline__vect__min_df=0.1, features__text_pipeline__vect__ngram_range=(1, 2);, score=0.602 total time= 3.6min\n",
      "[CV 1/3] END clf__max_iter=250, features__text_pipeline__vect__max_df=0.8, features__text_pipeline__vect__min_df=0.1, features__text_pipeline__vect__ngram_range=(1, 3);, score=0.601 total time= 3.8min\n",
      "[CV 2/3] END clf__max_iter=250, features__text_pipeline__vect__max_df=0.8, features__text_pipeline__vect__min_df=0.1, features__text_pipeline__vect__ngram_range=(1, 3);, score=0.600 total time= 3.8min\n",
      "[CV 3/3] END clf__max_iter=250, features__text_pipeline__vect__max_df=0.8, features__text_pipeline__vect__min_df=0.1, features__text_pipeline__vect__ngram_range=(1, 3);, score=0.602 total time= 3.8min\n",
      "[CV 1/3] END clf__max_iter=250, features__text_pipeline__vect__max_df=0.8, features__text_pipeline__vect__min_df=0.2, features__text_pipeline__vect__ngram_range=(1, 2);, score=0.585 total time= 3.6min\n",
      "[CV 2/3] END clf__max_iter=250, features__text_pipeline__vect__max_df=0.8, features__text_pipeline__vect__min_df=0.2, features__text_pipeline__vect__ngram_range=(1, 2);, score=0.585 total time= 3.6min\n",
      "[CV 3/3] END clf__max_iter=250, features__text_pipeline__vect__max_df=0.8, features__text_pipeline__vect__min_df=0.2, features__text_pipeline__vect__ngram_range=(1, 2);, score=0.586 total time= 3.6min\n"
     ]
    },
    {
     "name": "stdout",
     "output_type": "stream",
     "text": [
      "[CV 1/3] END clf__max_iter=250, features__text_pipeline__vect__max_df=0.8, features__text_pipeline__vect__min_df=0.2, features__text_pipeline__vect__ngram_range=(1, 3);, score=0.585 total time= 3.8min\n",
      "[CV 2/3] END clf__max_iter=250, features__text_pipeline__vect__max_df=0.8, features__text_pipeline__vect__min_df=0.2, features__text_pipeline__vect__ngram_range=(1, 3);, score=0.585 total time= 3.8min\n",
      "[CV 3/3] END clf__max_iter=250, features__text_pipeline__vect__max_df=0.8, features__text_pipeline__vect__min_df=0.2, features__text_pipeline__vect__ngram_range=(1, 3);, score=0.586 total time= 3.8min\n",
      "[CV 1/3] END clf__max_iter=250, features__text_pipeline__vect__max_df=1.0, features__text_pipeline__vect__min_df=1, features__text_pipeline__vect__ngram_range=(1, 2);, score=0.807 total time= 3.9min\n",
      "[CV 2/3] END clf__max_iter=250, features__text_pipeline__vect__max_df=1.0, features__text_pipeline__vect__min_df=1, features__text_pipeline__vect__ngram_range=(1, 2);, score=0.808 total time= 3.9min\n",
      "[CV 3/3] END clf__max_iter=250, features__text_pipeline__vect__max_df=1.0, features__text_pipeline__vect__min_df=1, features__text_pipeline__vect__ngram_range=(1, 2);, score=0.807 total time= 3.9min\n",
      "[CV 1/3] END clf__max_iter=250, features__text_pipeline__vect__max_df=1.0, features__text_pipeline__vect__min_df=1, features__text_pipeline__vect__ngram_range=(1, 3);, score=0.805 total time= 4.4min\n",
      "[CV 2/3] END clf__max_iter=250, features__text_pipeline__vect__max_df=1.0, features__text_pipeline__vect__min_df=1, features__text_pipeline__vect__ngram_range=(1, 3);, score=0.805 total time= 4.4min\n",
      "[CV 3/3] END clf__max_iter=250, features__text_pipeline__vect__max_df=1.0, features__text_pipeline__vect__min_df=1, features__text_pipeline__vect__ngram_range=(1, 3);, score=0.806 total time= 4.4min\n",
      "[CV 1/3] END clf__max_iter=250, features__text_pipeline__vect__max_df=1.0, features__text_pipeline__vect__min_df=0.1, features__text_pipeline__vect__ngram_range=(1, 2);, score=0.601 total time= 3.6min\n",
      "[CV 2/3] END clf__max_iter=250, features__text_pipeline__vect__max_df=1.0, features__text_pipeline__vect__min_df=0.1, features__text_pipeline__vect__ngram_range=(1, 2);, score=0.600 total time= 3.6min\n",
      "[CV 3/3] END clf__max_iter=250, features__text_pipeline__vect__max_df=1.0, features__text_pipeline__vect__min_df=0.1, features__text_pipeline__vect__ngram_range=(1, 2);, score=0.602 total time= 3.6min\n",
      "[CV 1/3] END clf__max_iter=250, features__text_pipeline__vect__max_df=1.0, features__text_pipeline__vect__min_df=0.1, features__text_pipeline__vect__ngram_range=(1, 3);, score=0.601 total time= 3.8min\n",
      "[CV 2/3] END clf__max_iter=250, features__text_pipeline__vect__max_df=1.0, features__text_pipeline__vect__min_df=0.1, features__text_pipeline__vect__ngram_range=(1, 3);, score=0.600 total time= 3.8min\n",
      "[CV 3/3] END clf__max_iter=250, features__text_pipeline__vect__max_df=1.0, features__text_pipeline__vect__min_df=0.1, features__text_pipeline__vect__ngram_range=(1, 3);, score=0.602 total time= 3.8min\n",
      "[CV 1/3] END clf__max_iter=250, features__text_pipeline__vect__max_df=1.0, features__text_pipeline__vect__min_df=0.2, features__text_pipeline__vect__ngram_range=(1, 2);, score=0.585 total time= 3.6min\n",
      "[CV 2/3] END clf__max_iter=250, features__text_pipeline__vect__max_df=1.0, features__text_pipeline__vect__min_df=0.2, features__text_pipeline__vect__ngram_range=(1, 2);, score=0.585 total time= 3.6min\n",
      "[CV 3/3] END clf__max_iter=250, features__text_pipeline__vect__max_df=1.0, features__text_pipeline__vect__min_df=0.2, features__text_pipeline__vect__ngram_range=(1, 2);, score=0.586 total time= 3.6min\n",
      "[CV 1/3] END clf__max_iter=250, features__text_pipeline__vect__max_df=1.0, features__text_pipeline__vect__min_df=0.2, features__text_pipeline__vect__ngram_range=(1, 3);, score=0.585 total time= 3.8min\n",
      "[CV 2/3] END clf__max_iter=250, features__text_pipeline__vect__max_df=1.0, features__text_pipeline__vect__min_df=0.2, features__text_pipeline__vect__ngram_range=(1, 3);, score=0.585 total time= 3.7min\n",
      "[CV 3/3] END clf__max_iter=250, features__text_pipeline__vect__max_df=1.0, features__text_pipeline__vect__min_df=0.2, features__text_pipeline__vect__ngram_range=(1, 3);, score=0.586 total time= 3.7min\n"
     ]
    },
    {
     "data": {
      "text/plain": [
       "GridSearchCV(cv=3,\n",
       "             estimator=Pipeline(steps=[('features',\n",
       "                                        FeatureUnion(transformer_list=[('text_pipeline',\n",
       "                                                                        Pipeline(steps=[('vect',\n",
       "                                                                                         CountVectorizer(tokenizer=<function tokenize at 0x0000024505DA6310>)),\n",
       "                                                                                        ('tfidf',\n",
       "                                                                                         TfidfTransformer())]))])),\n",
       "                                       ('clf',\n",
       "                                        LogisticRegression(solver='saga'))]),\n",
       "             param_grid={'clf__max_iter': [100, 250],\n",
       "                         'features__text_pipeline__vect__max_df': [0.5, 0.65,\n",
       "                                                                   0.8, 1.0],\n",
       "                         'features__text_pipeline__vect__min_df': [1, 0.1, 0.2],\n",
       "                         'features__text_pipeline__vect__ngram_range': ((1, 2),\n",
       "                                                                        (1,\n",
       "                                                                         3))},\n",
       "             verbose=3)"
      ]
     },
     "execution_count": 17,
     "metadata": {},
     "output_type": "execute_result"
    }
   ],
   "source": [
    "cv.fit(X_train, Y_train)"
   ]
  },
  {
   "cell_type": "code",
   "execution_count": 18,
   "id": "2fbf12d3",
   "metadata": {},
   "outputs": [
    {
     "data": {
      "text/plain": [
       "{'clf__max_iter': 100,\n",
       " 'features__text_pipeline__vect__max_df': 0.65,\n",
       " 'features__text_pipeline__vect__min_df': 1,\n",
       " 'features__text_pipeline__vect__ngram_range': (1, 2)}"
      ]
     },
     "execution_count": 18,
     "metadata": {},
     "output_type": "execute_result"
    }
   ],
   "source": [
    "# Print the best set of parameters\n",
    "cv.best_params_"
   ]
  },
  {
   "cell_type": "code",
   "execution_count": 19,
   "id": "a0f53210",
   "metadata": {},
   "outputs": [
    {
     "data": {
      "text/plain": [
       "0.8074025000000001"
      ]
     },
     "execution_count": 19,
     "metadata": {},
     "output_type": "execute_result"
    }
   ],
   "source": [
    "# Print the score of the best-performing model\n",
    "cv.best_score_"
   ]
  },
  {
   "cell_type": "code",
   "execution_count": 20,
   "id": "7c27e7dc",
   "metadata": {},
   "outputs": [],
   "source": [
    "# Make predictions on test data\n",
    "y_pred_cv = cv.predict(X_test)"
   ]
  },
  {
   "cell_type": "code",
   "execution_count": 21,
   "id": "c07be84d",
   "metadata": {},
   "outputs": [
    {
     "name": "stdout",
     "output_type": "stream",
     "text": [
      "              precision    recall  f1-score   support\n",
      "\n",
      "    negative       0.81      0.81      0.81    199581\n",
      "    positive       0.81      0.82      0.81    200419\n",
      "\n",
      "    accuracy                           0.81    400000\n",
      "   macro avg       0.81      0.81      0.81    400000\n",
      "weighted avg       0.81      0.81      0.81    400000\n",
      "\n"
     ]
    }
   ],
   "source": [
    "# Print the classification report\n",
    "print(classification_report(Y_test, y_pred_cv, zero_division=0))"
   ]
  },
  {
   "cell_type": "markdown",
   "id": "8b67f7ff",
   "metadata": {},
   "source": [
    "### Save model as pickle file"
   ]
  },
  {
   "cell_type": "code",
   "execution_count": 26,
   "id": "820424c1",
   "metadata": {},
   "outputs": [],
   "source": [
    "with open('final_model.pkl', 'wb') as f:\n",
    "    pickle.dump(cv, f)"
   ]
  },
  {
   "cell_type": "markdown",
   "id": "0e430cdb",
   "metadata": {},
   "source": [
    "At this point in the project I saved the final model (output of the Grid Search) as a pickle file to be loaded in.  When I came back on another day to look at interpretation of the results, I was unable to access attributes of different steps in the Pipeline.  For example, when I loaded my pickle file I could not access the coefficients of the Logistic Regression model, or the vocabulary of the Count Vectorizer.  So while I'll save the model and it can be loaded to make predictions in the future, I will create a new Pipeline object in the next step, passing in the best parameters from the Grid Search in the previous step.  I will use this newly trained Pipeline to interpret the results of the model."
   ]
  },
  {
   "cell_type": "markdown",
   "id": "d9781757",
   "metadata": {},
   "source": [
    "## Retrain model so we can access the attributes of the Pipeline steps"
   ]
  },
  {
   "cell_type": "code",
   "execution_count": 73,
   "id": "f2a7fd89",
   "metadata": {},
   "outputs": [],
   "source": [
    "# Create Pipeline object, passing in the best parameters from the GridSearch\n",
    "cv = Pipeline([\n",
    "    ('features', FeatureUnion([\n",
    "        ('text_pipeline', Pipeline([\n",
    "            ('vect', CountVectorizer(tokenizer=tokenize, max_df=0.65, min_df=1, ngram_range=(1, 2))),\n",
    "            ('tfidf', TfidfTransformer())\n",
    "        ]))\n",
    "    ])),\n",
    "    ('clf', LogisticRegression(solver='saga', max_iter=100))\n",
    "])"
   ]
  },
  {
   "cell_type": "code",
   "execution_count": 74,
   "id": "65f06e99",
   "metadata": {},
   "outputs": [],
   "source": [
    "X_train, X_test, Y_train, Y_test = train_test_split(X, Y, random_state=42)"
   ]
  },
  {
   "cell_type": "code",
   "execution_count": 75,
   "id": "beeb357f",
   "metadata": {
    "scrolled": true
   },
   "outputs": [
    {
     "data": {
      "text/plain": [
       "Pipeline(steps=[('features',\n",
       "                 FeatureUnion(transformer_list=[('text_pipeline',\n",
       "                                                 Pipeline(steps=[('vect',\n",
       "                                                                  CountVectorizer(max_df=0.65,\n",
       "                                                                                  ngram_range=(1,\n",
       "                                                                                               2),\n",
       "                                                                                  tokenizer=<function tokenize at 0x000001C9DB3A2700>)),\n",
       "                                                                 ('tfidf',\n",
       "                                                                  TfidfTransformer())]))])),\n",
       "                ('clf', LogisticRegression(solver='saga'))])"
      ]
     },
     "execution_count": 75,
     "metadata": {},
     "output_type": "execute_result"
    }
   ],
   "source": [
    "cv.fit(X_train, Y_train)"
   ]
  },
  {
   "cell_type": "code",
   "execution_count": 76,
   "id": "fad84196",
   "metadata": {},
   "outputs": [],
   "source": [
    "# Make predictions on test data\n",
    "y_pred_cv = cv.predict(X_test)"
   ]
  },
  {
   "cell_type": "code",
   "execution_count": 77,
   "id": "7f59d4fa",
   "metadata": {},
   "outputs": [
    {
     "name": "stdout",
     "output_type": "stream",
     "text": [
      "              precision    recall  f1-score   support\n",
      "\n",
      "    negative       0.81      0.81      0.81    199581\n",
      "    positive       0.81      0.82      0.81    200419\n",
      "\n",
      "    accuracy                           0.81    400000\n",
      "   macro avg       0.81      0.81      0.81    400000\n",
      "weighted avg       0.81      0.81      0.81    400000\n",
      "\n"
     ]
    }
   ],
   "source": [
    "# Print the classification report\n",
    "print(classification_report(Y_test, y_pred_cv, zero_division=0))"
   ]
  },
  {
   "cell_type": "markdown",
   "id": "025ac504",
   "metadata": {},
   "source": [
    "## Model evaluation"
   ]
  },
  {
   "cell_type": "markdown",
   "id": "06b56898",
   "metadata": {},
   "source": [
    "In the previous step, we have already found the precision, recall, and F1-score of the positive and negative classes of our model.  We also know the overall accuracy of our model.  Here we will look at a couple of other metrics like the Area Under the ROC Curve, and the confusion matrix."
   ]
  },
  {
   "cell_type": "code",
   "execution_count": 80,
   "id": "7b684efe",
   "metadata": {},
   "outputs": [
    {
     "name": "stdout",
     "output_type": "stream",
     "text": [
      "0.811055\n"
     ]
    }
   ],
   "source": [
    "# Print the accuracy score\n",
    "print(accuracy_score(Y_test, y_pred_cv))"
   ]
  },
  {
   "cell_type": "code",
   "execution_count": 81,
   "id": "d50c475e",
   "metadata": {},
   "outputs": [
    {
     "name": "stdout",
     "output_type": "stream",
     "text": [
      "[[160780  38801]\n",
      " [ 36777 163642]]\n"
     ]
    }
   ],
   "source": [
    "# Print the confusion matrix\n",
    "print(confusion_matrix(Y_test, y_pred_cv))"
   ]
  },
  {
   "cell_type": "markdown",
   "id": "75606480",
   "metadata": {},
   "source": [
    "### Find the AUC Score"
   ]
  },
  {
   "cell_type": "code",
   "execution_count": 82,
   "id": "bb73b5fd",
   "metadata": {},
   "outputs": [],
   "source": [
    "# Find the probabilities for each class in our test data\n",
    "model_probs = cv.predict_proba(X_test)"
   ]
  },
  {
   "cell_type": "code",
   "execution_count": 83,
   "id": "8cec198a",
   "metadata": {},
   "outputs": [],
   "source": [
    "# Find the probabilities for the positive class\n",
    "pos_probs = model_probs[:, 1]"
   ]
  },
  {
   "cell_type": "code",
   "execution_count": 84,
   "id": "892a715c",
   "metadata": {},
   "outputs": [],
   "source": [
    "# Calculate AUC score\n",
    "auc = roc_auc_score(Y_test, pos_probs)"
   ]
  },
  {
   "cell_type": "code",
   "execution_count": 85,
   "id": "7ef6b31b",
   "metadata": {},
   "outputs": [
    {
     "data": {
      "text/plain": [
       "0.8910515985477424"
      ]
     },
     "execution_count": 85,
     "metadata": {},
     "output_type": "execute_result"
    }
   ],
   "source": [
    "# Print the AUC score\n",
    "auc"
   ]
  },
  {
   "cell_type": "markdown",
   "id": "5c955caa",
   "metadata": {},
   "source": [
    "We have a good AUC score of around 89%, meaning there is about an 89% probability that our model will rank a randomly selected positive case higher than a randomly selected negative case."
   ]
  },
  {
   "cell_type": "markdown",
   "id": "b8ede5f1",
   "metadata": {},
   "source": [
    "### Plot the ROC Curve"
   ]
  },
  {
   "cell_type": "code",
   "execution_count": 36,
   "id": "ffe77c8b",
   "metadata": {},
   "outputs": [],
   "source": [
    "fpr, tpr, thresholds = roc_curve(Y_test, pos_probs, pos_label=\"positive\")"
   ]
  },
  {
   "cell_type": "code",
   "execution_count": 86,
   "id": "620acc03",
   "metadata": {},
   "outputs": [
    {
     "data": {
      "image/png": "[encoded data removed]",
      "text/plain": [
       "<Figure size 864x576 with 1 Axes>"
      ]
     },
     "metadata": {},
     "output_type": "display_data"
    }
   ],
   "source": [
    "fig, ax = plt.subplots(1, 1, figsize=[12,8])\n",
    "plt.plot(fpr, tpr)\n",
    "ax.set_title(\"ROC Curve\", fontsize=20)\n",
    "ax.set_xlabel(\"False Positive Rate\", fontsize=18)\n",
    "ax.set_ylabel(\"True Positive Rate\", fontsize=18)\n",
    "plt.show()"
   ]
  },
  {
   "cell_type": "markdown",
   "id": "08f3b7dc",
   "metadata": {},
   "source": [
    "### Analyze feature importance"
   ]
  },
  {
   "cell_type": "code",
   "execution_count": 131,
   "id": "1b0a4db8",
   "metadata": {},
   "outputs": [
    {
     "data": {
      "text/plain": [
       "FeatureUnion(transformer_list=[('text_pipeline',\n",
       "                                Pipeline(steps=[('vect',\n",
       "                                                 CountVectorizer(max_df=0.65,\n",
       "                                                                 ngram_range=(1,\n",
       "                                                                              2),\n",
       "                                                                 tokenizer=<function tokenize at 0x000001C9DB3A2700>)),\n",
       "                                                ('tfidf',\n",
       "                                                 TfidfTransformer())]))])"
      ]
     },
     "execution_count": 131,
     "metadata": {},
     "output_type": "execute_result"
    }
   ],
   "source": [
    "# We will need to tap into different parts of the Pipeline object to access the different attributes related to each step\n",
    "cv[0]"
   ]
  },
  {
   "cell_type": "code",
   "execution_count": 89,
   "id": "82cc7b99",
   "metadata": {},
   "outputs": [
    {
     "data": {
      "text/plain": [
       "LogisticRegression(solver='saga')"
      ]
     },
     "execution_count": 89,
     "metadata": {},
     "output_type": "execute_result"
    }
   ],
   "source": [
    "cv[1]"
   ]
  },
  {
   "cell_type": "code",
   "execution_count": 94,
   "id": "3b3013a9",
   "metadata": {
    "scrolled": true
   },
   "outputs": [
    {
     "data": {
      "text/plain": [
       "array(['text_pipeline__0', 'text_pipeline__0 0', 'text_pipeline__0 00',\n",
       "       ..., 'text_pipeline__zzzuu adios', 'text_pipeline__zzzy',\n",
       "       'text_pipeline__zzzy office'], dtype=object)"
      ]
     },
     "execution_count": 94,
     "metadata": {},
     "output_type": "execute_result"
    }
   ],
   "source": [
    "# Finding feature names of the \"text_pipeline\" FeatureUnion from our Pipeline\n",
    "cv[0].get_feature_names_out()"
   ]
  },
  {
   "cell_type": "code",
   "execution_count": 95,
   "id": "274c52d2",
   "metadata": {},
   "outputs": [
    {
     "data": {
      "text/plain": [
       "3294897"
      ]
     },
     "execution_count": 95,
     "metadata": {},
     "output_type": "execute_result"
    }
   ],
   "source": [
    "# Finding the number of features produced by the FeatureUnion\n",
    "len(cv[0].get_feature_names_out())"
   ]
  },
  {
   "cell_type": "code",
   "execution_count": 96,
   "id": "dd725280",
   "metadata": {},
   "outputs": [
    {
     "data": {
      "text/plain": [
       "array([0.42153809])"
      ]
     },
     "execution_count": 96,
     "metadata": {},
     "output_type": "execute_result"
    }
   ],
   "source": [
    "# Finding the intercept from the Logistic Regression classifier\n",
    "cv[1].intercept_"
   ]
  },
  {
   "cell_type": "code",
   "execution_count": 97,
   "id": "ef99e262",
   "metadata": {},
   "outputs": [
    {
     "data": {
      "text/plain": [
       "array([-1.35424036,  0.30396767,  0.02895388, ..., -0.18388588,\n",
       "       -0.15624128, -0.15624128])"
      ]
     },
     "execution_count": 97,
     "metadata": {},
     "output_type": "execute_result"
    }
   ],
   "source": [
    "# Finding the coefficients of the features from the Logistic Regression classifier\n",
    "cv[1].coef_[0]"
   ]
  },
  {
   "cell_type": "code",
   "execution_count": 98,
   "id": "7aae5615",
   "metadata": {},
   "outputs": [
    {
     "data": {
      "text/plain": [
       "3294897"
      ]
     },
     "execution_count": 98,
     "metadata": {},
     "output_type": "execute_result"
    }
   ],
   "source": [
    "# Finding the number of features used in the Logistic Regression classifier\n",
    "cv[1].n_features_in_"
   ]
  },
  {
   "cell_type": "code",
   "execution_count": 99,
   "id": "5a3c7b7a",
   "metadata": {},
   "outputs": [
    {
     "data": {
      "text/plain": [
       "(-20.945463149585503, 12.497028958663186)"
      ]
     },
     "execution_count": 99,
     "metadata": {},
     "output_type": "execute_result"
    }
   ],
   "source": [
    "# Finding the minimum and maximum coefficients\n",
    "min(cv[1].coef_[0]), max(cv[1].coef_[0])"
   ]
  },
  {
   "cell_type": "code",
   "execution_count": 100,
   "id": "1a4985fd",
   "metadata": {},
   "outputs": [],
   "source": [
    "# Save the feature names and coefficients\n",
    "feature_names = cv[0].get_feature_names_out()\n",
    "feature_coef = cv[1].coef_[0]"
   ]
  },
  {
   "cell_type": "code",
   "execution_count": 101,
   "id": "f5497a2c",
   "metadata": {},
   "outputs": [
    {
     "data": {
      "text/plain": [
       "(3294897, 3294897)"
      ]
     },
     "execution_count": 101,
     "metadata": {},
     "output_type": "execute_result"
    }
   ],
   "source": [
    "# Check they are the same length\n",
    "len(feature_names), len(feature_coef)"
   ]
  },
  {
   "cell_type": "code",
   "execution_count": 102,
   "id": "8a6886c3",
   "metadata": {},
   "outputs": [],
   "source": [
    "# Combining the feature names and coefficients into a dataframe\n",
    "feature_importance = zip(feature_names, feature_coef)\n",
    "feature_importance_df = pd.DataFrame(feature_importance, columns=['feature', 'coefficient'])"
   ]
  },
  {
   "cell_type": "code",
   "execution_count": 103,
   "id": "00658546",
   "metadata": {
    "scrolled": true
   },
   "outputs": [
    {
     "data": {
      "text/html": [
       "<div>\n",
       "<style scoped>\n",
       "    .dataframe tbody tr th:only-of-type {\n",
       "        vertical-align: middle;\n",
       "    }\n",
       "\n",
       "    .dataframe tbody tr th {\n",
       "        vertical-align: top;\n",
       "    }\n",
       "\n",
       "    .dataframe thead th {\n",
       "        text-align: right;\n",
       "    }\n",
       "</style>\n",
       "<table border=\"1\" class=\"dataframe\">\n",
       "  <thead>\n",
       "    <tr style=\"text-align: right;\">\n",
       "      <th></th>\n",
       "      <th>feature</th>\n",
       "      <th>coefficient</th>\n",
       "    </tr>\n",
       "  </thead>\n",
       "  <tbody>\n",
       "    <tr>\n",
       "      <th>0</th>\n",
       "      <td>text_pipeline__0</td>\n",
       "      <td>-1.354240</td>\n",
       "    </tr>\n",
       "    <tr>\n",
       "      <th>1</th>\n",
       "      <td>text_pipeline__0 0</td>\n",
       "      <td>0.303968</td>\n",
       "    </tr>\n",
       "    <tr>\n",
       "      <th>2</th>\n",
       "      <td>text_pipeline__0 00</td>\n",
       "      <td>0.028954</td>\n",
       "    </tr>\n",
       "    <tr>\n",
       "      <th>3</th>\n",
       "      <td>text_pipeline__0 0001</td>\n",
       "      <td>-0.193227</td>\n",
       "    </tr>\n",
       "    <tr>\n",
       "      <th>4</th>\n",
       "      <td>text_pipeline__0 00014</td>\n",
       "      <td>-0.200772</td>\n",
       "    </tr>\n",
       "    <tr>\n",
       "      <th>5</th>\n",
       "      <td>text_pipeline__0 005</td>\n",
       "      <td>-0.063102</td>\n",
       "    </tr>\n",
       "    <tr>\n",
       "      <th>6</th>\n",
       "      <td>text_pipeline__0 0055</td>\n",
       "      <td>0.042339</td>\n",
       "    </tr>\n",
       "    <tr>\n",
       "      <th>7</th>\n",
       "      <td>text_pipeline__0 006</td>\n",
       "      <td>0.091162</td>\n",
       "    </tr>\n",
       "    <tr>\n",
       "      <th>8</th>\n",
       "      <td>text_pipeline__0 01</td>\n",
       "      <td>0.147196</td>\n",
       "    </tr>\n",
       "    <tr>\n",
       "      <th>9</th>\n",
       "      <td>text_pipeline__0 02</td>\n",
       "      <td>0.154103</td>\n",
       "    </tr>\n",
       "    <tr>\n",
       "      <th>10</th>\n",
       "      <td>text_pipeline__0 02345</td>\n",
       "      <td>-0.035262</td>\n",
       "    </tr>\n",
       "    <tr>\n",
       "      <th>11</th>\n",
       "      <td>text_pipeline__0 03</td>\n",
       "      <td>0.062515</td>\n",
       "    </tr>\n",
       "    <tr>\n",
       "      <th>12</th>\n",
       "      <td>text_pipeline__0 04</td>\n",
       "      <td>-0.087454</td>\n",
       "    </tr>\n",
       "    <tr>\n",
       "      <th>13</th>\n",
       "      <td>text_pipeline__0 05</td>\n",
       "      <td>0.064572</td>\n",
       "    </tr>\n",
       "    <tr>\n",
       "      <th>14</th>\n",
       "      <td>text_pipeline__0 076306</td>\n",
       "      <td>-0.053410</td>\n",
       "    </tr>\n",
       "    <tr>\n",
       "      <th>15</th>\n",
       "      <td>text_pipeline__0 08</td>\n",
       "      <td>-0.279030</td>\n",
       "    </tr>\n",
       "    <tr>\n",
       "      <th>16</th>\n",
       "      <td>text_pipeline__0 0b1</td>\n",
       "      <td>-0.084392</td>\n",
       "    </tr>\n",
       "    <tr>\n",
       "      <th>17</th>\n",
       "      <td>text_pipeline__0 0ne</td>\n",
       "      <td>0.059935</td>\n",
       "    </tr>\n",
       "    <tr>\n",
       "      <th>18</th>\n",
       "      <td>text_pipeline__0 1</td>\n",
       "      <td>0.100468</td>\n",
       "    </tr>\n",
       "    <tr>\n",
       "      <th>19</th>\n",
       "      <td>text_pipeline__0 10</td>\n",
       "      <td>-0.042102</td>\n",
       "    </tr>\n",
       "    <tr>\n",
       "      <th>20</th>\n",
       "      <td>text_pipeline__0 1000</td>\n",
       "      <td>0.158022</td>\n",
       "    </tr>\n",
       "    <tr>\n",
       "      <th>21</th>\n",
       "      <td>text_pipeline__0 11</td>\n",
       "      <td>0.125932</td>\n",
       "    </tr>\n",
       "    <tr>\n",
       "      <th>22</th>\n",
       "      <td>text_pipeline__0 12</td>\n",
       "      <td>-0.049284</td>\n",
       "    </tr>\n",
       "    <tr>\n",
       "      <th>23</th>\n",
       "      <td>text_pipeline__0 1202</td>\n",
       "      <td>-0.012007</td>\n",
       "    </tr>\n",
       "    <tr>\n",
       "      <th>24</th>\n",
       "      <td>text_pipeline__0 13</td>\n",
       "      <td>-0.127961</td>\n",
       "    </tr>\n",
       "    <tr>\n",
       "      <th>25</th>\n",
       "      <td>text_pipeline__0 14</td>\n",
       "      <td>0.292596</td>\n",
       "    </tr>\n",
       "    <tr>\n",
       "      <th>26</th>\n",
       "      <td>text_pipeline__0 140</td>\n",
       "      <td>0.072371</td>\n",
       "    </tr>\n",
       "    <tr>\n",
       "      <th>27</th>\n",
       "      <td>text_pipeline__0 15</td>\n",
       "      <td>0.005779</td>\n",
       "    </tr>\n",
       "    <tr>\n",
       "      <th>28</th>\n",
       "      <td>text_pipeline__0 16</td>\n",
       "      <td>-0.396527</td>\n",
       "    </tr>\n",
       "    <tr>\n",
       "      <th>29</th>\n",
       "      <td>text_pipeline__0 165</td>\n",
       "      <td>0.179640</td>\n",
       "    </tr>\n",
       "    <tr>\n",
       "      <th>30</th>\n",
       "      <td>text_pipeline__0 169</td>\n",
       "      <td>0.174913</td>\n",
       "    </tr>\n",
       "    <tr>\n",
       "      <th>31</th>\n",
       "      <td>text_pipeline__0 17</td>\n",
       "      <td>-0.087590</td>\n",
       "    </tr>\n",
       "    <tr>\n",
       "      <th>32</th>\n",
       "      <td>text_pipeline__0 17th</td>\n",
       "      <td>-0.014689</td>\n",
       "    </tr>\n",
       "    <tr>\n",
       "      <th>33</th>\n",
       "      <td>text_pipeline__0 18</td>\n",
       "      <td>0.094979</td>\n",
       "    </tr>\n",
       "    <tr>\n",
       "      <th>34</th>\n",
       "      <td>text_pipeline__0 19</td>\n",
       "      <td>0.071377</td>\n",
       "    </tr>\n",
       "    <tr>\n",
       "      <th>35</th>\n",
       "      <td>text_pipeline__0 1st</td>\n",
       "      <td>-0.027653</td>\n",
       "    </tr>\n",
       "    <tr>\n",
       "      <th>36</th>\n",
       "      <td>text_pipeline__0 2</td>\n",
       "      <td>-0.662424</td>\n",
       "    </tr>\n",
       "    <tr>\n",
       "      <th>37</th>\n",
       "      <td>text_pipeline__0 20</td>\n",
       "      <td>0.246598</td>\n",
       "    </tr>\n",
       "    <tr>\n",
       "      <th>38</th>\n",
       "      <td>text_pipeline__0 22</td>\n",
       "      <td>-0.028767</td>\n",
       "    </tr>\n",
       "    <tr>\n",
       "      <th>39</th>\n",
       "      <td>text_pipeline__0 222473</td>\n",
       "      <td>-0.053410</td>\n",
       "    </tr>\n",
       "  </tbody>\n",
       "</table>\n",
       "</div>"
      ],
      "text/plain": [
       "                    feature  coefficient\n",
       "0          text_pipeline__0    -1.354240\n",
       "1        text_pipeline__0 0     0.303968\n",
       "2       text_pipeline__0 00     0.028954\n",
       "3     text_pipeline__0 0001    -0.193227\n",
       "4    text_pipeline__0 00014    -0.200772\n",
       "5      text_pipeline__0 005    -0.063102\n",
       "6     text_pipeline__0 0055     0.042339\n",
       "7      text_pipeline__0 006     0.091162\n",
       "8       text_pipeline__0 01     0.147196\n",
       "9       text_pipeline__0 02     0.154103\n",
       "10   text_pipeline__0 02345    -0.035262\n",
       "11      text_pipeline__0 03     0.062515\n",
       "12      text_pipeline__0 04    -0.087454\n",
       "13      text_pipeline__0 05     0.064572\n",
       "14  text_pipeline__0 076306    -0.053410\n",
       "15      text_pipeline__0 08    -0.279030\n",
       "16     text_pipeline__0 0b1    -0.084392\n",
       "17     text_pipeline__0 0ne     0.059935\n",
       "18       text_pipeline__0 1     0.100468\n",
       "19      text_pipeline__0 10    -0.042102\n",
       "20    text_pipeline__0 1000     0.158022\n",
       "21      text_pipeline__0 11     0.125932\n",
       "22      text_pipeline__0 12    -0.049284\n",
       "23    text_pipeline__0 1202    -0.012007\n",
       "24      text_pipeline__0 13    -0.127961\n",
       "25      text_pipeline__0 14     0.292596\n",
       "26     text_pipeline__0 140     0.072371\n",
       "27      text_pipeline__0 15     0.005779\n",
       "28      text_pipeline__0 16    -0.396527\n",
       "29     text_pipeline__0 165     0.179640\n",
       "30     text_pipeline__0 169     0.174913\n",
       "31      text_pipeline__0 17    -0.087590\n",
       "32    text_pipeline__0 17th    -0.014689\n",
       "33      text_pipeline__0 18     0.094979\n",
       "34      text_pipeline__0 19     0.071377\n",
       "35     text_pipeline__0 1st    -0.027653\n",
       "36       text_pipeline__0 2    -0.662424\n",
       "37      text_pipeline__0 20     0.246598\n",
       "38      text_pipeline__0 22    -0.028767\n",
       "39  text_pipeline__0 222473    -0.053410"
      ]
     },
     "execution_count": 103,
     "metadata": {},
     "output_type": "execute_result"
    }
   ],
   "source": [
    "feature_importance_df.head(40)"
   ]
  },
  {
   "cell_type": "code",
   "execution_count": 104,
   "id": "da4d8e5a",
   "metadata": {},
   "outputs": [],
   "source": [
    "# remove the \"text_pipeline__\" substring to make our dataframe neater\n",
    "feature_importance_df['feature'] = feature_importance_df.feature.str.replace('text_pipeline__', '')"
   ]
  },
  {
   "cell_type": "code",
   "execution_count": 105,
   "id": "c49ea916",
   "metadata": {},
   "outputs": [
    {
     "data": {
      "text/html": [
       "<div>\n",
       "<style scoped>\n",
       "    .dataframe tbody tr th:only-of-type {\n",
       "        vertical-align: middle;\n",
       "    }\n",
       "\n",
       "    .dataframe tbody tr th {\n",
       "        vertical-align: top;\n",
       "    }\n",
       "\n",
       "    .dataframe thead th {\n",
       "        text-align: right;\n",
       "    }\n",
       "</style>\n",
       "<table border=\"1\" class=\"dataframe\">\n",
       "  <thead>\n",
       "    <tr style=\"text-align: right;\">\n",
       "      <th></th>\n",
       "      <th>feature</th>\n",
       "      <th>coefficient</th>\n",
       "    </tr>\n",
       "  </thead>\n",
       "  <tbody>\n",
       "    <tr>\n",
       "      <th>0</th>\n",
       "      <td>0</td>\n",
       "      <td>-1.354240</td>\n",
       "    </tr>\n",
       "    <tr>\n",
       "      <th>1</th>\n",
       "      <td>0 0</td>\n",
       "      <td>0.303968</td>\n",
       "    </tr>\n",
       "    <tr>\n",
       "      <th>2</th>\n",
       "      <td>0 00</td>\n",
       "      <td>0.028954</td>\n",
       "    </tr>\n",
       "    <tr>\n",
       "      <th>3</th>\n",
       "      <td>0 0001</td>\n",
       "      <td>-0.193227</td>\n",
       "    </tr>\n",
       "    <tr>\n",
       "      <th>4</th>\n",
       "      <td>0 00014</td>\n",
       "      <td>-0.200772</td>\n",
       "    </tr>\n",
       "    <tr>\n",
       "      <th>...</th>\n",
       "      <td>...</td>\n",
       "      <td>...</td>\n",
       "    </tr>\n",
       "    <tr>\n",
       "      <th>3294892</th>\n",
       "      <td>zzzs u</td>\n",
       "      <td>0.053984</td>\n",
       "    </tr>\n",
       "    <tr>\n",
       "      <th>3294893</th>\n",
       "      <td>zzzuu</td>\n",
       "      <td>-0.183886</td>\n",
       "    </tr>\n",
       "    <tr>\n",
       "      <th>3294894</th>\n",
       "      <td>zzzuu adios</td>\n",
       "      <td>-0.183886</td>\n",
       "    </tr>\n",
       "    <tr>\n",
       "      <th>3294895</th>\n",
       "      <td>zzzy</td>\n",
       "      <td>-0.156241</td>\n",
       "    </tr>\n",
       "    <tr>\n",
       "      <th>3294896</th>\n",
       "      <td>zzzy office</td>\n",
       "      <td>-0.156241</td>\n",
       "    </tr>\n",
       "  </tbody>\n",
       "</table>\n",
       "<p>3294897 rows × 2 columns</p>\n",
       "</div>"
      ],
      "text/plain": [
       "             feature  coefficient\n",
       "0                  0    -1.354240\n",
       "1                0 0     0.303968\n",
       "2               0 00     0.028954\n",
       "3             0 0001    -0.193227\n",
       "4            0 00014    -0.200772\n",
       "...              ...          ...\n",
       "3294892       zzzs u     0.053984\n",
       "3294893        zzzuu    -0.183886\n",
       "3294894  zzzuu adios    -0.183886\n",
       "3294895         zzzy    -0.156241\n",
       "3294896  zzzy office    -0.156241\n",
       "\n",
       "[3294897 rows x 2 columns]"
      ]
     },
     "execution_count": 105,
     "metadata": {},
     "output_type": "execute_result"
    }
   ],
   "source": [
    "feature_importance_df"
   ]
  },
  {
   "cell_type": "code",
   "execution_count": 106,
   "id": "1a0a492e",
   "metadata": {},
   "outputs": [],
   "source": [
    "# Sort our dataframe\n",
    "feature_df_sorted = feature_importance_df.sort_values(by='coefficient')"
   ]
  },
  {
   "cell_type": "code",
   "execution_count": 107,
   "id": "9d7eafbd",
   "metadata": {},
   "outputs": [
    {
     "data": {
      "text/html": [
       "<div>\n",
       "<style scoped>\n",
       "    .dataframe tbody tr th:only-of-type {\n",
       "        vertical-align: middle;\n",
       "    }\n",
       "\n",
       "    .dataframe tbody tr th {\n",
       "        vertical-align: top;\n",
       "    }\n",
       "\n",
       "    .dataframe thead th {\n",
       "        text-align: right;\n",
       "    }\n",
       "</style>\n",
       "<table border=\"1\" class=\"dataframe\">\n",
       "  <thead>\n",
       "    <tr style=\"text-align: right;\">\n",
       "      <th></th>\n",
       "      <th>feature</th>\n",
       "      <th>coefficient</th>\n",
       "    </tr>\n",
       "  </thead>\n",
       "  <tbody>\n",
       "    <tr>\n",
       "      <th>2425263</th>\n",
       "      <td>sad</td>\n",
       "      <td>-20.945463</td>\n",
       "    </tr>\n",
       "    <tr>\n",
       "      <th>1821196</th>\n",
       "      <td>miss</td>\n",
       "      <td>-14.668852</td>\n",
       "    </tr>\n",
       "    <tr>\n",
       "      <th>2191056</th>\n",
       "      <td>poor</td>\n",
       "      <td>-12.527180</td>\n",
       "    </tr>\n",
       "    <tr>\n",
       "      <th>3181435</th>\n",
       "      <td>wish</td>\n",
       "      <td>-11.998884</td>\n",
       "    </tr>\n",
       "    <tr>\n",
       "      <th>1830002</th>\n",
       "      <td>missing</td>\n",
       "      <td>-11.885372</td>\n",
       "    </tr>\n",
       "    <tr>\n",
       "      <th>...</th>\n",
       "      <td>...</td>\n",
       "      <td>...</td>\n",
       "    </tr>\n",
       "    <tr>\n",
       "      <th>2819576</th>\n",
       "      <td>thanks</td>\n",
       "      <td>8.899659</td>\n",
       "    </tr>\n",
       "    <tr>\n",
       "      <th>1970023</th>\n",
       "      <td>no problem</td>\n",
       "      <td>10.734823</td>\n",
       "    </tr>\n",
       "    <tr>\n",
       "      <th>1994647</th>\n",
       "      <td>not wait</td>\n",
       "      <td>11.529978</td>\n",
       "    </tr>\n",
       "    <tr>\n",
       "      <th>1984132</th>\n",
       "      <td>not bad</td>\n",
       "      <td>12.026608</td>\n",
       "    </tr>\n",
       "    <tr>\n",
       "      <th>481633</th>\n",
       "      <td>cant wait</td>\n",
       "      <td>12.497029</td>\n",
       "    </tr>\n",
       "  </tbody>\n",
       "</table>\n",
       "<p>3294897 rows × 2 columns</p>\n",
       "</div>"
      ],
      "text/plain": [
       "            feature  coefficient\n",
       "2425263         sad   -20.945463\n",
       "1821196        miss   -14.668852\n",
       "2191056        poor   -12.527180\n",
       "3181435        wish   -11.998884\n",
       "1830002     missing   -11.885372\n",
       "...             ...          ...\n",
       "2819576      thanks     8.899659\n",
       "1970023  no problem    10.734823\n",
       "1994647    not wait    11.529978\n",
       "1984132     not bad    12.026608\n",
       "481633    cant wait    12.497029\n",
       "\n",
       "[3294897 rows x 2 columns]"
      ]
     },
     "execution_count": 107,
     "metadata": {},
     "output_type": "execute_result"
    }
   ],
   "source": [
    "feature_df_sorted"
   ]
  },
  {
   "cell_type": "code",
   "execution_count": 108,
   "id": "cd62beff",
   "metadata": {},
   "outputs": [],
   "source": [
    "# Find the top 20 features leading to negative and positive classifications\n",
    "top_neg_features = feature_df_sorted.head(20)\n",
    "top_pos_features = feature_df_sorted.tail(20)"
   ]
  },
  {
   "cell_type": "code",
   "execution_count": 109,
   "id": "6d92d216",
   "metadata": {},
   "outputs": [
    {
     "data": {
      "text/html": [
       "<div>\n",
       "<style scoped>\n",
       "    .dataframe tbody tr th:only-of-type {\n",
       "        vertical-align: middle;\n",
       "    }\n",
       "\n",
       "    .dataframe tbody tr th {\n",
       "        vertical-align: top;\n",
       "    }\n",
       "\n",
       "    .dataframe thead th {\n",
       "        text-align: right;\n",
       "    }\n",
       "</style>\n",
       "<table border=\"1\" class=\"dataframe\">\n",
       "  <thead>\n",
       "    <tr style=\"text-align: right;\">\n",
       "      <th></th>\n",
       "      <th>feature</th>\n",
       "      <th>coefficient</th>\n",
       "    </tr>\n",
       "  </thead>\n",
       "  <tbody>\n",
       "    <tr>\n",
       "      <th>2425263</th>\n",
       "      <td>sad</td>\n",
       "      <td>-20.945463</td>\n",
       "    </tr>\n",
       "    <tr>\n",
       "      <th>1821196</th>\n",
       "      <td>miss</td>\n",
       "      <td>-14.668852</td>\n",
       "    </tr>\n",
       "    <tr>\n",
       "      <th>2191056</th>\n",
       "      <td>poor</td>\n",
       "      <td>-12.527180</td>\n",
       "    </tr>\n",
       "    <tr>\n",
       "      <th>3181435</th>\n",
       "      <td>wish</td>\n",
       "      <td>-11.998884</td>\n",
       "    </tr>\n",
       "    <tr>\n",
       "      <th>1830002</th>\n",
       "      <td>missing</td>\n",
       "      <td>-11.885372</td>\n",
       "    </tr>\n",
       "    <tr>\n",
       "      <th>1983191</th>\n",
       "      <td>not</td>\n",
       "      <td>-11.809522</td>\n",
       "    </tr>\n",
       "    <tr>\n",
       "      <th>2552273</th>\n",
       "      <td>sick</td>\n",
       "      <td>-11.491266</td>\n",
       "    </tr>\n",
       "    <tr>\n",
       "      <th>2430295</th>\n",
       "      <td>sadly</td>\n",
       "      <td>-11.229117</td>\n",
       "    </tr>\n",
       "    <tr>\n",
       "      <th>1274942</th>\n",
       "      <td>hate</td>\n",
       "      <td>-10.747812</td>\n",
       "    </tr>\n",
       "    <tr>\n",
       "      <th>1386830</th>\n",
       "      <td>hurt</td>\n",
       "      <td>-10.288156</td>\n",
       "    </tr>\n",
       "    <tr>\n",
       "      <th>759016</th>\n",
       "      <td>died</td>\n",
       "      <td>-10.205354</td>\n",
       "    </tr>\n",
       "    <tr>\n",
       "      <th>3010710</th>\n",
       "      <td>unfortunately</td>\n",
       "      <td>-10.191770</td>\n",
       "    </tr>\n",
       "    <tr>\n",
       "      <th>2723617</th>\n",
       "      <td>suck</td>\n",
       "      <td>-10.159836</td>\n",
       "    </tr>\n",
       "    <tr>\n",
       "      <th>1679594</th>\n",
       "      <td>lost</td>\n",
       "      <td>-10.066721</td>\n",
       "    </tr>\n",
       "    <tr>\n",
       "      <th>1964139</th>\n",
       "      <td>no</td>\n",
       "      <td>-9.979561</td>\n",
       "    </tr>\n",
       "    <tr>\n",
       "      <th>424046</th>\n",
       "      <td>broke</td>\n",
       "      <td>-9.727996</td>\n",
       "    </tr>\n",
       "    <tr>\n",
       "      <th>274109</th>\n",
       "      <td>bad</td>\n",
       "      <td>-9.412459</td>\n",
       "    </tr>\n",
       "    <tr>\n",
       "      <th>480546</th>\n",
       "      <td>cant</td>\n",
       "      <td>-9.368846</td>\n",
       "    </tr>\n",
       "    <tr>\n",
       "      <th>2391984</th>\n",
       "      <td>rip</td>\n",
       "      <td>-9.311135</td>\n",
       "    </tr>\n",
       "    <tr>\n",
       "      <th>668926</th>\n",
       "      <td>cry</td>\n",
       "      <td>-9.268179</td>\n",
       "    </tr>\n",
       "  </tbody>\n",
       "</table>\n",
       "</div>"
      ],
      "text/plain": [
       "               feature  coefficient\n",
       "2425263            sad   -20.945463\n",
       "1821196           miss   -14.668852\n",
       "2191056           poor   -12.527180\n",
       "3181435           wish   -11.998884\n",
       "1830002        missing   -11.885372\n",
       "1983191            not   -11.809522\n",
       "2552273           sick   -11.491266\n",
       "2430295          sadly   -11.229117\n",
       "1274942           hate   -10.747812\n",
       "1386830           hurt   -10.288156\n",
       "759016            died   -10.205354\n",
       "3010710  unfortunately   -10.191770\n",
       "2723617           suck   -10.159836\n",
       "1679594           lost   -10.066721\n",
       "1964139             no    -9.979561\n",
       "424046           broke    -9.727996\n",
       "274109             bad    -9.412459\n",
       "480546            cant    -9.368846\n",
       "2391984            rip    -9.311135\n",
       "668926             cry    -9.268179"
      ]
     },
     "execution_count": 109,
     "metadata": {},
     "output_type": "execute_result"
    }
   ],
   "source": [
    "top_neg_features.sort_values(by='coefficient', ascending=True)"
   ]
  },
  {
   "cell_type": "markdown",
   "id": "bd920cc0",
   "metadata": {},
   "source": [
    "We can see words like \"sad\", \"sick\", \"hate\", \"bad\", \"cry\" appearing in the most important words leading to a negative classification."
   ]
  },
  {
   "cell_type": "code",
   "execution_count": 110,
   "id": "68feabcd",
   "metadata": {},
   "outputs": [
    {
     "data": {
      "text/html": [
       "<div>\n",
       "<style scoped>\n",
       "    .dataframe tbody tr th:only-of-type {\n",
       "        vertical-align: middle;\n",
       "    }\n",
       "\n",
       "    .dataframe tbody tr th {\n",
       "        vertical-align: top;\n",
       "    }\n",
       "\n",
       "    .dataframe thead th {\n",
       "        text-align: right;\n",
       "    }\n",
       "</style>\n",
       "<table border=\"1\" class=\"dataframe\">\n",
       "  <thead>\n",
       "    <tr style=\"text-align: right;\">\n",
       "      <th></th>\n",
       "      <th>feature</th>\n",
       "      <th>coefficient</th>\n",
       "    </tr>\n",
       "  </thead>\n",
       "  <tbody>\n",
       "    <tr>\n",
       "      <th>481633</th>\n",
       "      <td>cant wait</td>\n",
       "      <td>12.497029</td>\n",
       "    </tr>\n",
       "    <tr>\n",
       "      <th>1984132</th>\n",
       "      <td>not bad</td>\n",
       "      <td>12.026608</td>\n",
       "    </tr>\n",
       "    <tr>\n",
       "      <th>1994647</th>\n",
       "      <td>not wait</td>\n",
       "      <td>11.529978</td>\n",
       "    </tr>\n",
       "    <tr>\n",
       "      <th>1970023</th>\n",
       "      <td>no problem</td>\n",
       "      <td>10.734823</td>\n",
       "    </tr>\n",
       "    <tr>\n",
       "      <th>2819576</th>\n",
       "      <td>thanks</td>\n",
       "      <td>8.899659</td>\n",
       "    </tr>\n",
       "    <tr>\n",
       "      <th>2816801</th>\n",
       "      <td>thank</td>\n",
       "      <td>8.881687</td>\n",
       "    </tr>\n",
       "    <tr>\n",
       "      <th>480290</th>\n",
       "      <td>cannot wait</td>\n",
       "      <td>8.493717</td>\n",
       "    </tr>\n",
       "    <tr>\n",
       "      <th>1260155</th>\n",
       "      <td>happy</td>\n",
       "      <td>8.460817</td>\n",
       "    </tr>\n",
       "    <tr>\n",
       "      <th>1992148</th>\n",
       "      <td>not sad</td>\n",
       "      <td>8.350655</td>\n",
       "    </tr>\n",
       "    <tr>\n",
       "      <th>3183343</th>\n",
       "      <td>wish luck</td>\n",
       "      <td>8.263524</td>\n",
       "    </tr>\n",
       "    <tr>\n",
       "      <th>1989875</th>\n",
       "      <td>not miss</td>\n",
       "      <td>7.695111</td>\n",
       "    </tr>\n",
       "    <tr>\n",
       "      <th>923645</th>\n",
       "      <td>excited</td>\n",
       "      <td>7.561853</td>\n",
       "    </tr>\n",
       "    <tr>\n",
       "      <th>2598365</th>\n",
       "      <td>smile</td>\n",
       "      <td>7.542381</td>\n",
       "    </tr>\n",
       "    <tr>\n",
       "      <th>3144242</th>\n",
       "      <td>welcome</td>\n",
       "      <td>7.244576</td>\n",
       "    </tr>\n",
       "    <tr>\n",
       "      <th>1686941</th>\n",
       "      <td>love</td>\n",
       "      <td>7.185606</td>\n",
       "    </tr>\n",
       "    <tr>\n",
       "      <th>1972617</th>\n",
       "      <td>no worry</td>\n",
       "      <td>7.076716</td>\n",
       "    </tr>\n",
       "    <tr>\n",
       "      <th>1171735</th>\n",
       "      <td>good</td>\n",
       "      <td>7.002335</td>\n",
       "    </tr>\n",
       "    <tr>\n",
       "      <th>1988365</th>\n",
       "      <td>not hurt</td>\n",
       "      <td>6.949598</td>\n",
       "    </tr>\n",
       "    <tr>\n",
       "      <th>3252311</th>\n",
       "      <td>yay</td>\n",
       "      <td>6.788627</td>\n",
       "    </tr>\n",
       "    <tr>\n",
       "      <th>2240816</th>\n",
       "      <td>proud</td>\n",
       "      <td>6.702898</td>\n",
       "    </tr>\n",
       "  </tbody>\n",
       "</table>\n",
       "</div>"
      ],
      "text/plain": [
       "             feature  coefficient\n",
       "481633     cant wait    12.497029\n",
       "1984132      not bad    12.026608\n",
       "1994647     not wait    11.529978\n",
       "1970023   no problem    10.734823\n",
       "2819576       thanks     8.899659\n",
       "2816801        thank     8.881687\n",
       "480290   cannot wait     8.493717\n",
       "1260155        happy     8.460817\n",
       "1992148      not sad     8.350655\n",
       "3183343    wish luck     8.263524\n",
       "1989875     not miss     7.695111\n",
       "923645       excited     7.561853\n",
       "2598365        smile     7.542381\n",
       "3144242      welcome     7.244576\n",
       "1686941         love     7.185606\n",
       "1972617     no worry     7.076716\n",
       "1171735         good     7.002335\n",
       "1988365     not hurt     6.949598\n",
       "3252311          yay     6.788627\n",
       "2240816        proud     6.702898"
      ]
     },
     "execution_count": 110,
     "metadata": {},
     "output_type": "execute_result"
    }
   ],
   "source": [
    "top_pos_features.sort_values(by='coefficient', ascending=False)"
   ]
  },
  {
   "cell_type": "markdown",
   "id": "17f9ed7a",
   "metadata": {},
   "source": [
    "We can see words like \"can't wait\", \"happy\", \"excited\", \"love\", \"good\" appearing in the most important words leading to a positive classification."
   ]
  },
  {
   "cell_type": "code",
   "execution_count": 112,
   "id": "c8cf3290",
   "metadata": {},
   "outputs": [],
   "source": [
    "# Add a column to our dataframe with the absolute value of the coefficient\n",
    "feature_importance_df['|coefficient|'] = abs(feature_importance_df['coefficient'])"
   ]
  },
  {
   "cell_type": "code",
   "execution_count": 113,
   "id": "db0ffe51",
   "metadata": {},
   "outputs": [
    {
     "data": {
      "text/html": [
       "<div>\n",
       "<style scoped>\n",
       "    .dataframe tbody tr th:only-of-type {\n",
       "        vertical-align: middle;\n",
       "    }\n",
       "\n",
       "    .dataframe tbody tr th {\n",
       "        vertical-align: top;\n",
       "    }\n",
       "\n",
       "    .dataframe thead th {\n",
       "        text-align: right;\n",
       "    }\n",
       "</style>\n",
       "<table border=\"1\" class=\"dataframe\">\n",
       "  <thead>\n",
       "    <tr style=\"text-align: right;\">\n",
       "      <th></th>\n",
       "      <th>feature</th>\n",
       "      <th>coefficient</th>\n",
       "      <th>|coefficient|</th>\n",
       "    </tr>\n",
       "  </thead>\n",
       "  <tbody>\n",
       "    <tr>\n",
       "      <th>0</th>\n",
       "      <td>0</td>\n",
       "      <td>-1.354240</td>\n",
       "      <td>1.354240</td>\n",
       "    </tr>\n",
       "    <tr>\n",
       "      <th>1</th>\n",
       "      <td>0 0</td>\n",
       "      <td>0.303968</td>\n",
       "      <td>0.303968</td>\n",
       "    </tr>\n",
       "    <tr>\n",
       "      <th>2</th>\n",
       "      <td>0 00</td>\n",
       "      <td>0.028954</td>\n",
       "      <td>0.028954</td>\n",
       "    </tr>\n",
       "    <tr>\n",
       "      <th>3</th>\n",
       "      <td>0 0001</td>\n",
       "      <td>-0.193227</td>\n",
       "      <td>0.193227</td>\n",
       "    </tr>\n",
       "    <tr>\n",
       "      <th>4</th>\n",
       "      <td>0 00014</td>\n",
       "      <td>-0.200772</td>\n",
       "      <td>0.200772</td>\n",
       "    </tr>\n",
       "    <tr>\n",
       "      <th>...</th>\n",
       "      <td>...</td>\n",
       "      <td>...</td>\n",
       "      <td>...</td>\n",
       "    </tr>\n",
       "    <tr>\n",
       "      <th>3294892</th>\n",
       "      <td>zzzs u</td>\n",
       "      <td>0.053984</td>\n",
       "      <td>0.053984</td>\n",
       "    </tr>\n",
       "    <tr>\n",
       "      <th>3294893</th>\n",
       "      <td>zzzuu</td>\n",
       "      <td>-0.183886</td>\n",
       "      <td>0.183886</td>\n",
       "    </tr>\n",
       "    <tr>\n",
       "      <th>3294894</th>\n",
       "      <td>zzzuu adios</td>\n",
       "      <td>-0.183886</td>\n",
       "      <td>0.183886</td>\n",
       "    </tr>\n",
       "    <tr>\n",
       "      <th>3294895</th>\n",
       "      <td>zzzy</td>\n",
       "      <td>-0.156241</td>\n",
       "      <td>0.156241</td>\n",
       "    </tr>\n",
       "    <tr>\n",
       "      <th>3294896</th>\n",
       "      <td>zzzy office</td>\n",
       "      <td>-0.156241</td>\n",
       "      <td>0.156241</td>\n",
       "    </tr>\n",
       "  </tbody>\n",
       "</table>\n",
       "<p>3294897 rows × 3 columns</p>\n",
       "</div>"
      ],
      "text/plain": [
       "             feature  coefficient  |coefficient|\n",
       "0                  0    -1.354240       1.354240\n",
       "1                0 0     0.303968       0.303968\n",
       "2               0 00     0.028954       0.028954\n",
       "3             0 0001    -0.193227       0.193227\n",
       "4            0 00014    -0.200772       0.200772\n",
       "...              ...          ...            ...\n",
       "3294892       zzzs u     0.053984       0.053984\n",
       "3294893        zzzuu    -0.183886       0.183886\n",
       "3294894  zzzuu adios    -0.183886       0.183886\n",
       "3294895         zzzy    -0.156241       0.156241\n",
       "3294896  zzzy office    -0.156241       0.156241\n",
       "\n",
       "[3294897 rows x 3 columns]"
      ]
     },
     "execution_count": 113,
     "metadata": {},
     "output_type": "execute_result"
    }
   ],
   "source": [
    "feature_importance_df"
   ]
  },
  {
   "cell_type": "code",
   "execution_count": 114,
   "id": "f8276c10",
   "metadata": {},
   "outputs": [],
   "source": [
    "# Find the top 20 overall most impactful features regardless of what class they relate to\n",
    "top_20_features = feature_importance_df.sort_values(by='|coefficient|', ascending=False).round(6).head(20)[['feature', 'coefficient']]"
   ]
  },
  {
   "cell_type": "code",
   "execution_count": 115,
   "id": "c8b431d4",
   "metadata": {},
   "outputs": [
    {
     "data": {
      "text/html": [
       "<div>\n",
       "<style scoped>\n",
       "    .dataframe tbody tr th:only-of-type {\n",
       "        vertical-align: middle;\n",
       "    }\n",
       "\n",
       "    .dataframe tbody tr th {\n",
       "        vertical-align: top;\n",
       "    }\n",
       "\n",
       "    .dataframe thead th {\n",
       "        text-align: right;\n",
       "    }\n",
       "</style>\n",
       "<table border=\"1\" class=\"dataframe\">\n",
       "  <thead>\n",
       "    <tr style=\"text-align: right;\">\n",
       "      <th></th>\n",
       "      <th>feature</th>\n",
       "      <th>coefficient</th>\n",
       "    </tr>\n",
       "  </thead>\n",
       "  <tbody>\n",
       "    <tr>\n",
       "      <th>2425263</th>\n",
       "      <td>sad</td>\n",
       "      <td>-20.945463</td>\n",
       "    </tr>\n",
       "    <tr>\n",
       "      <th>1821196</th>\n",
       "      <td>miss</td>\n",
       "      <td>-14.668852</td>\n",
       "    </tr>\n",
       "    <tr>\n",
       "      <th>2191056</th>\n",
       "      <td>poor</td>\n",
       "      <td>-12.527180</td>\n",
       "    </tr>\n",
       "    <tr>\n",
       "      <th>481633</th>\n",
       "      <td>cant wait</td>\n",
       "      <td>12.497029</td>\n",
       "    </tr>\n",
       "    <tr>\n",
       "      <th>1984132</th>\n",
       "      <td>not bad</td>\n",
       "      <td>12.026608</td>\n",
       "    </tr>\n",
       "    <tr>\n",
       "      <th>3181435</th>\n",
       "      <td>wish</td>\n",
       "      <td>-11.998884</td>\n",
       "    </tr>\n",
       "    <tr>\n",
       "      <th>1830002</th>\n",
       "      <td>missing</td>\n",
       "      <td>-11.885372</td>\n",
       "    </tr>\n",
       "    <tr>\n",
       "      <th>1983191</th>\n",
       "      <td>not</td>\n",
       "      <td>-11.809522</td>\n",
       "    </tr>\n",
       "    <tr>\n",
       "      <th>1994647</th>\n",
       "      <td>not wait</td>\n",
       "      <td>11.529978</td>\n",
       "    </tr>\n",
       "    <tr>\n",
       "      <th>2552273</th>\n",
       "      <td>sick</td>\n",
       "      <td>-11.491266</td>\n",
       "    </tr>\n",
       "    <tr>\n",
       "      <th>2430295</th>\n",
       "      <td>sadly</td>\n",
       "      <td>-11.229117</td>\n",
       "    </tr>\n",
       "    <tr>\n",
       "      <th>1274942</th>\n",
       "      <td>hate</td>\n",
       "      <td>-10.747812</td>\n",
       "    </tr>\n",
       "    <tr>\n",
       "      <th>1970023</th>\n",
       "      <td>no problem</td>\n",
       "      <td>10.734823</td>\n",
       "    </tr>\n",
       "    <tr>\n",
       "      <th>1386830</th>\n",
       "      <td>hurt</td>\n",
       "      <td>-10.288156</td>\n",
       "    </tr>\n",
       "    <tr>\n",
       "      <th>759016</th>\n",
       "      <td>died</td>\n",
       "      <td>-10.205354</td>\n",
       "    </tr>\n",
       "    <tr>\n",
       "      <th>3010710</th>\n",
       "      <td>unfortunately</td>\n",
       "      <td>-10.191770</td>\n",
       "    </tr>\n",
       "    <tr>\n",
       "      <th>2723617</th>\n",
       "      <td>suck</td>\n",
       "      <td>-10.159836</td>\n",
       "    </tr>\n",
       "    <tr>\n",
       "      <th>1679594</th>\n",
       "      <td>lost</td>\n",
       "      <td>-10.066721</td>\n",
       "    </tr>\n",
       "    <tr>\n",
       "      <th>1964139</th>\n",
       "      <td>no</td>\n",
       "      <td>-9.979561</td>\n",
       "    </tr>\n",
       "    <tr>\n",
       "      <th>424046</th>\n",
       "      <td>broke</td>\n",
       "      <td>-9.727996</td>\n",
       "    </tr>\n",
       "  </tbody>\n",
       "</table>\n",
       "</div>"
      ],
      "text/plain": [
       "               feature  coefficient\n",
       "2425263            sad   -20.945463\n",
       "1821196           miss   -14.668852\n",
       "2191056           poor   -12.527180\n",
       "481633       cant wait    12.497029\n",
       "1984132        not bad    12.026608\n",
       "3181435           wish   -11.998884\n",
       "1830002        missing   -11.885372\n",
       "1983191            not   -11.809522\n",
       "1994647       not wait    11.529978\n",
       "2552273           sick   -11.491266\n",
       "2430295          sadly   -11.229117\n",
       "1274942           hate   -10.747812\n",
       "1970023     no problem    10.734823\n",
       "1386830           hurt   -10.288156\n",
       "759016            died   -10.205354\n",
       "3010710  unfortunately   -10.191770\n",
       "2723617           suck   -10.159836\n",
       "1679594           lost   -10.066721\n",
       "1964139             no    -9.979561\n",
       "424046           broke    -9.727996"
      ]
     },
     "execution_count": 115,
     "metadata": {},
     "output_type": "execute_result"
    }
   ],
   "source": [
    "top_20_features"
   ]
  },
  {
   "cell_type": "markdown",
   "id": "52e04773",
   "metadata": {},
   "source": [
    "## Plots"
   ]
  },
  {
   "cell_type": "markdown",
   "id": "a028201e",
   "metadata": {},
   "source": [
    "### Plot the most important features"
   ]
  },
  {
   "cell_type": "code",
   "execution_count": 116,
   "id": "b151b098",
   "metadata": {},
   "outputs": [
    {
     "data": {
      "image/png": "[encoded data removed]",
      "text/plain": [
       "<Figure size 864x576 with 1 Axes>"
      ]
     },
     "metadata": {},
     "output_type": "display_data"
    }
   ],
   "source": [
    "fig, ax = plt.subplots(1, 1, figsize=[12,8])\n",
    "sns.barplot(x=\"feature\", y=\"coefficient\", data=top_20_features)\n",
    "ax.set_title(\"Top 20 Important Features\", fontsize=20)\n",
    "ax.set_xticklabels(ax.get_xticklabels(), fontsize=16, rotation=90)\n",
    "ax.set_xlabel(\"Feature\", fontsize=18)\n",
    "ax.set_ylabel(\"Importance\", fontsize=18)\n",
    "plt.show()"
   ]
  },
  {
   "cell_type": "markdown",
   "id": "36713a78",
   "metadata": {},
   "source": [
    "### Plot the top 20 positive features"
   ]
  },
  {
   "cell_type": "code",
   "execution_count": 117,
   "id": "a19051e4",
   "metadata": {},
   "outputs": [
    {
     "data": {
      "image/png": "[encoded data removed]",
      "text/plain": [
       "<Figure size 864x576 with 1 Axes>"
      ]
     },
     "metadata": {},
     "output_type": "display_data"
    }
   ],
   "source": [
    "fig, ax = plt.subplots(1, 1, figsize=[12,8])\n",
    "sns.barplot(x='feature', y='coefficient', data=top_pos_features).invert_xaxis()\n",
    "ax.set_title(\"Top 20 Positive Features\", fontsize=20)\n",
    "ax.set_xticklabels(ax.get_xticklabels(), fontsize=16, rotation=90)\n",
    "ax.set_xlabel(\"Feature\", fontsize=18)\n",
    "ax.set_ylabel(\"Importance\", fontsize=18)\n",
    "plt.show()"
   ]
  },
  {
   "cell_type": "markdown",
   "id": "8372b35a",
   "metadata": {},
   "source": [
    "### Plot the top 20 negative features"
   ]
  },
  {
   "cell_type": "code",
   "execution_count": 118,
   "id": "bcaf8d41",
   "metadata": {},
   "outputs": [
    {
     "data": {
      "image/png": "[encoded data removed]",
      "text/plain": [
       "<Figure size 864x576 with 1 Axes>"
      ]
     },
     "metadata": {},
     "output_type": "display_data"
    }
   ],
   "source": [
    "fig, ax = plt.subplots(1, 1, figsize=[12,8])\n",
    "sns.barplot(x='feature', y='coefficient', data=top_neg_features).invert_yaxis()\n",
    "ax.set_title(\"Top 20 Negative Features\", fontsize=20)\n",
    "ax.set_xticklabels(ax.get_xticklabels(), fontsize=16, rotation=90)\n",
    "ax.set_xlabel(\"Feature\", fontsize=18)\n",
    "ax.set_ylabel(\"Importance\", fontsize=18)\n",
    "plt.show()"
   ]
  },
  {
   "cell_type": "markdown",
   "id": "bab30816",
   "metadata": {},
   "source": [
    "## Code to load the model from the pickle file to make predictions on new data in the future"
   ]
  },
  {
   "cell_type": "code",
   "execution_count": 132,
   "id": "90434ea7",
   "metadata": {},
   "outputs": [],
   "source": [
    "# Load the pickle file\n",
    "model = pickle.load(open('final_model.pkl', 'rb'))"
   ]
  },
  {
   "cell_type": "code",
   "execution_count": null,
   "id": "c0ff9d16",
   "metadata": {},
   "outputs": [],
   "source": []
  }
 ],
 "metadata": {
  "kernelspec": {
   "display_name": "Python 3 (ipykernel)",
   "language": "python",
   "name": "python3"
  },
  "language_info": {
   "codemirror_mode": {
    "name": "ipython",
    "version": 3
   },
   "file_extension": ".py",
   "mimetype": "text/x-python",
   "name": "python",
   "nbconvert_exporter": "python",
   "pygments_lexer": "ipython3",
   "version": "3.8.12"
  }
 },
 "nbformat": 4,
 "nbformat_minor": 5
}
